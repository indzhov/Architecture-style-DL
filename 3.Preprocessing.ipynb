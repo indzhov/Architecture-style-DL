{
 "cells": [
  {
   "cell_type": "markdown",
   "metadata": {},
   "source": [
    "### First of all, we have to proceed the images in the appropriate format for modeling. This include the little augmentation, trying to prevent overfiting. "
   ]
  },
  {
   "cell_type": "markdown",
   "metadata": {},
   "source": [
    "### Imports "
   ]
  },
  {
   "cell_type": "code",
   "execution_count": 11,
   "metadata": {
    "executionInfo": {
     "elapsed": 828,
     "status": "ok",
     "timestamp": 1613518052327,
     "user": {
      "displayName": "Dimitar Indzhov",
      "photoUrl": "",
      "userId": "13032122627070087276"
     },
     "user_tz": -120
    },
    "id": "gZ9HR-BhVx1X"
   },
   "outputs": [],
   "source": [
    "from google.colab import drive\n",
    "import os \n",
    "import cv2\n",
    "import numpy as np\n",
    "import time\n",
    "import pandas as pd\n",
    "import pickle"
   ]
  },
  {
   "cell_type": "code",
   "execution_count": 9,
   "metadata": {
    "colab": {
     "base_uri": "https://localhost:8080/"
    },
    "executionInfo": {
     "elapsed": 1034,
     "status": "ok",
     "timestamp": 1613518002641,
     "user": {
      "displayName": "Dimitar Indzhov",
      "photoUrl": "",
      "userId": "13032122627070087276"
     },
     "user_tz": -120
    },
    "id": "O2jqwIMGXUkr",
    "outputId": "b7a4d2db-fb89-4c5c-f024-cab38be49a4d"
   },
   "outputs": [
    {
     "name": "stdout",
     "output_type": "stream",
     "text": [
      "Drive already mounted at /content/drive; to attempt to forcibly remount, call drive.mount(\"/content/drive\", force_remount=True).\n"
     ]
    }
   ],
   "source": [
    "drive.mount('/content/drive')"
   ]
  },
  {
   "cell_type": "code",
   "execution_count": 4,
   "metadata": {
    "colab": {
     "base_uri": "https://localhost:8080/"
    },
    "executionInfo": {
     "elapsed": 1770,
     "status": "ok",
     "timestamp": 1613517909097,
     "user": {
      "displayName": "Dimitar Indzhov",
      "photoUrl": "",
      "userId": "13032122627070087276"
     },
     "user_tz": -120
    },
    "id": "k5jW6i-uNfhN",
    "outputId": "f7b8629b-0b5f-499c-8c87-fc4991256533"
   },
   "outputs": [
    {
     "name": "stdout",
     "output_type": "stream",
     "text": [
      "['Achaemenid architecture', 'American Foursquare architecture', 'American craftsman style', 'Ancient Egyptian architecture', 'Art Deco architecture', 'Art Nouveau architecture', 'Baroque architecture', 'Bauhaus architecture', 'Beaux-Arts architecture', 'Byzantine architecture', 'Chicago school architecture', 'Colonial architecture', 'Deconstructivism', 'Edwardian architecture', 'Georgian architecture', 'Gothic architecture', 'Greek Revival architecture', 'International style', 'Novelty architecture', 'Palladian architecture', 'Postmodern architecture', 'Queen Anne architecture', 'Romanesque architecture', 'Russian Revival architecture', 'Tudor Revival architecture']\n",
      "25\n"
     ]
    }
   ],
   "source": [
    "styles = os.listdir('/content/drive/MyDrive/DL/Project/my_data')\n",
    "n_classes = (len(styles))\n",
    "print(styles)\n",
    "print(n_classes)"
   ]
  },
  {
   "cell_type": "code",
   "execution_count": 5,
   "metadata": {
    "executionInfo": {
     "elapsed": 672,
     "status": "ok",
     "timestamp": 1613517923284,
     "user": {
      "displayName": "Dimitar Indzhov",
      "photoUrl": "",
      "userId": "13032122627070087276"
     },
     "user_tz": -120
    },
    "id": "VUvhuXCYwr-v"
   },
   "outputs": [],
   "source": [
    "# Constants : \n",
    "size = 224\n",
    "imgSize = (size, size)"
   ]
  },
  {
   "cell_type": "code",
   "execution_count": 12,
   "metadata": {
    "executionInfo": {
     "elapsed": 641,
     "status": "ok",
     "timestamp": 1613518055333,
     "user": {
      "displayName": "Dimitar Indzhov",
      "photoUrl": "",
      "userId": "13032122627070087276"
     },
     "user_tz": -120
    },
    "id": "0G_ppkKhr9wr"
   },
   "outputs": [],
   "source": [
    "def rotateImage(img, angle):\n",
    "    (rows, cols, ch) = img.shape\n",
    "    M = cv2.getRotationMatrix2D((cols/2,rows/2), angle, 1)\n",
    "    return cv2.warpAffine(img, M, (cols,rows))\n",
    "\n",
    "def loadImg(path, imgSize, classLable, classSize):\n",
    "    img = cv2.imread(path)\n",
    "    img = cv2.resize(img, imgSize)\n",
    "    angle = np.random.randint(-10, 10)\n",
    "    img = rotateImage(img, angle)\n",
    "    img = cv2.blur(img,(5,5))\n",
    "    img = preprocess_input(img)\n",
    "\n",
    "    x.append(img)\n",
    "    y.append(classLable)\n",
    "    return x, y"
   ]
  },
  {
   "cell_type": "code",
   "execution_count": 13,
   "metadata": {
    "executionInfo": {
     "elapsed": 818,
     "status": "ok",
     "timestamp": 1613518058892,
     "user": {
      "displayName": "Dimitar Indzhov",
      "photoUrl": "",
      "userId": "13032122627070087276"
     },
     "user_tz": -120
    },
    "id": "MXBBhj_nuQQd"
   },
   "outputs": [],
   "source": [
    "paths = []\n",
    "for i in range(len(styles)):\n",
    "  paths.append('/content/drive/MyDrive/DL/Project/my_data/' + '{}'.format(styles[i]))"
   ]
  },
  {
   "cell_type": "markdown",
   "metadata": {},
   "source": [
    "Please note we will do 2 processings, each for the different model. This is because their preprocess_input is different. Thus we will import the appropriate module before each preprocess . "
   ]
  },
  {
   "cell_type": "code",
   "execution_count": 3,
   "metadata": {
    "executionInfo": {
     "elapsed": 2476,
     "status": "ok",
     "timestamp": 1613517906344,
     "user": {
      "displayName": "Dimitar Indzhov",
      "photoUrl": "",
      "userId": "13032122627070087276"
     },
     "user_tz": -120
    },
    "id": "Bb7YmMwMKMcI"
   },
   "outputs": [],
   "source": [
    "from tensorflow.keras.applications.inception_v3 import preprocess_input"
   ]
  },
  {
   "cell_type": "code",
   "execution_count": 14,
   "metadata": {
    "colab": {
     "base_uri": "https://localhost:8080/"
    },
    "executionInfo": {
     "elapsed": 4431853,
     "status": "ok",
     "timestamp": 1613522489955,
     "user": {
      "displayName": "Dimitar Indzhov",
      "photoUrl": "",
      "userId": "13032122627070087276"
     },
     "user_tz": -120
    },
    "id": "7BSHxvnts7CU",
    "outputId": "3cdee531-03aa-4145-bc5b-b7951663a68d"
   },
   "outputs": [
    {
     "name": "stdout",
     "output_type": "stream",
     "text": [
      "The images are pre-processed for: 4430.712711572647 seconds\n"
     ]
    }
   ],
   "source": [
    "x = []\n",
    "y = []\n",
    "\n",
    "\n",
    "time_start = time.time()\n",
    "for path in paths:\n",
    "  list = os.listdir(path)\n",
    "  lenght = len(list)\n",
    "  for i in range(lenght):\n",
    "    for style in styles:\n",
    "      if style in path:\n",
    "        try:\n",
    "          img = '{}'.format(list[i])\n",
    "          full_path = path +\"/\"+ img\n",
    "          img = loadImg(full_path, imgSize, style, lenght)\n",
    "        except Exception as e:\n",
    "          continue\n",
    "print('The images are pre-processed for: {} seconds'.format(time.time()-time_start))"
   ]
  },
  {
   "cell_type": "code",
   "execution_count": 15,
   "metadata": {
    "executionInfo": {
     "elapsed": 1170,
     "status": "ok",
     "timestamp": 1613522491189,
     "user": {
      "displayName": "Dimitar Indzhov",
      "photoUrl": "",
      "userId": "13032122627070087276"
     },
     "user_tz": -120
    },
    "id": "P_lV4P3I71aB"
   },
   "outputs": [],
   "source": [
    "PIK = \"/content/drive/MyDrive/DL/Project/x_inception.dat\"\n",
    "PIK1 = \"/content/drive/MyDrive/DL/Project/y_inception.dat\""
   ]
  },
  {
   "cell_type": "code",
   "execution_count": 16,
   "metadata": {
    "executionInfo": {
     "elapsed": 189764,
     "status": "ok",
     "timestamp": 1613522679808,
     "user": {
      "displayName": "Dimitar Indzhov",
      "photoUrl": "",
      "userId": "13032122627070087276"
     },
     "user_tz": -120
    },
    "id": "S7XEbRVw6dnz"
   },
   "outputs": [],
   "source": [
    "with open(PIK, \"wb\") as f:\n",
    "    pickle.dump(len(x), f)\n",
    "    for value in x:\n",
    "        pickle.dump(value, f)"
   ]
  },
  {
   "cell_type": "code",
   "execution_count": 17,
   "metadata": {
    "executionInfo": {
     "elapsed": 190129,
     "status": "ok",
     "timestamp": 1613522680190,
     "user": {
      "displayName": "Dimitar Indzhov",
      "photoUrl": "",
      "userId": "13032122627070087276"
     },
     "user_tz": -120
    },
    "id": "R6D1thT46suB"
   },
   "outputs": [],
   "source": [
    "with open(PIK1, \"wb\") as f:\n",
    "    pickle.dump(len(y), f)\n",
    "    for value in y:\n",
    "        pickle.dump(value, f)"
   ]
  },
  {
   "cell_type": "code",
   "execution_count": 18,
   "metadata": {
    "executionInfo": {
     "elapsed": 769,
     "status": "ok",
     "timestamp": 1613522799231,
     "user": {
      "displayName": "Dimitar Indzhov",
      "photoUrl": "",
      "userId": "13032122627070087276"
     },
     "user_tz": -120
    },
    "id": "vCjLTJZ18oL6"
   },
   "outputs": [],
   "source": [
    "from tensorflow.keras.applications.resnet50 import preprocess_input"
   ]
  },
  {
   "cell_type": "code",
   "execution_count": 19,
   "metadata": {
    "colab": {
     "base_uri": "https://localhost:8080/"
    },
    "executionInfo": {
     "elapsed": 219819,
     "status": "ok",
     "timestamp": 1613523021456,
     "user": {
      "displayName": "Dimitar Indzhov",
      "photoUrl": "",
      "userId": "13032122627070087276"
     },
     "user_tz": -120
    },
    "id": "ghAmYISmLfL3",
    "outputId": "5cc86578-e426-497e-9f48-6aaebdb9d779"
   },
   "outputs": [
    {
     "name": "stdout",
     "output_type": "stream",
     "text": [
      "The images are pre-processed for: 219.17655968666077 seconds\n"
     ]
    }
   ],
   "source": [
    "x = []\n",
    "y = []\n",
    "\n",
    "\n",
    "time_start = time.time()\n",
    "for path in paths:\n",
    "  list = os.listdir(path)\n",
    "  lenght = len(list)\n",
    "  for i in range(lenght):\n",
    "    for style in styles:\n",
    "      if style in path:\n",
    "        try:\n",
    "          img = '{}'.format(list[i])\n",
    "          full_path = path +\"/\"+ img\n",
    "          img = loadImg(full_path, imgSize, style, lenght)\n",
    "        except Exception as e:\n",
    "          continue\n",
    "print('The images are pre-processed for: {} seconds'.format(time.time()-time_start))"
   ]
  },
  {
   "cell_type": "code",
   "execution_count": 20,
   "metadata": {
    "executionInfo": {
     "elapsed": 714,
     "status": "ok",
     "timestamp": 1613523134096,
     "user": {
      "displayName": "Dimitar Indzhov",
      "photoUrl": "",
      "userId": "13032122627070087276"
     },
     "user_tz": -120
    },
    "id": "1qhytP_2Ljwg"
   },
   "outputs": [],
   "source": [
    "PIK2 = \"/content/drive/MyDrive/DL/Project/x_resnet.dat\"\n",
    "PIK3 = \"/content/drive/MyDrive/DL/Project/y_resnet.dat\""
   ]
  },
  {
   "cell_type": "code",
   "execution_count": 21,
   "metadata": {
    "executionInfo": {
     "elapsed": 94409,
     "status": "ok",
     "timestamp": 1613523229377,
     "user": {
      "displayName": "Dimitar Indzhov",
      "photoUrl": "",
      "userId": "13032122627070087276"
     },
     "user_tz": -120
    },
    "id": "-1tBKrATLtbx"
   },
   "outputs": [],
   "source": [
    "with open(PIK2, \"wb\") as f:\n",
    "    pickle.dump(len(x), f)\n",
    "    for value in x:\n",
    "        pickle.dump(value, f)"
   ]
  },
  {
   "cell_type": "code",
   "execution_count": 22,
   "metadata": {
    "executionInfo": {
     "elapsed": 94264,
     "status": "ok",
     "timestamp": 1613523229958,
     "user": {
      "displayName": "Dimitar Indzhov",
      "photoUrl": "",
      "userId": "13032122627070087276"
     },
     "user_tz": -120
    },
    "id": "Xji682cuLv3T"
   },
   "outputs": [],
   "source": [
    "with open(PIK3, \"wb\") as f:\n",
    "    pickle.dump(len(y), f)\n",
    "    for value in y:\n",
    "        pickle.dump(value, f)"
   ]
  },
  {
   "cell_type": "markdown",
   "metadata": {},
   "source": [
    "# Done . \n",
    "The steps were not so much. However, we had to dedicate a separate notebook for this step, because both processings took almost the whole RAM of the Colab Notebook. Now we have them prepared and saved into pickle files, which would made their loading easier in the later notebooks without taking so much of our RAM memory. "
   ]
  }
 ],
 "metadata": {
  "colab": {
   "collapsed_sections": [],
   "name": "3.Preprocessing.ipynb",
   "provenance": []
  },
  "kernelspec": {
   "display_name": "Python 3",
   "language": "python",
   "name": "python3"
  },
  "language_info": {
   "codemirror_mode": {
    "name": "ipython",
    "version": 3
   },
   "file_extension": ".py",
   "mimetype": "text/x-python",
   "name": "python",
   "nbconvert_exporter": "python",
   "pygments_lexer": "ipython3",
   "version": "3.7.7"
  }
 },
 "nbformat": 4,
 "nbformat_minor": 1
}
