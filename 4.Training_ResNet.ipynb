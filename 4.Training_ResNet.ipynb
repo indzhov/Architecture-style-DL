{
 "cells": [
  {
   "cell_type": "markdown",
   "metadata": {},
   "source": [
    "### Now there is the time for ResNet. Again we will train the two models separately. The reason is again related to the limited RAM memory. "
   ]
  },
  {
   "cell_type": "markdown",
   "metadata": {},
   "source": [
    "### Imports : "
   ]
  },
  {
   "cell_type": "code",
   "execution_count": null,
   "metadata": {
    "executionInfo": {
     "elapsed": 4297,
     "status": "ok",
     "timestamp": 1614009710533,
     "user": {
      "displayName": "Dimitar Indzhov",
      "photoUrl": "",
      "userId": "13032122627070087276"
     },
     "user_tz": -120
    },
    "id": "gZ9HR-BhVx1X"
   },
   "outputs": [],
   "source": [
    "import os \n",
    "import tempfile\n",
    "import cv2\n",
    "import numpy as np\n",
    "import matplotlib.pyplot as plt\n",
    "import pandas as pd\n",
    "import tensorflow as tf\n",
    "\n",
    "from sklearn.model_selection import train_test_split\n",
    "from tensorflow.keras.models import Model\n",
    "from tensorflow.keras.applications.resnet50 import ResNet50\n",
    "from tensorflow.keras.layers import Input, Dense, Flatten, GlobalAveragePooling2D, Dropout\n",
    "from tensorflow.keras import metrics\n",
    "from tensorflow.keras.optimizers import Adam\n",
    "from keras.utils.np_utils import to_categorical\n",
    "from tensorflow.keras.callbacks import TensorBoard\n",
    "from tensorflow.keras.callbacks import EarlyStopping\n",
    "from sklearn.metrics import confusion_matrix\n",
    "from tensorflow.keras.models import load_model\n",
    "from tensorflow.keras.applications.resnet50 import preprocess_input\n",
    "from sklearn.metrics import classification_report, confusion_matrix\n",
    "import itertools\n",
    "import time\n",
    "import pickle"
   ]
  },
  {
   "cell_type": "code",
   "execution_count": 2,
   "metadata": {
    "colab": {
     "base_uri": "https://localhost:8080/"
    },
    "executionInfo": {
     "elapsed": 28873,
     "status": "ok",
     "timestamp": 1614009735165,
     "user": {
      "displayName": "Dimitar Indzhov",
      "photoUrl": "",
      "userId": "13032122627070087276"
     },
     "user_tz": -120
    },
    "id": "O2jqwIMGXUkr",
    "outputId": "56844f69-6123-46ca-a8ad-bac03603d923"
   },
   "outputs": [
    {
     "name": "stdout",
     "output_type": "stream",
     "text": [
      "Mounted at /content/drive\n"
     ]
    }
   ],
   "source": [
    "drive.mount('/content/drive')"
   ]
  },
  {
   "cell_type": "code",
   "execution_count": 3,
   "metadata": {
    "colab": {
     "base_uri": "https://localhost:8080/"
    },
    "executionInfo": {
     "elapsed": 7739,
     "status": "ok",
     "timestamp": 1614009737589,
     "user": {
      "displayName": "Dimitar Indzhov",
      "photoUrl": "",
      "userId": "13032122627070087276"
     },
     "user_tz": -120
    },
    "id": "K-HbBt4b7eM8",
    "outputId": "a25a9e1f-836e-481f-e048-fa89caac6006"
   },
   "outputs": [
    {
     "name": "stdout",
     "output_type": "stream",
     "text": [
      "['Achaemenid architecture', 'American Foursquare architecture', 'American craftsman style', 'Ancient Egyptian architecture', 'Art Deco architecture', 'Art Nouveau architecture', 'Baroque architecture', 'Bauhaus architecture', 'Beaux-Arts architecture', 'Byzantine architecture', 'Chicago school architecture', 'Colonial architecture', 'Deconstructivism', 'Edwardian architecture', 'Georgian architecture', 'Gothic architecture', 'Greek Revival architecture', 'International style', 'Novelty architecture', 'Palladian architecture', 'Postmodern architecture', 'Queen Anne architecture', 'Romanesque architecture', 'Russian Revival architecture', 'Tudor Revival architecture']\n",
      "25\n"
     ]
    }
   ],
   "source": [
    "# Constants : \n",
    "styles = os.listdir('/content/drive/MyDrive/DL/Project/my_data')\n",
    "n_classes = (len(styles))\n",
    "print(styles)\n",
    "print(n_classes)"
   ]
  },
  {
   "cell_type": "code",
   "execution_count": 4,
   "metadata": {
    "executionInfo": {
     "elapsed": 5400,
     "status": "ok",
     "timestamp": 1614009737594,
     "user": {
      "displayName": "Dimitar Indzhov",
      "photoUrl": "",
      "userId": "13032122627070087276"
     },
     "user_tz": -120
    },
    "id": "EUVwXC6A57Y7"
   },
   "outputs": [],
   "source": [
    "# Constants : \n",
    "size = 224\n",
    "imgSize = (size, size)"
   ]
  },
  {
   "cell_type": "code",
   "execution_count": 5,
   "metadata": {
    "executionInfo": {
     "elapsed": 1023,
     "status": "ok",
     "timestamp": 1614009741115,
     "user": {
      "displayName": "Dimitar Indzhov",
      "photoUrl": "",
      "userId": "13032122627070087276"
     },
     "user_tz": -120
    },
    "id": "pEvpukyTdfGA"
   },
   "outputs": [],
   "source": [
    "def plot_confusion_matrix(cm, classes,\n",
    "                          normalize=False,\n",
    "                          title='Confusion matrix',\n",
    "                          cmap=plt.cm.Reds):\n",
    "    \"\"\"\n",
    "    This function prints and plots the confusion matrix.\n",
    "    Normalization can be applied by setting `normalize=True`.\n",
    "    \"\"\"\n",
    "    if normalize:\n",
    "        cm = cm.astype('float') / cm.sum(axis=1)[:, np.newaxis]\n",
    "        print(\"Normalized confusion matrix\")\n",
    "    else:\n",
    "        print('Confusion matrix, without normalization')\n",
    "\n",
    "    #print(cm)\n",
    "\n",
    "    plt.imshow(cm, interpolation='nearest', cmap=cmap)\n",
    "    plt.title(title,fontsize=20)\n",
    "    plt.colorbar(shrink=0.75)\n",
    "    tick_marks = np.arange(len(classes))\n",
    "    plt.xticks(tick_marks, classes, fontsize=12, rotation='vertical')\n",
    "    plt.yticks(tick_marks, classes, fontsize=12)\n",
    "\n",
    "    fmt = '.2f' if normalize else 'd'\n",
    "    thresh = cm.max() / 2.\n",
    "    for i, j in itertools.product(range(cm.shape[0]), range(cm.shape[1])):\n",
    "        plt.text(j, i, format(cm[i, j], fmt),\n",
    "                 horizontalalignment=\"center\",\n",
    "                 color=\"white\" if cm[i, j] > thresh else \"black\",\n",
    "                 fontsize=12)\n",
    "\n",
    "    plt.tight_layout()\n",
    "    plt.ylabel('Actual label',fontsize=20)\n",
    "    plt.xlabel('Predicted label',fontsize=20)"
   ]
  },
  {
   "cell_type": "code",
   "execution_count": null,
   "metadata": {
    "id": "YECQwRBVG9ri"
   },
   "outputs": [],
   "source": [
    "def add_regularization(model, regularizer=tf.keras.regularizers.l2(0.0001)):\n",
    "\n",
    "    if not isinstance(regularizer, tf.keras.regularizers.Regularizer):\n",
    "      print(\"Regularizer must be a subclass of tf.keras.regularizers.Regularizer\")\n",
    "      return model\n",
    "\n",
    "    for layer in model.layers:\n",
    "        for attr in ['kernel_regularizer']:\n",
    "            if hasattr(layer, attr):\n",
    "              setattr(layer, attr, regularizer)\n",
    "\n",
    "    # When we change the layers attributes, the change only happens in the model config file\n",
    "    model_json = model.to_json()\n",
    "\n",
    "    # Save the weights before reloading the model.\n",
    "    tmp_weights_path = os.path.join(tempfile.gettempdir(), 'tmp_weights.h5')\n",
    "    model.save_weights(tmp_weights_path)\n",
    "\n",
    "    # load the model from the config\n",
    "    model = tf.keras.models.model_from_json(model_json)\n",
    "    \n",
    "    # Reload the model weights\n",
    "    model.load_weights(tmp_weights_path, by_name=True)\n",
    "    return model"
   ]
  },
  {
   "cell_type": "markdown",
   "metadata": {},
   "source": [
    "This code for regulization is taken from this blog post : https://sthalles.github.io/keras-regularizer/"
   ]
  },
  {
   "cell_type": "markdown",
   "metadata": {},
   "source": [
    "### Loading the data from the previous notebook, dedicated to ResNet: "
   ]
  },
  {
   "cell_type": "code",
   "execution_count": null,
   "metadata": {
    "id": "ZykEqnDsaC2o"
   },
   "outputs": [],
   "source": [
    "PIK = \"/content/drive/MyDrive/DL/Project/x_resnet.dat\"\n",
    "PIK1 = \"/content/drive/MyDrive/DL/Project/y_resnet.dat\""
   ]
  },
  {
   "cell_type": "code",
   "execution_count": null,
   "metadata": {
    "id": "2nJdIDFJZ_Vr"
   },
   "outputs": [],
   "source": [
    "x = []\n",
    "with open(PIK, \"rb\") as f:\n",
    "    for i in range(pickle.load(f)):\n",
    "        x.append(pickle.load(f))\n",
    "y = []\n",
    "with open(PIK1, \"rb\") as f:\n",
    "    for i in range(pickle.load(f)):\n",
    "        y.append(pickle.load(f))"
   ]
  },
  {
   "cell_type": "markdown",
   "metadata": {},
   "source": [
    "### Spliting the data : "
   ]
  },
  {
   "cell_type": "code",
   "execution_count": null,
   "metadata": {
    "id": "2aXGA9fQaLjO"
   },
   "outputs": [],
   "source": [
    "data_train, data_test, labels_train, labels_test = train_test_split(\n",
    "x, y, train_size = 0.8, stratify = y, random_state=42)"
   ]
  },
  {
   "cell_type": "code",
   "execution_count": null,
   "metadata": {
    "id": "py52Aw52aMiq"
   },
   "outputs": [],
   "source": [
    "data_validation, data_test, labels_validation, labels_test = train_test_split(\n",
    "data_test, labels_test, train_size = 0.5, stratify = labels_test, random_state=42)"
   ]
  },
  {
   "cell_type": "code",
   "execution_count": 7,
   "metadata": {
    "executionInfo": {
     "elapsed": 1097,
     "status": "ok",
     "timestamp": 1614009816731,
     "user": {
      "displayName": "Dimitar Indzhov",
      "photoUrl": "",
      "userId": "13032122627070087276"
     },
     "user_tz": -120
    },
    "id": "E5GwNxVJaQge"
   },
   "outputs": [],
   "source": [
    "PIK = \"/content/drive/MyDrive/DL/Project/pickle_resnet_train.dat\"\n",
    "PIK1 = \"/content/drive/MyDrive/DL/Project/pickle1_resnet_train.dat\"\n",
    "PIK2 = \"/content/drive/MyDrive/DL/Project/pickle_resnet_val.dat\"\n",
    "PIK3 = \"/content/drive/MyDrive/DL/Project/pickle1_resnet_val.dat\"\n",
    "PIK4 = \"/content/drive/MyDrive/DL/Project/pickle_resnet_test.dat\"\n",
    "PIK5 = \"/content/drive/MyDrive/DL/Project/pickle1_resnet_test.dat\""
   ]
  },
  {
   "cell_type": "markdown",
   "metadata": {},
   "source": [
    "# Saving the different splits : \n",
    "We are going to save each split. This is again because our RAM is almost full. Then we will restart the notebook and will continue from the loading of the splits. Apologizes for the confusion. This is the only way in which we can fit this model and do everything in the same notebook with 12 GB of RAM . "
   ]
  },
  {
   "cell_type": "code",
   "execution_count": null,
   "metadata": {
    "id": "aW8bg9YgalFx"
   },
   "outputs": [],
   "source": [
    "with open(PIK, \"wb\") as f:\n",
    "    pickle.dump(len(data_train), f)\n",
    "    for value in data_train:\n",
    "        pickle.dump(value, f)"
   ]
  },
  {
   "cell_type": "code",
   "execution_count": null,
   "metadata": {
    "id": "koWb-cawa7Rk"
   },
   "outputs": [],
   "source": [
    "with open(PIK1, \"wb\") as f:\n",
    "    pickle.dump(len(labels_train), f)\n",
    "    for value in labels_train:\n",
    "        pickle.dump(value, f)"
   ]
  },
  {
   "cell_type": "code",
   "execution_count": null,
   "metadata": {
    "id": "FkCgDBk1bF_o"
   },
   "outputs": [],
   "source": [
    "with open(PIK2, \"wb\") as f:\n",
    "    pickle.dump(len(data_validation), f)\n",
    "    for value in data_validation:\n",
    "        pickle.dump(value, f)"
   ]
  },
  {
   "cell_type": "code",
   "execution_count": null,
   "metadata": {
    "id": "OqiwFHHEbMza"
   },
   "outputs": [],
   "source": [
    "with open(PIK3, \"wb\") as f:\n",
    "    pickle.dump(len(labels_validation), f)\n",
    "    for value in labels_validation:\n",
    "        pickle.dump(value, f)"
   ]
  },
  {
   "cell_type": "code",
   "execution_count": null,
   "metadata": {
    "id": "wksXLN0vbOVL"
   },
   "outputs": [],
   "source": [
    "with open(PIK4, \"wb\") as f:\n",
    "    pickle.dump(len(data_test), f)\n",
    "    for value in data_test:\n",
    "        pickle.dump(value, f)"
   ]
  },
  {
   "cell_type": "code",
   "execution_count": null,
   "metadata": {
    "id": "buM2Ng8AbZUh"
   },
   "outputs": [],
   "source": [
    "with open(PIK5, \"wb\") as f:\n",
    "    pickle.dump(len(labels_test), f)\n",
    "    for value in labels_test:\n",
    "        pickle.dump(value, f)"
   ]
  },
  {
   "cell_type": "markdown",
   "metadata": {},
   "source": [
    "### After restarting the notebok we start from here  : "
   ]
  },
  {
   "cell_type": "code",
   "execution_count": null,
   "metadata": {
    "id": "7xUsnBAybmq-"
   },
   "outputs": [],
   "source": [
    "x = []\n",
    "with open(PIK, \"rb\") as f:\n",
    "    for i in range(pickle.load(f)):\n",
    "        x.append(pickle.load(f))\n",
    "y = []\n",
    "with open(PIK1, \"rb\") as f:\n",
    "    for i in range(pickle.load(f)):\n",
    "        y.append(pickle.load(f))"
   ]
  },
  {
   "cell_type": "code",
   "execution_count": null,
   "metadata": {
    "id": "eABn8xqzbc90"
   },
   "outputs": [],
   "source": [
    "data_train=np.array(x)"
   ]
  },
  {
   "cell_type": "code",
   "execution_count": null,
   "metadata": {
    "id": "sQhZbb8rbykn"
   },
   "outputs": [],
   "source": [
    "y = np.array(y)"
   ]
  },
  {
   "cell_type": "code",
   "execution_count": null,
   "metadata": {
    "id": "F8N6gkVwb-Sz"
   },
   "outputs": [],
   "source": [
    "y[y=='Achaemenid architecture']=0\n",
    "y[y=='American Foursquare architecture']=1\n",
    "y[y=='American craftsman style']=2\n",
    "y[y=='Ancient Egyptian architecture']=3\n",
    "y[y=='Art Deco architecture']=4\n",
    "y[y=='Art Nouveau architecture']=5\n",
    "y[y=='Baroque architecture']=6\n",
    "y[y=='Bauhaus architecture']=7\n",
    "y[y=='Beaux-Arts architecture']=8\n",
    "y[y=='Byzantine architecture']=9\n",
    "y[y=='Chicago school architecture']=10\n",
    "y[y=='Colonial architecture']=11\n",
    "y[y=='Deconstructivism']=12\n",
    "y[y=='Edwardian architecture']=13\n",
    "y[y=='Georgian architecture']=14\n",
    "y[y=='Gothic architecture']=15\n",
    "y[y=='Greek Revival architecture']=16\n",
    "y[y=='International style']=17\n",
    "y[y=='Novelty architecture']=18\n",
    "y[y=='Palladian architecture']=19\n",
    "y[y=='Postmodern architecture']=20\n",
    "y[y=='Queen Anne architecture']=21\n",
    "y[y=='Romanesque architecture']=22\n",
    "y[y=='Russian Revival architecture']=23\n",
    "y[y=='Tudor Revival architecture']=24"
   ]
  },
  {
   "cell_type": "code",
   "execution_count": null,
   "metadata": {
    "id": "XFaDmCNAcMqf"
   },
   "outputs": [],
   "source": [
    "labels_train = y.astype(int)"
   ]
  },
  {
   "cell_type": "code",
   "execution_count": null,
   "metadata": {
    "id": "DDTLljROcQ-O"
   },
   "outputs": [],
   "source": [
    "labels_train = to_categorical(labels_train)"
   ]
  },
  {
   "cell_type": "code",
   "execution_count": null,
   "metadata": {
    "id": "4pV2dF7MPjKA"
   },
   "outputs": [],
   "source": [
    "x = []\n",
    "with open(PIK2, \"rb\") as f:\n",
    "    for i in range(pickle.load(f)):\n",
    "        x.append(pickle.load(f))\n",
    "y = []\n",
    "with open(PIK3, \"rb\") as f:\n",
    "    for i in range(pickle.load(f)):\n",
    "        y.append(pickle.load(f))"
   ]
  },
  {
   "cell_type": "code",
   "execution_count": null,
   "metadata": {
    "id": "gFfWyeGqPyOK"
   },
   "outputs": [],
   "source": [
    "data_validation=np.array(x)"
   ]
  },
  {
   "cell_type": "code",
   "execution_count": null,
   "metadata": {
    "id": "qy9Haie2P1tk"
   },
   "outputs": [],
   "source": [
    "y = np.array(y)"
   ]
  },
  {
   "cell_type": "code",
   "execution_count": null,
   "metadata": {
    "id": "zYl8TeA9P4LR"
   },
   "outputs": [],
   "source": [
    "y[y=='Achaemenid architecture']=0\n",
    "y[y=='American Foursquare architecture']=1\n",
    "y[y=='American craftsman style']=2\n",
    "y[y=='Ancient Egyptian architecture']=3\n",
    "y[y=='Art Deco architecture']=4\n",
    "y[y=='Art Nouveau architecture']=5\n",
    "y[y=='Baroque architecture']=6\n",
    "y[y=='Bauhaus architecture']=7\n",
    "y[y=='Beaux-Arts architecture']=8\n",
    "y[y=='Byzantine architecture']=9\n",
    "y[y=='Chicago school architecture']=10\n",
    "y[y=='Colonial architecture']=11\n",
    "y[y=='Deconstructivism']=12\n",
    "y[y=='Edwardian architecture']=13\n",
    "y[y=='Georgian architecture']=14\n",
    "y[y=='Gothic architecture']=15\n",
    "y[y=='Greek Revival architecture']=16\n",
    "y[y=='International style']=17\n",
    "y[y=='Novelty architecture']=18\n",
    "y[y=='Palladian architecture']=19\n",
    "y[y=='Postmodern architecture']=20\n",
    "y[y=='Queen Anne architecture']=21\n",
    "y[y=='Romanesque architecture']=22\n",
    "y[y=='Russian Revival architecture']=23\n",
    "y[y=='Tudor Revival architecture']=24"
   ]
  },
  {
   "cell_type": "code",
   "execution_count": null,
   "metadata": {
    "id": "WB-8a5lyP7tZ"
   },
   "outputs": [],
   "source": [
    "labels_validation = y.astype(int)"
   ]
  },
  {
   "cell_type": "code",
   "execution_count": null,
   "metadata": {
    "id": "Hf2tsSdwQB1W"
   },
   "outputs": [],
   "source": [
    "labels_validation = to_categorical(labels_validation)"
   ]
  },
  {
   "cell_type": "markdown",
   "metadata": {},
   "source": [
    "### So far, we loaded only the training and the validation set . Lets continue with the Transfer Learning model. "
   ]
  },
  {
   "cell_type": "code",
   "execution_count": null,
   "metadata": {
    "id": "F_wQQ0rmppOE"
   },
   "outputs": [],
   "source": [
    "# Loading the Transfer Learning model\n",
    "resnet = ResNet50(input_shape=(size, size, 3), weights='imagenet', include_top=False)"
   ]
  },
  {
   "cell_type": "code",
   "execution_count": null,
   "metadata": {
    "id": "Mm9xX4khHEAf"
   },
   "outputs": [],
   "source": [
    "# Regulizing the model with the function in the begining: \n",
    "resnet = add_regularization(resnet)"
   ]
  },
  {
   "cell_type": "code",
   "execution_count": null,
   "metadata": {
    "id": "V6Yd0whDR-rU"
   },
   "outputs": [],
   "source": [
    "# Freezing the layers from the pre-trained model. \n",
    "for layer in resnet.layers:\n",
    "    layer.trainable = False"
   ]
  },
  {
   "cell_type": "markdown",
   "metadata": {},
   "source": [
    "## Even using a pre-trained model, we are going to add some layers, more specificaly - drupout and descending dense layers. "
   ]
  },
  {
   "cell_type": "code",
   "execution_count": null,
   "metadata": {
    "id": "lr5LbBGkGc1X"
   },
   "outputs": [],
   "source": [
    "# add a global spatial average pooling layer\n",
    "x = resnet.output\n",
    "x = GlobalAveragePooling2D()(x)\n",
    "x = Dense(1024, activation='relu')(x)\n",
    "# add dropout layer\n",
    "x = Dropout(0.5)(x)\n",
    "# add a fully-connected layer\n",
    "x = Dense(512, activation='relu')(x)\n",
    "# add dropout layer\n",
    "x = Dropout(0.5)(x)\n",
    "# add a fully-connected layer\n",
    "x = Dense(124, activation='relu')(x)\n",
    "# and a logistic layer\n",
    "predictions = Dense(n_classes, activation='softmax')(x)\n",
    "\n",
    "# this is the model we will train\n",
    "model = Model(inputs=resnet.input, outputs=predictions)\n"
   ]
  },
  {
   "cell_type": "code",
   "execution_count": null,
   "metadata": {
    "colab": {
     "base_uri": "https://localhost:8080/"
    },
    "id": "K9XMCICpqhJh",
    "outputId": "a9aac071-d922-4b5a-a047-09843cf5ad17"
   },
   "outputs": [
    {
     "name": "stdout",
     "output_type": "stream",
     "text": [
      "Model: \"model\"\n",
      "__________________________________________________________________________________________________\n",
      "Layer (type)                    Output Shape         Param #     Connected to                     \n",
      "==================================================================================================\n",
      "input_1 (InputLayer)            [(None, 224, 224, 3) 0                                            \n",
      "__________________________________________________________________________________________________\n",
      "conv1_pad (ZeroPadding2D)       (None, 230, 230, 3)  0           input_1[0][0]                    \n",
      "__________________________________________________________________________________________________\n",
      "conv1_conv (Conv2D)             (None, 112, 112, 64) 9472        conv1_pad[0][0]                  \n",
      "__________________________________________________________________________________________________\n",
      "conv1_bn (BatchNormalization)   (None, 112, 112, 64) 256         conv1_conv[0][0]                 \n",
      "__________________________________________________________________________________________________\n",
      "conv1_relu (Activation)         (None, 112, 112, 64) 0           conv1_bn[0][0]                   \n",
      "__________________________________________________________________________________________________\n",
      "pool1_pad (ZeroPadding2D)       (None, 114, 114, 64) 0           conv1_relu[0][0]                 \n",
      "__________________________________________________________________________________________________\n",
      "pool1_pool (MaxPooling2D)       (None, 56, 56, 64)   0           pool1_pad[0][0]                  \n",
      "__________________________________________________________________________________________________\n",
      "conv2_block1_1_conv (Conv2D)    (None, 56, 56, 64)   4160        pool1_pool[0][0]                 \n",
      "__________________________________________________________________________________________________\n",
      "conv2_block1_1_bn (BatchNormali (None, 56, 56, 64)   256         conv2_block1_1_conv[0][0]        \n",
      "__________________________________________________________________________________________________\n",
      "conv2_block1_1_relu (Activation (None, 56, 56, 64)   0           conv2_block1_1_bn[0][0]          \n",
      "__________________________________________________________________________________________________\n",
      "conv2_block1_2_conv (Conv2D)    (None, 56, 56, 64)   36928       conv2_block1_1_relu[0][0]        \n",
      "__________________________________________________________________________________________________\n",
      "conv2_block1_2_bn (BatchNormali (None, 56, 56, 64)   256         conv2_block1_2_conv[0][0]        \n",
      "__________________________________________________________________________________________________\n",
      "conv2_block1_2_relu (Activation (None, 56, 56, 64)   0           conv2_block1_2_bn[0][0]          \n",
      "__________________________________________________________________________________________________\n",
      "conv2_block1_0_conv (Conv2D)    (None, 56, 56, 256)  16640       pool1_pool[0][0]                 \n",
      "__________________________________________________________________________________________________\n",
      "conv2_block1_3_conv (Conv2D)    (None, 56, 56, 256)  16640       conv2_block1_2_relu[0][0]        \n",
      "__________________________________________________________________________________________________\n",
      "conv2_block1_0_bn (BatchNormali (None, 56, 56, 256)  1024        conv2_block1_0_conv[0][0]        \n",
      "__________________________________________________________________________________________________\n",
      "conv2_block1_3_bn (BatchNormali (None, 56, 56, 256)  1024        conv2_block1_3_conv[0][0]        \n",
      "__________________________________________________________________________________________________\n",
      "conv2_block1_add (Add)          (None, 56, 56, 256)  0           conv2_block1_0_bn[0][0]          \n",
      "                                                                 conv2_block1_3_bn[0][0]          \n",
      "__________________________________________________________________________________________________\n",
      "conv2_block1_out (Activation)   (None, 56, 56, 256)  0           conv2_block1_add[0][0]           \n",
      "__________________________________________________________________________________________________\n",
      "conv2_block2_1_conv (Conv2D)    (None, 56, 56, 64)   16448       conv2_block1_out[0][0]           \n",
      "__________________________________________________________________________________________________\n",
      "conv2_block2_1_bn (BatchNormali (None, 56, 56, 64)   256         conv2_block2_1_conv[0][0]        \n",
      "__________________________________________________________________________________________________\n",
      "conv2_block2_1_relu (Activation (None, 56, 56, 64)   0           conv2_block2_1_bn[0][0]          \n",
      "__________________________________________________________________________________________________\n",
      "conv2_block2_2_conv (Conv2D)    (None, 56, 56, 64)   36928       conv2_block2_1_relu[0][0]        \n",
      "__________________________________________________________________________________________________\n",
      "conv2_block2_2_bn (BatchNormali (None, 56, 56, 64)   256         conv2_block2_2_conv[0][0]        \n",
      "__________________________________________________________________________________________________\n",
      "conv2_block2_2_relu (Activation (None, 56, 56, 64)   0           conv2_block2_2_bn[0][0]          \n",
      "__________________________________________________________________________________________________\n",
      "conv2_block2_3_conv (Conv2D)    (None, 56, 56, 256)  16640       conv2_block2_2_relu[0][0]        \n",
      "__________________________________________________________________________________________________\n",
      "conv2_block2_3_bn (BatchNormali (None, 56, 56, 256)  1024        conv2_block2_3_conv[0][0]        \n",
      "__________________________________________________________________________________________________\n",
      "conv2_block2_add (Add)          (None, 56, 56, 256)  0           conv2_block1_out[0][0]           \n",
      "                                                                 conv2_block2_3_bn[0][0]          \n",
      "__________________________________________________________________________________________________\n",
      "conv2_block2_out (Activation)   (None, 56, 56, 256)  0           conv2_block2_add[0][0]           \n",
      "__________________________________________________________________________________________________\n",
      "conv2_block3_1_conv (Conv2D)    (None, 56, 56, 64)   16448       conv2_block2_out[0][0]           \n",
      "__________________________________________________________________________________________________\n",
      "conv2_block3_1_bn (BatchNormali (None, 56, 56, 64)   256         conv2_block3_1_conv[0][0]        \n",
      "__________________________________________________________________________________________________\n",
      "conv2_block3_1_relu (Activation (None, 56, 56, 64)   0           conv2_block3_1_bn[0][0]          \n",
      "__________________________________________________________________________________________________\n",
      "conv2_block3_2_conv (Conv2D)    (None, 56, 56, 64)   36928       conv2_block3_1_relu[0][0]        \n",
      "__________________________________________________________________________________________________\n",
      "conv2_block3_2_bn (BatchNormali (None, 56, 56, 64)   256         conv2_block3_2_conv[0][0]        \n",
      "__________________________________________________________________________________________________\n",
      "conv2_block3_2_relu (Activation (None, 56, 56, 64)   0           conv2_block3_2_bn[0][0]          \n",
      "__________________________________________________________________________________________________\n",
      "conv2_block3_3_conv (Conv2D)    (None, 56, 56, 256)  16640       conv2_block3_2_relu[0][0]        \n",
      "__________________________________________________________________________________________________\n",
      "conv2_block3_3_bn (BatchNormali (None, 56, 56, 256)  1024        conv2_block3_3_conv[0][0]        \n",
      "__________________________________________________________________________________________________\n",
      "conv2_block3_add (Add)          (None, 56, 56, 256)  0           conv2_block2_out[0][0]           \n",
      "                                                                 conv2_block3_3_bn[0][0]          \n",
      "__________________________________________________________________________________________________\n",
      "conv2_block3_out (Activation)   (None, 56, 56, 256)  0           conv2_block3_add[0][0]           \n",
      "__________________________________________________________________________________________________\n",
      "conv3_block1_1_conv (Conv2D)    (None, 28, 28, 128)  32896       conv2_block3_out[0][0]           \n",
      "__________________________________________________________________________________________________\n",
      "conv3_block1_1_bn (BatchNormali (None, 28, 28, 128)  512         conv3_block1_1_conv[0][0]        \n",
      "__________________________________________________________________________________________________\n",
      "conv3_block1_1_relu (Activation (None, 28, 28, 128)  0           conv3_block1_1_bn[0][0]          \n",
      "__________________________________________________________________________________________________\n",
      "conv3_block1_2_conv (Conv2D)    (None, 28, 28, 128)  147584      conv3_block1_1_relu[0][0]        \n",
      "__________________________________________________________________________________________________\n",
      "conv3_block1_2_bn (BatchNormali (None, 28, 28, 128)  512         conv3_block1_2_conv[0][0]        \n",
      "__________________________________________________________________________________________________\n",
      "conv3_block1_2_relu (Activation (None, 28, 28, 128)  0           conv3_block1_2_bn[0][0]          \n",
      "__________________________________________________________________________________________________\n",
      "conv3_block1_0_conv (Conv2D)    (None, 28, 28, 512)  131584      conv2_block3_out[0][0]           \n",
      "__________________________________________________________________________________________________\n",
      "conv3_block1_3_conv (Conv2D)    (None, 28, 28, 512)  66048       conv3_block1_2_relu[0][0]        \n",
      "__________________________________________________________________________________________________\n",
      "conv3_block1_0_bn (BatchNormali (None, 28, 28, 512)  2048        conv3_block1_0_conv[0][0]        \n",
      "__________________________________________________________________________________________________\n",
      "conv3_block1_3_bn (BatchNormali (None, 28, 28, 512)  2048        conv3_block1_3_conv[0][0]        \n",
      "__________________________________________________________________________________________________\n",
      "conv3_block1_add (Add)          (None, 28, 28, 512)  0           conv3_block1_0_bn[0][0]          \n",
      "                                                                 conv3_block1_3_bn[0][0]          \n",
      "__________________________________________________________________________________________________\n",
      "conv3_block1_out (Activation)   (None, 28, 28, 512)  0           conv3_block1_add[0][0]           \n",
      "__________________________________________________________________________________________________\n",
      "conv3_block2_1_conv (Conv2D)    (None, 28, 28, 128)  65664       conv3_block1_out[0][0]           \n",
      "__________________________________________________________________________________________________\n",
      "conv3_block2_1_bn (BatchNormali (None, 28, 28, 128)  512         conv3_block2_1_conv[0][0]        \n",
      "__________________________________________________________________________________________________\n",
      "conv3_block2_1_relu (Activation (None, 28, 28, 128)  0           conv3_block2_1_bn[0][0]          \n",
      "__________________________________________________________________________________________________\n",
      "conv3_block2_2_conv (Conv2D)    (None, 28, 28, 128)  147584      conv3_block2_1_relu[0][0]        \n",
      "__________________________________________________________________________________________________\n",
      "conv3_block2_2_bn (BatchNormali (None, 28, 28, 128)  512         conv3_block2_2_conv[0][0]        \n",
      "__________________________________________________________________________________________________\n",
      "conv3_block2_2_relu (Activation (None, 28, 28, 128)  0           conv3_block2_2_bn[0][0]          \n",
      "__________________________________________________________________________________________________\n",
      "conv3_block2_3_conv (Conv2D)    (None, 28, 28, 512)  66048       conv3_block2_2_relu[0][0]        \n",
      "__________________________________________________________________________________________________\n",
      "conv3_block2_3_bn (BatchNormali (None, 28, 28, 512)  2048        conv3_block2_3_conv[0][0]        \n",
      "__________________________________________________________________________________________________\n",
      "conv3_block2_add (Add)          (None, 28, 28, 512)  0           conv3_block1_out[0][0]           \n",
      "                                                                 conv3_block2_3_bn[0][0]          \n",
      "__________________________________________________________________________________________________\n",
      "conv3_block2_out (Activation)   (None, 28, 28, 512)  0           conv3_block2_add[0][0]           \n",
      "__________________________________________________________________________________________________\n",
      "conv3_block3_1_conv (Conv2D)    (None, 28, 28, 128)  65664       conv3_block2_out[0][0]           \n",
      "__________________________________________________________________________________________________\n",
      "conv3_block3_1_bn (BatchNormali (None, 28, 28, 128)  512         conv3_block3_1_conv[0][0]        \n",
      "__________________________________________________________________________________________________\n",
      "conv3_block3_1_relu (Activation (None, 28, 28, 128)  0           conv3_block3_1_bn[0][0]          \n",
      "__________________________________________________________________________________________________\n",
      "conv3_block3_2_conv (Conv2D)    (None, 28, 28, 128)  147584      conv3_block3_1_relu[0][0]        \n",
      "__________________________________________________________________________________________________\n",
      "conv3_block3_2_bn (BatchNormali (None, 28, 28, 128)  512         conv3_block3_2_conv[0][0]        \n",
      "__________________________________________________________________________________________________\n",
      "conv3_block3_2_relu (Activation (None, 28, 28, 128)  0           conv3_block3_2_bn[0][0]          \n",
      "__________________________________________________________________________________________________\n",
      "conv3_block3_3_conv (Conv2D)    (None, 28, 28, 512)  66048       conv3_block3_2_relu[0][0]        \n",
      "__________________________________________________________________________________________________\n",
      "conv3_block3_3_bn (BatchNormali (None, 28, 28, 512)  2048        conv3_block3_3_conv[0][0]        \n",
      "__________________________________________________________________________________________________\n",
      "conv3_block3_add (Add)          (None, 28, 28, 512)  0           conv3_block2_out[0][0]           \n",
      "                                                                 conv3_block3_3_bn[0][0]          \n",
      "__________________________________________________________________________________________________\n",
      "conv3_block3_out (Activation)   (None, 28, 28, 512)  0           conv3_block3_add[0][0]           \n",
      "__________________________________________________________________________________________________\n",
      "conv3_block4_1_conv (Conv2D)    (None, 28, 28, 128)  65664       conv3_block3_out[0][0]           \n",
      "__________________________________________________________________________________________________\n",
      "conv3_block4_1_bn (BatchNormali (None, 28, 28, 128)  512         conv3_block4_1_conv[0][0]        \n",
      "__________________________________________________________________________________________________\n",
      "conv3_block4_1_relu (Activation (None, 28, 28, 128)  0           conv3_block4_1_bn[0][0]          \n",
      "__________________________________________________________________________________________________\n",
      "conv3_block4_2_conv (Conv2D)    (None, 28, 28, 128)  147584      conv3_block4_1_relu[0][0]        \n",
      "__________________________________________________________________________________________________\n",
      "conv3_block4_2_bn (BatchNormali (None, 28, 28, 128)  512         conv3_block4_2_conv[0][0]        \n",
      "__________________________________________________________________________________________________\n",
      "conv3_block4_2_relu (Activation (None, 28, 28, 128)  0           conv3_block4_2_bn[0][0]          \n",
      "__________________________________________________________________________________________________\n",
      "conv3_block4_3_conv (Conv2D)    (None, 28, 28, 512)  66048       conv3_block4_2_relu[0][0]        \n",
      "__________________________________________________________________________________________________\n",
      "conv3_block4_3_bn (BatchNormali (None, 28, 28, 512)  2048        conv3_block4_3_conv[0][0]        \n",
      "__________________________________________________________________________________________________\n",
      "conv3_block4_add (Add)          (None, 28, 28, 512)  0           conv3_block3_out[0][0]           \n",
      "                                                                 conv3_block4_3_bn[0][0]          \n",
      "__________________________________________________________________________________________________\n",
      "conv3_block4_out (Activation)   (None, 28, 28, 512)  0           conv3_block4_add[0][0]           \n",
      "__________________________________________________________________________________________________\n",
      "conv4_block1_1_conv (Conv2D)    (None, 14, 14, 256)  131328      conv3_block4_out[0][0]           \n",
      "__________________________________________________________________________________________________\n",
      "conv4_block1_1_bn (BatchNormali (None, 14, 14, 256)  1024        conv4_block1_1_conv[0][0]        \n",
      "__________________________________________________________________________________________________\n",
      "conv4_block1_1_relu (Activation (None, 14, 14, 256)  0           conv4_block1_1_bn[0][0]          \n",
      "__________________________________________________________________________________________________\n",
      "conv4_block1_2_conv (Conv2D)    (None, 14, 14, 256)  590080      conv4_block1_1_relu[0][0]        \n",
      "__________________________________________________________________________________________________\n",
      "conv4_block1_2_bn (BatchNormali (None, 14, 14, 256)  1024        conv4_block1_2_conv[0][0]        \n",
      "__________________________________________________________________________________________________\n",
      "conv4_block1_2_relu (Activation (None, 14, 14, 256)  0           conv4_block1_2_bn[0][0]          \n",
      "__________________________________________________________________________________________________\n",
      "conv4_block1_0_conv (Conv2D)    (None, 14, 14, 1024) 525312      conv3_block4_out[0][0]           \n",
      "__________________________________________________________________________________________________\n",
      "conv4_block1_3_conv (Conv2D)    (None, 14, 14, 1024) 263168      conv4_block1_2_relu[0][0]        \n",
      "__________________________________________________________________________________________________\n",
      "conv4_block1_0_bn (BatchNormali (None, 14, 14, 1024) 4096        conv4_block1_0_conv[0][0]        \n",
      "__________________________________________________________________________________________________\n",
      "conv4_block1_3_bn (BatchNormali (None, 14, 14, 1024) 4096        conv4_block1_3_conv[0][0]        \n",
      "__________________________________________________________________________________________________\n",
      "conv4_block1_add (Add)          (None, 14, 14, 1024) 0           conv4_block1_0_bn[0][0]          \n",
      "                                                                 conv4_block1_3_bn[0][0]          \n",
      "__________________________________________________________________________________________________\n",
      "conv4_block1_out (Activation)   (None, 14, 14, 1024) 0           conv4_block1_add[0][0]           \n",
      "__________________________________________________________________________________________________\n",
      "conv4_block2_1_conv (Conv2D)    (None, 14, 14, 256)  262400      conv4_block1_out[0][0]           \n",
      "__________________________________________________________________________________________________\n",
      "conv4_block2_1_bn (BatchNormali (None, 14, 14, 256)  1024        conv4_block2_1_conv[0][0]        \n",
      "__________________________________________________________________________________________________\n",
      "conv4_block2_1_relu (Activation (None, 14, 14, 256)  0           conv4_block2_1_bn[0][0]          \n",
      "__________________________________________________________________________________________________\n",
      "conv4_block2_2_conv (Conv2D)    (None, 14, 14, 256)  590080      conv4_block2_1_relu[0][0]        \n",
      "__________________________________________________________________________________________________\n",
      "conv4_block2_2_bn (BatchNormali (None, 14, 14, 256)  1024        conv4_block2_2_conv[0][0]        \n",
      "__________________________________________________________________________________________________\n",
      "conv4_block2_2_relu (Activation (None, 14, 14, 256)  0           conv4_block2_2_bn[0][0]          \n",
      "__________________________________________________________________________________________________\n",
      "conv4_block2_3_conv (Conv2D)    (None, 14, 14, 1024) 263168      conv4_block2_2_relu[0][0]        \n",
      "__________________________________________________________________________________________________\n",
      "conv4_block2_3_bn (BatchNormali (None, 14, 14, 1024) 4096        conv4_block2_3_conv[0][0]        \n",
      "__________________________________________________________________________________________________\n",
      "conv4_block2_add (Add)          (None, 14, 14, 1024) 0           conv4_block1_out[0][0]           \n",
      "                                                                 conv4_block2_3_bn[0][0]          \n",
      "__________________________________________________________________________________________________\n",
      "conv4_block2_out (Activation)   (None, 14, 14, 1024) 0           conv4_block2_add[0][0]           \n",
      "__________________________________________________________________________________________________\n",
      "conv4_block3_1_conv (Conv2D)    (None, 14, 14, 256)  262400      conv4_block2_out[0][0]           \n",
      "__________________________________________________________________________________________________\n",
      "conv4_block3_1_bn (BatchNormali (None, 14, 14, 256)  1024        conv4_block3_1_conv[0][0]        \n",
      "__________________________________________________________________________________________________\n",
      "conv4_block3_1_relu (Activation (None, 14, 14, 256)  0           conv4_block3_1_bn[0][0]          \n",
      "__________________________________________________________________________________________________\n",
      "conv4_block3_2_conv (Conv2D)    (None, 14, 14, 256)  590080      conv4_block3_1_relu[0][0]        \n",
      "__________________________________________________________________________________________________\n",
      "conv4_block3_2_bn (BatchNormali (None, 14, 14, 256)  1024        conv4_block3_2_conv[0][0]        \n",
      "__________________________________________________________________________________________________\n",
      "conv4_block3_2_relu (Activation (None, 14, 14, 256)  0           conv4_block3_2_bn[0][0]          \n",
      "__________________________________________________________________________________________________\n",
      "conv4_block3_3_conv (Conv2D)    (None, 14, 14, 1024) 263168      conv4_block3_2_relu[0][0]        \n",
      "__________________________________________________________________________________________________\n",
      "conv4_block3_3_bn (BatchNormali (None, 14, 14, 1024) 4096        conv4_block3_3_conv[0][0]        \n",
      "__________________________________________________________________________________________________\n",
      "conv4_block3_add (Add)          (None, 14, 14, 1024) 0           conv4_block2_out[0][0]           \n",
      "                                                                 conv4_block3_3_bn[0][0]          \n",
      "__________________________________________________________________________________________________\n",
      "conv4_block3_out (Activation)   (None, 14, 14, 1024) 0           conv4_block3_add[0][0]           \n",
      "__________________________________________________________________________________________________\n",
      "conv4_block4_1_conv (Conv2D)    (None, 14, 14, 256)  262400      conv4_block3_out[0][0]           \n",
      "__________________________________________________________________________________________________\n",
      "conv4_block4_1_bn (BatchNormali (None, 14, 14, 256)  1024        conv4_block4_1_conv[0][0]        \n",
      "__________________________________________________________________________________________________\n",
      "conv4_block4_1_relu (Activation (None, 14, 14, 256)  0           conv4_block4_1_bn[0][0]          \n",
      "__________________________________________________________________________________________________\n",
      "conv4_block4_2_conv (Conv2D)    (None, 14, 14, 256)  590080      conv4_block4_1_relu[0][0]        \n",
      "__________________________________________________________________________________________________\n",
      "conv4_block4_2_bn (BatchNormali (None, 14, 14, 256)  1024        conv4_block4_2_conv[0][0]        \n",
      "__________________________________________________________________________________________________\n",
      "conv4_block4_2_relu (Activation (None, 14, 14, 256)  0           conv4_block4_2_bn[0][0]          \n",
      "__________________________________________________________________________________________________\n",
      "conv4_block4_3_conv (Conv2D)    (None, 14, 14, 1024) 263168      conv4_block4_2_relu[0][0]        \n",
      "__________________________________________________________________________________________________\n",
      "conv4_block4_3_bn (BatchNormali (None, 14, 14, 1024) 4096        conv4_block4_3_conv[0][0]        \n",
      "__________________________________________________________________________________________________\n",
      "conv4_block4_add (Add)          (None, 14, 14, 1024) 0           conv4_block3_out[0][0]           \n",
      "                                                                 conv4_block4_3_bn[0][0]          \n",
      "__________________________________________________________________________________________________\n",
      "conv4_block4_out (Activation)   (None, 14, 14, 1024) 0           conv4_block4_add[0][0]           \n",
      "__________________________________________________________________________________________________\n",
      "conv4_block5_1_conv (Conv2D)    (None, 14, 14, 256)  262400      conv4_block4_out[0][0]           \n",
      "__________________________________________________________________________________________________\n",
      "conv4_block5_1_bn (BatchNormali (None, 14, 14, 256)  1024        conv4_block5_1_conv[0][0]        \n",
      "__________________________________________________________________________________________________\n",
      "conv4_block5_1_relu (Activation (None, 14, 14, 256)  0           conv4_block5_1_bn[0][0]          \n",
      "__________________________________________________________________________________________________\n",
      "conv4_block5_2_conv (Conv2D)    (None, 14, 14, 256)  590080      conv4_block5_1_relu[0][0]        \n",
      "__________________________________________________________________________________________________\n",
      "conv4_block5_2_bn (BatchNormali (None, 14, 14, 256)  1024        conv4_block5_2_conv[0][0]        \n",
      "__________________________________________________________________________________________________\n",
      "conv4_block5_2_relu (Activation (None, 14, 14, 256)  0           conv4_block5_2_bn[0][0]          \n",
      "__________________________________________________________________________________________________\n",
      "conv4_block5_3_conv (Conv2D)    (None, 14, 14, 1024) 263168      conv4_block5_2_relu[0][0]        \n",
      "__________________________________________________________________________________________________\n",
      "conv4_block5_3_bn (BatchNormali (None, 14, 14, 1024) 4096        conv4_block5_3_conv[0][0]        \n",
      "__________________________________________________________________________________________________\n",
      "conv4_block5_add (Add)          (None, 14, 14, 1024) 0           conv4_block4_out[0][0]           \n",
      "                                                                 conv4_block5_3_bn[0][0]          \n",
      "__________________________________________________________________________________________________\n",
      "conv4_block5_out (Activation)   (None, 14, 14, 1024) 0           conv4_block5_add[0][0]           \n",
      "__________________________________________________________________________________________________\n",
      "conv4_block6_1_conv (Conv2D)    (None, 14, 14, 256)  262400      conv4_block5_out[0][0]           \n",
      "__________________________________________________________________________________________________\n",
      "conv4_block6_1_bn (BatchNormali (None, 14, 14, 256)  1024        conv4_block6_1_conv[0][0]        \n",
      "__________________________________________________________________________________________________\n",
      "conv4_block6_1_relu (Activation (None, 14, 14, 256)  0           conv4_block6_1_bn[0][0]          \n",
      "__________________________________________________________________________________________________\n",
      "conv4_block6_2_conv (Conv2D)    (None, 14, 14, 256)  590080      conv4_block6_1_relu[0][0]        \n",
      "__________________________________________________________________________________________________\n",
      "conv4_block6_2_bn (BatchNormali (None, 14, 14, 256)  1024        conv4_block6_2_conv[0][0]        \n",
      "__________________________________________________________________________________________________\n",
      "conv4_block6_2_relu (Activation (None, 14, 14, 256)  0           conv4_block6_2_bn[0][0]          \n",
      "__________________________________________________________________________________________________\n",
      "conv4_block6_3_conv (Conv2D)    (None, 14, 14, 1024) 263168      conv4_block6_2_relu[0][0]        \n",
      "__________________________________________________________________________________________________\n",
      "conv4_block6_3_bn (BatchNormali (None, 14, 14, 1024) 4096        conv4_block6_3_conv[0][0]        \n",
      "__________________________________________________________________________________________________\n",
      "conv4_block6_add (Add)          (None, 14, 14, 1024) 0           conv4_block5_out[0][0]           \n",
      "                                                                 conv4_block6_3_bn[0][0]          \n",
      "__________________________________________________________________________________________________\n",
      "conv4_block6_out (Activation)   (None, 14, 14, 1024) 0           conv4_block6_add[0][0]           \n",
      "__________________________________________________________________________________________________\n",
      "conv5_block1_1_conv (Conv2D)    (None, 7, 7, 512)    524800      conv4_block6_out[0][0]           \n",
      "__________________________________________________________________________________________________\n",
      "conv5_block1_1_bn (BatchNormali (None, 7, 7, 512)    2048        conv5_block1_1_conv[0][0]        \n",
      "__________________________________________________________________________________________________\n",
      "conv5_block1_1_relu (Activation (None, 7, 7, 512)    0           conv5_block1_1_bn[0][0]          \n",
      "__________________________________________________________________________________________________\n",
      "conv5_block1_2_conv (Conv2D)    (None, 7, 7, 512)    2359808     conv5_block1_1_relu[0][0]        \n",
      "__________________________________________________________________________________________________\n",
      "conv5_block1_2_bn (BatchNormali (None, 7, 7, 512)    2048        conv5_block1_2_conv[0][0]        \n",
      "__________________________________________________________________________________________________\n",
      "conv5_block1_2_relu (Activation (None, 7, 7, 512)    0           conv5_block1_2_bn[0][0]          \n",
      "__________________________________________________________________________________________________\n",
      "conv5_block1_0_conv (Conv2D)    (None, 7, 7, 2048)   2099200     conv4_block6_out[0][0]           \n",
      "__________________________________________________________________________________________________\n",
      "conv5_block1_3_conv (Conv2D)    (None, 7, 7, 2048)   1050624     conv5_block1_2_relu[0][0]        \n",
      "__________________________________________________________________________________________________\n",
      "conv5_block1_0_bn (BatchNormali (None, 7, 7, 2048)   8192        conv5_block1_0_conv[0][0]        \n",
      "__________________________________________________________________________________________________\n",
      "conv5_block1_3_bn (BatchNormali (None, 7, 7, 2048)   8192        conv5_block1_3_conv[0][0]        \n",
      "__________________________________________________________________________________________________\n",
      "conv5_block1_add (Add)          (None, 7, 7, 2048)   0           conv5_block1_0_bn[0][0]          \n",
      "                                                                 conv5_block1_3_bn[0][0]          \n",
      "__________________________________________________________________________________________________\n",
      "conv5_block1_out (Activation)   (None, 7, 7, 2048)   0           conv5_block1_add[0][0]           \n",
      "__________________________________________________________________________________________________\n",
      "conv5_block2_1_conv (Conv2D)    (None, 7, 7, 512)    1049088     conv5_block1_out[0][0]           \n",
      "__________________________________________________________________________________________________\n",
      "conv5_block2_1_bn (BatchNormali (None, 7, 7, 512)    2048        conv5_block2_1_conv[0][0]        \n",
      "__________________________________________________________________________________________________\n",
      "conv5_block2_1_relu (Activation (None, 7, 7, 512)    0           conv5_block2_1_bn[0][0]          \n",
      "__________________________________________________________________________________________________\n",
      "conv5_block2_2_conv (Conv2D)    (None, 7, 7, 512)    2359808     conv5_block2_1_relu[0][0]        \n",
      "__________________________________________________________________________________________________\n",
      "conv5_block2_2_bn (BatchNormali (None, 7, 7, 512)    2048        conv5_block2_2_conv[0][0]        \n",
      "__________________________________________________________________________________________________\n",
      "conv5_block2_2_relu (Activation (None, 7, 7, 512)    0           conv5_block2_2_bn[0][0]          \n",
      "__________________________________________________________________________________________________\n",
      "conv5_block2_3_conv (Conv2D)    (None, 7, 7, 2048)   1050624     conv5_block2_2_relu[0][0]        \n",
      "__________________________________________________________________________________________________\n",
      "conv5_block2_3_bn (BatchNormali (None, 7, 7, 2048)   8192        conv5_block2_3_conv[0][0]        \n",
      "__________________________________________________________________________________________________\n",
      "conv5_block2_add (Add)          (None, 7, 7, 2048)   0           conv5_block1_out[0][0]           \n",
      "                                                                 conv5_block2_3_bn[0][0]          \n",
      "__________________________________________________________________________________________________\n",
      "conv5_block2_out (Activation)   (None, 7, 7, 2048)   0           conv5_block2_add[0][0]           \n",
      "__________________________________________________________________________________________________\n",
      "conv5_block3_1_conv (Conv2D)    (None, 7, 7, 512)    1049088     conv5_block2_out[0][0]           \n",
      "__________________________________________________________________________________________________\n",
      "conv5_block3_1_bn (BatchNormali (None, 7, 7, 512)    2048        conv5_block3_1_conv[0][0]        \n",
      "__________________________________________________________________________________________________\n",
      "conv5_block3_1_relu (Activation (None, 7, 7, 512)    0           conv5_block3_1_bn[0][0]          \n",
      "__________________________________________________________________________________________________\n",
      "conv5_block3_2_conv (Conv2D)    (None, 7, 7, 512)    2359808     conv5_block3_1_relu[0][0]        \n",
      "__________________________________________________________________________________________________\n",
      "conv5_block3_2_bn (BatchNormali (None, 7, 7, 512)    2048        conv5_block3_2_conv[0][0]        \n",
      "__________________________________________________________________________________________________\n",
      "conv5_block3_2_relu (Activation (None, 7, 7, 512)    0           conv5_block3_2_bn[0][0]          \n",
      "__________________________________________________________________________________________________\n",
      "conv5_block3_3_conv (Conv2D)    (None, 7, 7, 2048)   1050624     conv5_block3_2_relu[0][0]        \n",
      "__________________________________________________________________________________________________\n",
      "conv5_block3_3_bn (BatchNormali (None, 7, 7, 2048)   8192        conv5_block3_3_conv[0][0]        \n",
      "__________________________________________________________________________________________________\n",
      "conv5_block3_add (Add)          (None, 7, 7, 2048)   0           conv5_block2_out[0][0]           \n",
      "                                                                 conv5_block3_3_bn[0][0]          \n",
      "__________________________________________________________________________________________________\n",
      "conv5_block3_out (Activation)   (None, 7, 7, 2048)   0           conv5_block3_add[0][0]           \n",
      "__________________________________________________________________________________________________\n",
      "global_average_pooling2d (Globa (None, 2048)         0           conv5_block3_out[0][0]           \n",
      "__________________________________________________________________________________________________\n",
      "dense (Dense)                   (None, 1024)         2098176     global_average_pooling2d[0][0]   \n",
      "__________________________________________________________________________________________________\n",
      "dropout (Dropout)               (None, 1024)         0           dense[0][0]                      \n",
      "__________________________________________________________________________________________________\n",
      "dense_1 (Dense)                 (None, 512)          524800      dropout[0][0]                    \n",
      "__________________________________________________________________________________________________\n",
      "dropout_1 (Dropout)             (None, 512)          0           dense_1[0][0]                    \n",
      "__________________________________________________________________________________________________\n",
      "dense_2 (Dense)                 (None, 124)          63612       dropout_1[0][0]                  \n",
      "__________________________________________________________________________________________________\n",
      "dense_3 (Dense)                 (None, 25)           3125        dense_2[0][0]                    \n",
      "==================================================================================================\n",
      "Total params: 26,277,425\n",
      "Trainable params: 2,689,713\n",
      "Non-trainable params: 23,587,712\n",
      "__________________________________________________________________________________________________\n"
     ]
    }
   ],
   "source": [
    "model.summary()"
   ]
  },
  {
   "cell_type": "code",
   "execution_count": null,
   "metadata": {
    "id": "dnaREA6GqiHy"
   },
   "outputs": [],
   "source": [
    "model.compile(\n",
    "  loss='categorical_crossentropy',\n",
    "  optimizer = \"adam\",\n",
    "  metrics=['accuracy']\n",
    ")"
   ]
  },
  {
   "cell_type": "code",
   "execution_count": null,
   "metadata": {
    "id": "7lQ3Fw1KcguG"
   },
   "outputs": [],
   "source": [
    "tf.config.run_functions_eagerly(True)"
   ]
  },
  {
   "cell_type": "code",
   "execution_count": null,
   "metadata": {
    "colab": {
     "base_uri": "https://localhost:8080/"
    },
    "id": "5nrQnN-do19v",
    "outputId": "7956fb9a-3b80-4460-9581-a113bb5c4650"
   },
   "outputs": [
    {
     "name": "stderr",
     "output_type": "stream",
     "text": [
      "/usr/local/lib/python3.6/dist-packages/tensorflow/python/data/ops/dataset_ops.py:3504: UserWarning: Even though the tf.config.experimental_run_functions_eagerly option is set, this option does not apply to tf.data functions. tf.data functions are still traced and executed as graphs.\n",
      "  \"Even though the tf.config.experimental_run_functions_eagerly \"\n"
     ]
    },
    {
     "name": "stdout",
     "output_type": "stream",
     "text": [
      "Epoch 1/30\n",
      "252/252 [==============================] - 104s 383ms/step - loss: 3.4070 - accuracy: 0.2024 - val_loss: 2.2225 - val_accuracy: 0.4802\n",
      "Epoch 2/30\n",
      "252/252 [==============================] - 97s 384ms/step - loss: 2.2754 - accuracy: 0.4735 - val_loss: 2.0053 - val_accuracy: 0.5665\n",
      "Epoch 3/30\n",
      "252/252 [==============================] - 97s 385ms/step - loss: 2.0874 - accuracy: 0.5320 - val_loss: 1.8997 - val_accuracy: 0.5913\n",
      "Epoch 4/30\n",
      "252/252 [==============================] - 97s 385ms/step - loss: 1.9454 - accuracy: 0.5801 - val_loss: 1.8073 - val_accuracy: 0.6339\n",
      "Epoch 5/30\n",
      "252/252 [==============================] - 97s 384ms/step - loss: 1.8482 - accuracy: 0.5985 - val_loss: 1.7999 - val_accuracy: 0.6369\n",
      "Epoch 6/30\n",
      "252/252 [==============================] - 97s 384ms/step - loss: 1.8177 - accuracy: 0.6160 - val_loss: 1.8172 - val_accuracy: 0.6270\n",
      "Epoch 7/30\n",
      "252/252 [==============================] - 97s 384ms/step - loss: 1.6797 - accuracy: 0.6541 - val_loss: 1.7421 - val_accuracy: 0.6597\n",
      "Epoch 8/30\n",
      "252/252 [==============================] - 97s 385ms/step - loss: 1.6304 - accuracy: 0.6605 - val_loss: 1.7280 - val_accuracy: 0.6498\n",
      "Epoch 9/30\n",
      "252/252 [==============================] - 97s 384ms/step - loss: 1.5983 - accuracy: 0.6839 - val_loss: 1.7824 - val_accuracy: 0.6508\n",
      "Epoch 10/30\n",
      "252/252 [==============================] - 97s 384ms/step - loss: 1.5176 - accuracy: 0.6988 - val_loss: 1.7435 - val_accuracy: 0.6806\n",
      "Epoch 11/30\n",
      "252/252 [==============================] - 97s 384ms/step - loss: 1.4935 - accuracy: 0.7037 - val_loss: 1.7041 - val_accuracy: 0.6746\n",
      "Epoch 12/30\n",
      "252/252 [==============================] - 97s 384ms/step - loss: 1.4198 - accuracy: 0.7273 - val_loss: 1.7205 - val_accuracy: 0.6726\n",
      "Epoch 13/30\n",
      "252/252 [==============================] - 97s 384ms/step - loss: 1.4209 - accuracy: 0.7306 - val_loss: 1.7905 - val_accuracy: 0.6726\n",
      "Epoch 14/30\n",
      "252/252 [==============================] - 97s 384ms/step - loss: 1.4092 - accuracy: 0.7378 - val_loss: 1.6999 - val_accuracy: 0.6736\n",
      "Epoch 15/30\n",
      "252/252 [==============================] - 97s 383ms/step - loss: 1.3445 - accuracy: 0.7521 - val_loss: 1.7105 - val_accuracy: 0.6905\n",
      "Epoch 16/30\n",
      "252/252 [==============================] - 97s 383ms/step - loss: 1.3225 - accuracy: 0.7652 - val_loss: 1.7462 - val_accuracy: 0.6766\n",
      "Epoch 17/30\n",
      "252/252 [==============================] - 97s 384ms/step - loss: 1.2652 - accuracy: 0.7810 - val_loss: 1.7613 - val_accuracy: 0.6796\n",
      "Epoch 18/30\n",
      "252/252 [==============================] - 97s 383ms/step - loss: 1.3154 - accuracy: 0.7583 - val_loss: 1.7508 - val_accuracy: 0.6835\n",
      "Epoch 19/30\n",
      "252/252 [==============================] - 97s 383ms/step - loss: 1.2513 - accuracy: 0.7848 - val_loss: 1.7278 - val_accuracy: 0.6915\n",
      "Epoch 20/30\n",
      "252/252 [==============================] - 97s 384ms/step - loss: 1.2357 - accuracy: 0.7844 - val_loss: 1.7506 - val_accuracy: 0.6954\n",
      "Epoch 21/30\n",
      "252/252 [==============================] - 97s 384ms/step - loss: 1.2259 - accuracy: 0.7983 - val_loss: 1.8003 - val_accuracy: 0.6825\n",
      "Epoch 22/30\n",
      "252/252 [==============================] - 96s 383ms/step - loss: 1.1981 - accuracy: 0.7993 - val_loss: 1.7827 - val_accuracy: 0.6855\n",
      "Epoch 23/30\n",
      "252/252 [==============================] - 97s 384ms/step - loss: 1.1761 - accuracy: 0.8093 - val_loss: 1.8059 - val_accuracy: 0.6835\n",
      "Epoch 24/30\n",
      "252/252 [==============================] - 97s 383ms/step - loss: 1.1907 - accuracy: 0.8003 - val_loss: 1.7790 - val_accuracy: 0.6895\n",
      "Epoch 25/30\n",
      "252/252 [==============================] - 97s 383ms/step - loss: 1.1613 - accuracy: 0.8113 - val_loss: 1.7693 - val_accuracy: 0.6815\n",
      "Epoch 26/30\n",
      "252/252 [==============================] - 97s 383ms/step - loss: 1.1332 - accuracy: 0.8188 - val_loss: 1.8145 - val_accuracy: 0.6895\n",
      "Epoch 27/30\n",
      "252/252 [==============================] - 97s 384ms/step - loss: 1.0992 - accuracy: 0.8298 - val_loss: 1.8128 - val_accuracy: 0.6925\n",
      "Epoch 28/30\n",
      "252/252 [==============================] - 96s 383ms/step - loss: 1.0950 - accuracy: 0.8329 - val_loss: 1.8791 - val_accuracy: 0.6984\n",
      "Epoch 29/30\n",
      "252/252 [==============================] - 97s 384ms/step - loss: 1.1202 - accuracy: 0.8288 - val_loss: 1.9307 - val_accuracy: 0.6786\n",
      "Epoch 30/30\n",
      "252/252 [==============================] - 97s 383ms/step - loss: 1.0852 - accuracy: 0.8313 - val_loss: 1.7667 - val_accuracy: 0.6974\n"
     ]
    }
   ],
   "source": [
    "r = model.fit(data_train, labels_train,  epochs=30, validation_data=(data_validation, labels_validation),  callbacks = [TensorBoard(log_dir=\"./logs\")])"
   ]
  },
  {
   "cell_type": "markdown",
   "metadata": {},
   "source": [
    "The results are not the best one, but our model does not overfits. And the accuracy could be appropriate for 25 separate classes with numerous, different to each other samples. "
   ]
  },
  {
   "cell_type": "code",
   "execution_count": null,
   "metadata": {
    "colab": {
     "base_uri": "https://localhost:8080/",
     "height": 382
    },
    "id": "OkQQDqEJtz1O",
    "outputId": "89d531f6-84f8-401b-b9ee-04d93277cfb5"
   },
   "outputs": [],
   "source": [
    "%load_ext tensorboard\n",
    "%tensorboard --logdir logs/"
   ]
  },
  {
   "cell_type": "code",
   "execution_count": null,
   "metadata": {
    "id": "k4ZhPZEn_NfB"
   },
   "outputs": [],
   "source": [
    "loss = r.history['loss']\n",
    "val_loss = r.history['val_loss']"
   ]
  },
  {
   "cell_type": "code",
   "execution_count": null,
   "metadata": {
    "id": "TtAhWViPzWnB"
   },
   "outputs": [],
   "source": [
    "acc = r.history['accuracy']\n",
    "val_acc = r.history['val_accuracy']"
   ]
  },
  {
   "cell_type": "code",
   "execution_count": null,
   "metadata": {
    "colab": {
     "base_uri": "https://localhost:8080/",
     "height": 295
    },
    "id": "9QnaO26Ly2wc",
    "outputId": "5965b4df-5bc0-423b-b9f0-b7a922fda3c2"
   },
   "outputs": [
    {
     "data": {
      "image/png": "[encoded data removed]",
      "text/plain": [
       "<Figure size 432x288 with 1 Axes>"
      ]
     },
     "metadata": {
      "needs_background": "light",
      "tags": []
     },
     "output_type": "display_data"
    }
   ],
   "source": [
    "plt.plot(loss, label='loss')\n",
    "plt.plot(val_loss, label='val_loss')\n",
    "plt.title('History of the loss')\n",
    "plt.ylabel('value')\n",
    "plt.xlabel('No. epoch')\n",
    "plt.legend(loc=\"upper left\")\n",
    "plt.savefig('/content/drive/MyDrive/DL/Project/resnet_loss.png')\n",
    "plt.show()"
   ]
  },
  {
   "cell_type": "code",
   "execution_count": null,
   "metadata": {
    "colab": {
     "base_uri": "https://localhost:8080/",
     "height": 295
    },
    "id": "vMpIiydNzdwq",
    "outputId": "5e518f73-33be-4f7a-e4a9-6f86facc9b29"
   },
   "outputs": [
    {
     "data": {
      "image/png": "[encoded data removed]",
      "text/plain": [
       "<Figure size 432x288 with 1 Axes>"
      ]
     },
     "metadata": {
      "needs_background": "light",
      "tags": []
     },
     "output_type": "display_data"
    }
   ],
   "source": [
    "plt.plot(acc, label='accuracy')\n",
    "plt.plot(val_acc, label='val_accuracy')\n",
    "plt.title('History of the accuracy')\n",
    "plt.ylabel('value')\n",
    "plt.xlabel('No. epoch')\n",
    "plt.legend(loc=\"upper left\")\n",
    "plt.savefig('/content/drive/MyDrive/DL/Project/resnet_acc.png')\n",
    "plt.show()"
   ]
  },
  {
   "cell_type": "markdown",
   "metadata": {},
   "source": [
    "The graphs also shows appropirate patterns.\n",
    "Here we can also accept H1, because even the imbalanced data we have good training and generalization pattern. We are going to save the model and see how good it is in predicting a new, unseen data . "
   ]
  },
  {
   "cell_type": "code",
   "execution_count": null,
   "metadata": {
    "id": "VAv8-3NOHt2n"
   },
   "outputs": [],
   "source": [
    "model.save('/content/drive/MyDrive/DL/Project/resnet.hdf5')"
   ]
  },
  {
   "cell_type": "markdown",
   "metadata": {},
   "source": [
    "### Now we will load the last split with the test data ."
   ]
  },
  {
   "cell_type": "code",
   "execution_count": 8,
   "metadata": {
    "executionInfo": {
     "elapsed": 2639,
     "status": "ok",
     "timestamp": 1614009832505,
     "user": {
      "displayName": "Dimitar Indzhov",
      "photoUrl": "",
      "userId": "13032122627070087276"
     },
     "user_tz": -120
    },
    "id": "d3UjxUmeQHKy"
   },
   "outputs": [],
   "source": [
    "model = load_model('/content/drive/MyDrive/DL/Project/resnet.hdf5')"
   ]
  },
  {
   "cell_type": "code",
   "execution_count": 9,
   "metadata": {
    "executionInfo": {
     "elapsed": 8932,
     "status": "ok",
     "timestamp": 1614009839844,
     "user": {
      "displayName": "Dimitar Indzhov",
      "photoUrl": "",
      "userId": "13032122627070087276"
     },
     "user_tz": -120
    },
    "id": "wKzax4HUz0e8"
   },
   "outputs": [],
   "source": [
    "x = []\n",
    "with open(PIK4, \"rb\") as f:\n",
    "    for i in range(pickle.load(f)):\n",
    "        x.append(pickle.load(f))\n",
    "y = []\n",
    "with open(PIK5, \"rb\") as f:\n",
    "    for i in range(pickle.load(f)):\n",
    "        y.append(pickle.load(f))"
   ]
  },
  {
   "cell_type": "code",
   "execution_count": 10,
   "metadata": {
    "executionInfo": {
     "elapsed": 1143,
     "status": "ok",
     "timestamp": 1614009852693,
     "user": {
      "displayName": "Dimitar Indzhov",
      "photoUrl": "",
      "userId": "13032122627070087276"
     },
     "user_tz": -120
    },
    "id": "xe5Ulj3G0Bmj"
   },
   "outputs": [],
   "source": [
    "data_test=np.array(x)"
   ]
  },
  {
   "cell_type": "code",
   "execution_count": 12,
   "metadata": {
    "executionInfo": {
     "elapsed": 939,
     "status": "ok",
     "timestamp": 1614009877317,
     "user": {
      "displayName": "Dimitar Indzhov",
      "photoUrl": "",
      "userId": "13032122627070087276"
     },
     "user_tz": -120
    },
    "id": "-59b8DPS7LMD"
   },
   "outputs": [],
   "source": [
    "y = np.array(y)"
   ]
  },
  {
   "cell_type": "code",
   "execution_count": 13,
   "metadata": {
    "executionInfo": {
     "elapsed": 1177,
     "status": "ok",
     "timestamp": 1614009879152,
     "user": {
      "displayName": "Dimitar Indzhov",
      "photoUrl": "",
      "userId": "13032122627070087276"
     },
     "user_tz": -120
    },
    "id": "amm1O4XA7RKK"
   },
   "outputs": [],
   "source": [
    "y[y=='Achaemenid architecture']=0\n",
    "y[y=='American Foursquare architecture']=1\n",
    "y[y=='American craftsman style']=2\n",
    "y[y=='Ancient Egyptian architecture']=3\n",
    "y[y=='Art Deco architecture']=4\n",
    "y[y=='Art Nouveau architecture']=5\n",
    "y[y=='Baroque architecture']=6\n",
    "y[y=='Bauhaus architecture']=7\n",
    "y[y=='Beaux-Arts architecture']=8\n",
    "y[y=='Byzantine architecture']=9\n",
    "y[y=='Chicago school architecture']=10\n",
    "y[y=='Colonial architecture']=11\n",
    "y[y=='Deconstructivism']=12\n",
    "y[y=='Edwardian architecture']=13\n",
    "y[y=='Georgian architecture']=14\n",
    "y[y=='Gothic architecture']=15\n",
    "y[y=='Greek Revival architecture']=16\n",
    "y[y=='International style']=17\n",
    "y[y=='Novelty architecture']=18\n",
    "y[y=='Palladian architecture']=19\n",
    "y[y=='Postmodern architecture']=20\n",
    "y[y=='Queen Anne architecture']=21\n",
    "y[y=='Romanesque architecture']=22\n",
    "y[y=='Russian Revival architecture']=23\n",
    "y[y=='Tudor Revival architecture']=24"
   ]
  },
  {
   "cell_type": "code",
   "execution_count": 14,
   "metadata": {
    "executionInfo": {
     "elapsed": 929,
     "status": "ok",
     "timestamp": 1614009881968,
     "user": {
      "displayName": "Dimitar Indzhov",
      "photoUrl": "",
      "userId": "13032122627070087276"
     },
     "user_tz": -120
    },
    "id": "SVxDEL7M6pWe"
   },
   "outputs": [],
   "source": [
    "labels_test = y.astype(int)"
   ]
  },
  {
   "cell_type": "code",
   "execution_count": 15,
   "metadata": {
    "executionInfo": {
     "elapsed": 695,
     "status": "ok",
     "timestamp": 1614009883611,
     "user": {
      "displayName": "Dimitar Indzhov",
      "photoUrl": "",
      "userId": "13032122627070087276"
     },
     "user_tz": -120
    },
    "id": "bIqDFtqp3T3H"
   },
   "outputs": [],
   "source": [
    "labels_test = to_categorical(labels_test)"
   ]
  },
  {
   "cell_type": "code",
   "execution_count": 16,
   "metadata": {
    "executionInfo": {
     "elapsed": 10187,
     "status": "ok",
     "timestamp": 1614009895571,
     "user": {
      "displayName": "Dimitar Indzhov",
      "photoUrl": "",
      "userId": "13032122627070087276"
     },
     "user_tz": -120
    },
    "id": "nh0DsmHy2Zr7"
   },
   "outputs": [],
   "source": [
    "Y_pred = model.predict(data_test)\n",
    "y_pred = np.argmax(Y_pred, axis=1)"
   ]
  },
  {
   "cell_type": "code",
   "execution_count": 18,
   "metadata": {
    "executionInfo": {
     "elapsed": 901,
     "status": "ok",
     "timestamp": 1614009915644,
     "user": {
      "displayName": "Dimitar Indzhov",
      "photoUrl": "",
      "userId": "13032122627070087276"
     },
     "user_tz": -120
    },
    "id": "cXECMpJc3lun"
   },
   "outputs": [],
   "source": [
    "y_test = np.argmax(labels_test, axis=1)"
   ]
  },
  {
   "cell_type": "code",
   "execution_count": 19,
   "metadata": {
    "colab": {
     "base_uri": "https://localhost:8080/"
    },
    "executionInfo": {
     "elapsed": 932,
     "status": "ok",
     "timestamp": 1614009918062,
     "user": {
      "displayName": "Dimitar Indzhov",
      "photoUrl": "",
      "userId": "13032122627070087276"
     },
     "user_tz": -120
    },
    "id": "fSHEFQTsC91A",
    "outputId": "0570ecb7-ee0c-43df-b8e6-cd689c6db6a0"
   },
   "outputs": [
    {
     "name": "stdout",
     "output_type": "stream",
     "text": [
      "Classification Report\n",
      "                                  precision    recall  f1-score   support\n",
      "\n",
      "         Achaemenid architecture       0.56      0.74      0.64        46\n",
      "American Foursquare architecture       0.45      0.76      0.56        45\n",
      "        American craftsman style       0.47      0.28      0.35        32\n",
      "   Ancient Egyptian architecture       0.80      0.81      0.81        54\n",
      "           Art Deco architecture       0.67      0.20      0.31        20\n",
      "        Art Nouveau architecture       0.24      0.67      0.36        12\n",
      "            Baroque architecture       0.48      0.56      0.52        50\n",
      "            Bauhaus architecture       0.90      0.84      0.87        32\n",
      "         Beaux-Arts architecture       0.31      0.19      0.24        42\n",
      "          Byzantine architecture       0.54      0.48      0.51        27\n",
      "     Chicago school architecture       0.71      0.56      0.63        27\n",
      "           Colonial architecture       0.40      0.48      0.44        66\n",
      "                Deconstructivism       0.73      0.79      0.76        71\n",
      "          Edwardian architecture       0.18      0.32      0.23        38\n",
      "           Georgian architecture       0.60      0.35      0.44        34\n",
      "             Gothic architecture       0.83      0.67      0.74        51\n",
      "      Greek Revival architecture       0.62      0.63      0.62        59\n",
      "             International style       0.92      0.48      0.63        23\n",
      "            Novelty architecture       0.46      0.79      0.58        33\n",
      "          Palladian architecture       0.45      0.45      0.45        22\n",
      "         Postmodern architecture       0.43      0.25      0.32        12\n",
      "         Queen Anne architecture       0.66      0.54      0.59        39\n",
      "         Romanesque architecture       0.87      0.42      0.57        62\n",
      "    Russian Revival architecture       0.84      0.44      0.58        36\n",
      "      Tudor Revival architecture       0.55      0.55      0.55        75\n",
      "\n",
      "                        accuracy                           0.56      1008\n",
      "                       macro avg       0.59      0.53      0.53      1008\n",
      "                    weighted avg       0.60      0.56      0.56      1008\n",
      "\n"
     ]
    }
   ],
   "source": [
    "print('Classification Report')\n",
    "target_names = styles\n",
    "print(classification_report(y_test, y_pred, target_names=target_names))"
   ]
  },
  {
   "cell_type": "markdown",
   "metadata": {},
   "source": [
    "The scores for the different classes are varying. This again show the difficulty of our data, but lets see it visualy . "
   ]
  },
  {
   "cell_type": "code",
   "execution_count": 20,
   "metadata": {
    "colab": {
     "base_uri": "https://localhost:8080/",
     "height": 1000
    },
    "executionInfo": {
     "elapsed": 4578,
     "status": "ok",
     "timestamp": 1614009930942,
     "user": {
      "displayName": "Dimitar Indzhov",
      "photoUrl": "",
      "userId": "13032122627070087276"
     },
     "user_tz": -120
    },
    "id": "7B8mJp35_9jI",
    "outputId": "943c406c-3202-461a-99c9-0d97cc2cd010"
   },
   "outputs": [
    {
     "name": "stdout",
     "output_type": "stream",
     "text": [
      "Confusion matrix, without normalization\n"
     ]
    },
    {
     "data": {
      "image/png": "[encoded data removed]",
      "text/plain": [
       "<Figure size 1440x1080 with 2 Axes>"
      ]
     },
     "metadata": {
      "needs_background": "light",
      "tags": []
     },
     "output_type": "display_data"
    }
   ],
   "source": [
    "cm = confusion_matrix(y_test, y_pred)\n",
    "np.set_printoptions(precision=2)\n",
    "plt.figure(figsize=(20, 15))\n",
    "plot_confusion_matrix(cm, classes=styles)\n",
    "plt.show()"
   ]
  },
  {
   "cell_type": "markdown",
   "metadata": {},
   "source": [
    "### The true predictions are in appropriate diagonal trend. Now we will check if Inception can show better results. "
   ]
  }
 ],
 "metadata": {
  "accelerator": "GPU",
  "colab": {
   "collapsed_sections": [],
   "name": "4_Training_ResNet.ipynb",
   "provenance": []
  },
  "kernelspec": {
   "display_name": "Python 3",
   "language": "python",
   "name": "python3"
  },
  "language_info": {
   "codemirror_mode": {
    "name": "ipython",
    "version": 3
   },
   "file_extension": ".py",
   "mimetype": "text/x-python",
   "name": "python",
   "nbconvert_exporter": "python",
   "pygments_lexer": "ipython3",
   "version": "3.7.7"
  }
 },
 "nbformat": 4,
 "nbformat_minor": 1
}
