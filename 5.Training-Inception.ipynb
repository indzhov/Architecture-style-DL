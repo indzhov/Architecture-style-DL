{
 "cells": [
  {
   "cell_type": "markdown",
   "metadata": {},
   "source": [
    "## Imports : "
   ]
  },
  {
   "cell_type": "code",
   "execution_count": 1,
   "metadata": {
    "executionInfo": {
     "elapsed": 29235,
     "status": "ok",
     "timestamp": 1614017532928,
     "user": {
      "displayName": "Dimitar Indzhov",
      "photoUrl": "",
      "userId": "13032122627070087276"
     },
     "user_tz": -120
    },
    "id": "gZ9HR-BhVx1X"
   },
   "outputs": [],
   "source": [
    "from google.colab import drive\n",
    "import os \n",
    "import tempfile\n",
    "import cv2\n",
    "import numpy as np\n",
    "import matplotlib.pyplot as plt\n",
    "import pandas as pd\n",
    "import tensorflow as tf\n",
    "\n",
    "from sklearn.model_selection import train_test_split\n",
    "from tensorflow.keras.models import Model\n",
    "from keras.applications.inception_v3 import InceptionV3\n",
    "from tensorflow.keras.applications.inception_v3 import preprocess_input\n",
    "from tensorflow.keras.layers import Input, Dense, Flatten, GlobalAveragePooling2D, Dropout\n",
    "from tensorflow.keras import metrics\n",
    "from tensorflow.keras.optimizers import Adam\n",
    "from keras.utils.np_utils import to_categorical\n",
    "from tensorflow.keras.callbacks import TensorBoard\n",
    "from tensorflow.keras.callbacks import EarlyStopping\n",
    "from sklearn.metrics import confusion_matrix\n",
    "from tensorflow.keras.models import load_model\n",
    "from sklearn.metrics import classification_report, confusion_matrix\n",
    "import itertools\n",
    "import time\n",
    "import pickle"
   ]
  },
  {
   "cell_type": "code",
   "execution_count": 2,
   "metadata": {
    "colab": {
     "base_uri": "https://localhost:8080/"
    },
    "executionInfo": {
     "elapsed": 26080,
     "status": "ok",
     "timestamp": 1614017532933,
     "user": {
      "displayName": "Dimitar Indzhov",
      "photoUrl": "",
      "userId": "13032122627070087276"
     },
     "user_tz": -120
    },
    "id": "O2jqwIMGXUkr",
    "outputId": "dbc52b1f-d415-45d2-ed31-36174410a865"
   },
   "outputs": [
    {
     "name": "stdout",
     "output_type": "stream",
     "text": [
      "Drive already mounted at /content/drive; to attempt to forcibly remount, call drive.mount(\"/content/drive\", force_remount=True).\n"
     ]
    }
   ],
   "source": [
    "drive.mount('/content/drive')"
   ]
  },
  {
   "cell_type": "code",
   "execution_count": 3,
   "metadata": {
    "colab": {
     "base_uri": "https://localhost:8080/"
    },
    "executionInfo": {
     "elapsed": 23941,
     "status": "ok",
     "timestamp": 1614017532938,
     "user": {
      "displayName": "Dimitar Indzhov",
      "photoUrl": "",
      "userId": "13032122627070087276"
     },
     "user_tz": -120
    },
    "id": "K-HbBt4b7eM8",
    "outputId": "70d917e7-6a54-4cdc-e63e-5a85434b6abc"
   },
   "outputs": [
    {
     "name": "stdout",
     "output_type": "stream",
     "text": [
      "['Achaemenid architecture', 'American Foursquare architecture', 'American craftsman style', 'Ancient Egyptian architecture', 'Art Deco architecture', 'Art Nouveau architecture', 'Baroque architecture', 'Bauhaus architecture', 'Beaux-Arts architecture', 'Byzantine architecture', 'Chicago school architecture', 'Colonial architecture', 'Deconstructivism', 'Edwardian architecture', 'Georgian architecture', 'Gothic architecture', 'Greek Revival architecture', 'International style', 'Novelty architecture', 'Palladian architecture', 'Postmodern architecture', 'Queen Anne architecture', 'Romanesque architecture', 'Russian Revival architecture', 'Tudor Revival architecture']\n",
      "25\n"
     ]
    }
   ],
   "source": [
    "# Constants : \n",
    "styles = os.listdir('/content/drive/MyDrive/DL/Project/my_data')\n",
    "n_classes = (len(styles))\n",
    "print(styles)\n",
    "print(n_classes)"
   ]
  },
  {
   "cell_type": "code",
   "execution_count": 4,
   "metadata": {
    "executionInfo": {
     "elapsed": 16603,
     "status": "ok",
     "timestamp": 1614017532941,
     "user": {
      "displayName": "Dimitar Indzhov",
      "photoUrl": "",
      "userId": "13032122627070087276"
     },
     "user_tz": -120
    },
    "id": "EUVwXC6A57Y7"
   },
   "outputs": [],
   "source": [
    "# Constants : \n",
    "size = 224\n",
    "imgSize = (size, size)"
   ]
  },
  {
   "cell_type": "code",
   "execution_count": 5,
   "metadata": {
    "executionInfo": {
     "elapsed": 7132,
     "status": "ok",
     "timestamp": 1614017532945,
     "user": {
      "displayName": "Dimitar Indzhov",
      "photoUrl": "",
      "userId": "13032122627070087276"
     },
     "user_tz": -120
    },
    "id": "pEvpukyTdfGA"
   },
   "outputs": [],
   "source": [
    "def plot_confusion_matrix(cm, classes,\n",
    "                          normalize=False,\n",
    "                          title='Confusion matrix',\n",
    "                          cmap=plt.cm.Reds):\n",
    "    \"\"\"\n",
    "    This function prints and plots the confusion matrix.\n",
    "    Normalization can be applied by setting `normalize=True`.\n",
    "    \"\"\"\n",
    "    if normalize:\n",
    "        cm = cm.astype('float') / cm.sum(axis=1)[:, np.newaxis]\n",
    "        print(\"Normalized confusion matrix\")\n",
    "    else:\n",
    "        print('Confusion matrix, without normalization')\n",
    "\n",
    "    #print(cm)\n",
    "\n",
    "    plt.imshow(cm, interpolation='nearest', cmap=cmap)\n",
    "    plt.title(title,fontsize=20)\n",
    "    plt.colorbar(shrink=0.75)\n",
    "    tick_marks = np.arange(len(classes))\n",
    "    plt.xticks(tick_marks, classes, fontsize=12, rotation='vertical')\n",
    "    plt.yticks(tick_marks, classes, fontsize=12)\n",
    "\n",
    "    fmt = '.2f' if normalize else 'd'\n",
    "    thresh = cm.max() / 2.\n",
    "    for i, j in itertools.product(range(cm.shape[0]), range(cm.shape[1])):\n",
    "        plt.text(j, i, format(cm[i, j], fmt),\n",
    "                 horizontalalignment=\"center\",\n",
    "                 color=\"white\" if cm[i, j] > thresh else \"black\",\n",
    "                 fontsize=12)\n",
    "\n",
    "    plt.tight_layout()\n",
    "    plt.ylabel('Actual label',fontsize=20)\n",
    "    plt.xlabel('Predicted label',fontsize=20)"
   ]
  },
  {
   "cell_type": "code",
   "execution_count": 6,
   "metadata": {
    "executionInfo": {
     "elapsed": 6934,
     "status": "ok",
     "timestamp": 1614017532947,
     "user": {
      "displayName": "Dimitar Indzhov",
      "photoUrl": "",
      "userId": "13032122627070087276"
     },
     "user_tz": -120
    },
    "id": "YECQwRBVG9ri"
   },
   "outputs": [],
   "source": [
    "def add_regularization(model, regularizer=tf.keras.regularizers.l2(0.0001)):\n",
    "\n",
    "    if not isinstance(regularizer, tf.keras.regularizers.Regularizer):\n",
    "      print(\"Regularizer must be a subclass of tf.keras.regularizers.Regularizer\")\n",
    "      return model\n",
    "\n",
    "    for layer in model.layers:\n",
    "        for attr in ['kernel_regularizer']:\n",
    "            if hasattr(layer, attr):\n",
    "              setattr(layer, attr, regularizer)\n",
    "\n",
    "    # When we change the layers attributes, the change only happens in the model config file\n",
    "    model_json = model.to_json()\n",
    "\n",
    "    # Save the weights before reloading the model.\n",
    "    tmp_weights_path = os.path.join(tempfile.gettempdir(), 'tmp_weights.h5')\n",
    "    model.save_weights(tmp_weights_path)\n",
    "\n",
    "    # load the model from the config\n",
    "    model = tf.keras.models.model_from_json(model_json)\n",
    "    \n",
    "    # Reload the model weights\n",
    "    model.load_weights(tmp_weights_path, by_name=True)\n",
    "    return model"
   ]
  },
  {
   "cell_type": "markdown",
   "metadata": {},
   "source": [
    "## Loading the data for Inception :"
   ]
  },
  {
   "cell_type": "code",
   "execution_count": 7,
   "metadata": {
    "executionInfo": {
     "elapsed": 572,
     "status": "ok",
     "timestamp": 1614017126568,
     "user": {
      "displayName": "Dimitar Indzhov",
      "photoUrl": "",
      "userId": "13032122627070087276"
     },
     "user_tz": -120
    },
    "id": "ZykEqnDsaC2o"
   },
   "outputs": [],
   "source": [
    "PIK = \"/content/drive/MyDrive/DL/Project/x_inception.dat\"\n",
    "PIK1 = \"/content/drive/MyDrive/DL/Project/y_inception.dat\""
   ]
  },
  {
   "cell_type": "code",
   "execution_count": 8,
   "metadata": {
    "executionInfo": {
     "elapsed": 168247,
     "status": "ok",
     "timestamp": 1614017297820,
     "user": {
      "displayName": "Dimitar Indzhov",
      "photoUrl": "",
      "userId": "13032122627070087276"
     },
     "user_tz": -120
    },
    "id": "2nJdIDFJZ_Vr"
   },
   "outputs": [],
   "source": [
    "x = []\n",
    "with open(PIK, \"rb\") as f:\n",
    "    for i in range(pickle.load(f)):\n",
    "        x.append(pickle.load(f))\n",
    "y = []\n",
    "with open(PIK1, \"rb\") as f:\n",
    "    for i in range(pickle.load(f)):\n",
    "        y.append(pickle.load(f))"
   ]
  },
  {
   "cell_type": "code",
   "execution_count": 9,
   "metadata": {
    "executionInfo": {
     "elapsed": 7195,
     "status": "ok",
     "timestamp": 1614017297827,
     "user": {
      "displayName": "Dimitar Indzhov",
      "photoUrl": "",
      "userId": "13032122627070087276"
     },
     "user_tz": -120
    },
    "id": "2aXGA9fQaLjO"
   },
   "outputs": [],
   "source": [
    "# Spliting the data : \n",
    "data_train, data_test, labels_train, labels_test = train_test_split(\n",
    "x, y, train_size = 0.8, stratify = y, random_state=42)"
   ]
  },
  {
   "cell_type": "code",
   "execution_count": 10,
   "metadata": {
    "executionInfo": {
     "elapsed": 6633,
     "status": "ok",
     "timestamp": 1614017297833,
     "user": {
      "displayName": "Dimitar Indzhov",
      "photoUrl": "",
      "userId": "13032122627070087276"
     },
     "user_tz": -120
    },
    "id": "py52Aw52aMiq"
   },
   "outputs": [],
   "source": [
    "data_validation, data_test, labels_validation, labels_test = train_test_split(\n",
    "data_test, labels_test, train_size = 0.5, stratify = labels_test, random_state=42)"
   ]
  },
  {
   "cell_type": "code",
   "execution_count": 7,
   "metadata": {
    "executionInfo": {
     "elapsed": 3663,
     "status": "ok",
     "timestamp": 1614017532950,
     "user": {
      "displayName": "Dimitar Indzhov",
      "photoUrl": "",
      "userId": "13032122627070087276"
     },
     "user_tz": -120
    },
    "id": "E5GwNxVJaQge"
   },
   "outputs": [],
   "source": [
    "PIK = \"/content/drive/MyDrive/DL/Project/pickle_inception_train.dat\"\n",
    "PIK1 = \"/content/drive/MyDrive/DL/Project/pickle1_inception_train.dat\"\n",
    "PIK2 = \"/content/drive/MyDrive/DL/Project/pickle_inception_val.dat\"\n",
    "PIK3 = \"/content/drive/MyDrive/DL/Project/pickle1_inception_val.dat\"\n",
    "PIK4 = \"/content/drive/MyDrive/DL/Project/pickle_inception_test.dat\"\n",
    "PIK5 = \"/content/drive/MyDrive/DL/Project/pickle1_inception_test.dat\""
   ]
  },
  {
   "cell_type": "markdown",
   "metadata": {},
   "source": [
    "### Saving the different splits : "
   ]
  },
  {
   "cell_type": "code",
   "execution_count": 12,
   "metadata": {
    "executionInfo": {
     "elapsed": 96231,
     "status": "ok",
     "timestamp": 1614017394479,
     "user": {
      "displayName": "Dimitar Indzhov",
      "photoUrl": "",
      "userId": "13032122627070087276"
     },
     "user_tz": -120
    },
    "id": "aW8bg9YgalFx"
   },
   "outputs": [],
   "source": [
    "with open(PIK, \"wb\") as f:\n",
    "    pickle.dump(len(data_train), f)\n",
    "    for value in data_train:\n",
    "        pickle.dump(value, f)"
   ]
  },
  {
   "cell_type": "code",
   "execution_count": 13,
   "metadata": {
    "executionInfo": {
     "elapsed": 94775,
     "status": "ok",
     "timestamp": 1614017394494,
     "user": {
      "displayName": "Dimitar Indzhov",
      "photoUrl": "",
      "userId": "13032122627070087276"
     },
     "user_tz": -120
    },
    "id": "koWb-cawa7Rk"
   },
   "outputs": [],
   "source": [
    "with open(PIK1, \"wb\") as f:\n",
    "    pickle.dump(len(labels_train), f)\n",
    "    for value in labels_train:\n",
    "        pickle.dump(value, f)"
   ]
  },
  {
   "cell_type": "code",
   "execution_count": 14,
   "metadata": {
    "executionInfo": {
     "elapsed": 104716,
     "status": "ok",
     "timestamp": 1614017406736,
     "user": {
      "displayName": "Dimitar Indzhov",
      "photoUrl": "",
      "userId": "13032122627070087276"
     },
     "user_tz": -120
    },
    "id": "FkCgDBk1bF_o"
   },
   "outputs": [],
   "source": [
    "with open(PIK2, \"wb\") as f:\n",
    "    pickle.dump(len(data_validation), f)\n",
    "    for value in data_validation:\n",
    "        pickle.dump(value, f)"
   ]
  },
  {
   "cell_type": "code",
   "execution_count": 15,
   "metadata": {
    "executionInfo": {
     "elapsed": 104287,
     "status": "ok",
     "timestamp": 1614017406750,
     "user": {
      "displayName": "Dimitar Indzhov",
      "photoUrl": "",
      "userId": "13032122627070087276"
     },
     "user_tz": -120
    },
    "id": "OqiwFHHEbMza"
   },
   "outputs": [],
   "source": [
    "with open(PIK3, \"wb\") as f:\n",
    "    pickle.dump(len(labels_validation), f)\n",
    "    for value in labels_validation:\n",
    "        pickle.dump(value, f)"
   ]
  },
  {
   "cell_type": "code",
   "execution_count": 16,
   "metadata": {
    "executionInfo": {
     "elapsed": 120058,
     "status": "ok",
     "timestamp": 1614017424703,
     "user": {
      "displayName": "Dimitar Indzhov",
      "photoUrl": "",
      "userId": "13032122627070087276"
     },
     "user_tz": -120
    },
    "id": "wksXLN0vbOVL"
   },
   "outputs": [],
   "source": [
    "with open(PIK4, \"wb\") as f:\n",
    "    pickle.dump(len(data_test), f)\n",
    "    for value in data_test:\n",
    "        pickle.dump(value, f)"
   ]
  },
  {
   "cell_type": "code",
   "execution_count": 17,
   "metadata": {
    "executionInfo": {
     "elapsed": 119672,
     "status": "ok",
     "timestamp": 1614017424710,
     "user": {
      "displayName": "Dimitar Indzhov",
      "photoUrl": "",
      "userId": "13032122627070087276"
     },
     "user_tz": -120
    },
    "id": "buM2Ng8AbZUh"
   },
   "outputs": [],
   "source": [
    "with open(PIK5, \"wb\") as f:\n",
    "    pickle.dump(len(labels_test), f)\n",
    "    for value in labels_test:\n",
    "        pickle.dump(value, f)"
   ]
  },
  {
   "cell_type": "markdown",
   "metadata": {},
   "source": [
    "### Loading the train and validation split : "
   ]
  },
  {
   "cell_type": "code",
   "execution_count": 8,
   "metadata": {
    "executionInfo": {
     "elapsed": 111954,
     "status": "ok",
     "timestamp": 1614017646638,
     "user": {
      "displayName": "Dimitar Indzhov",
      "photoUrl": "",
      "userId": "13032122627070087276"
     },
     "user_tz": -120
    },
    "id": "7xUsnBAybmq-"
   },
   "outputs": [],
   "source": [
    "x = []\n",
    "with open(PIK, \"rb\") as f:\n",
    "    for i in range(pickle.load(f)):\n",
    "        x.append(pickle.load(f))\n",
    "y = []\n",
    "with open(PIK1, \"rb\") as f:\n",
    "    for i in range(pickle.load(f)):\n",
    "        y.append(pickle.load(f))"
   ]
  },
  {
   "cell_type": "code",
   "execution_count": 9,
   "metadata": {
    "executionInfo": {
     "elapsed": 101992,
     "status": "ok",
     "timestamp": 1614017652079,
     "user": {
      "displayName": "Dimitar Indzhov",
      "photoUrl": "",
      "userId": "13032122627070087276"
     },
     "user_tz": -120
    },
    "id": "eABn8xqzbc90"
   },
   "outputs": [],
   "source": [
    "data_train=np.array(x)"
   ]
  },
  {
   "cell_type": "code",
   "execution_count": 10,
   "metadata": {
    "executionInfo": {
     "elapsed": 101561,
     "status": "ok",
     "timestamp": 1614017652094,
     "user": {
      "displayName": "Dimitar Indzhov",
      "photoUrl": "",
      "userId": "13032122627070087276"
     },
     "user_tz": -120
    },
    "id": "sQhZbb8rbykn"
   },
   "outputs": [],
   "source": [
    "y = np.array(y)"
   ]
  },
  {
   "cell_type": "code",
   "execution_count": 11,
   "metadata": {
    "executionInfo": {
     "elapsed": 99244,
     "status": "ok",
     "timestamp": 1614017652096,
     "user": {
      "displayName": "Dimitar Indzhov",
      "photoUrl": "",
      "userId": "13032122627070087276"
     },
     "user_tz": -120
    },
    "id": "F8N6gkVwb-Sz"
   },
   "outputs": [],
   "source": [
    "y[y=='Achaemenid architecture']=0\n",
    "y[y=='American Foursquare architecture']=1\n",
    "y[y=='American craftsman style']=2\n",
    "y[y=='Ancient Egyptian architecture']=3\n",
    "y[y=='Art Deco architecture']=4\n",
    "y[y=='Art Nouveau architecture']=5\n",
    "y[y=='Baroque architecture']=6\n",
    "y[y=='Bauhaus architecture']=7\n",
    "y[y=='Beaux-Arts architecture']=8\n",
    "y[y=='Byzantine architecture']=9\n",
    "y[y=='Chicago school architecture']=10\n",
    "y[y=='Colonial architecture']=11\n",
    "y[y=='Deconstructivism']=12\n",
    "y[y=='Edwardian architecture']=13\n",
    "y[y=='Georgian architecture']=14\n",
    "y[y=='Gothic architecture']=15\n",
    "y[y=='Greek Revival architecture']=16\n",
    "y[y=='International style']=17\n",
    "y[y=='Novelty architecture']=18\n",
    "y[y=='Palladian architecture']=19\n",
    "y[y=='Postmodern architecture']=20\n",
    "y[y=='Queen Anne architecture']=21\n",
    "y[y=='Romanesque architecture']=22\n",
    "y[y=='Russian Revival architecture']=23\n",
    "y[y=='Tudor Revival architecture']=24"
   ]
  },
  {
   "cell_type": "code",
   "execution_count": 12,
   "metadata": {
    "executionInfo": {
     "elapsed": 98820,
     "status": "ok",
     "timestamp": 1614017652099,
     "user": {
      "displayName": "Dimitar Indzhov",
      "photoUrl": "",
      "userId": "13032122627070087276"
     },
     "user_tz": -120
    },
    "id": "XFaDmCNAcMqf"
   },
   "outputs": [],
   "source": [
    "labels_train = y.astype(int)"
   ]
  },
  {
   "cell_type": "code",
   "execution_count": 13,
   "metadata": {
    "executionInfo": {
     "elapsed": 98209,
     "status": "ok",
     "timestamp": 1614017652102,
     "user": {
      "displayName": "Dimitar Indzhov",
      "photoUrl": "",
      "userId": "13032122627070087276"
     },
     "user_tz": -120
    },
    "id": "DDTLljROcQ-O"
   },
   "outputs": [],
   "source": [
    "labels_train = to_categorical(labels_train)"
   ]
  },
  {
   "cell_type": "code",
   "execution_count": 14,
   "metadata": {
    "executionInfo": {
     "elapsed": 118070,
     "status": "ok",
     "timestamp": 1614017674281,
     "user": {
      "displayName": "Dimitar Indzhov",
      "photoUrl": "",
      "userId": "13032122627070087276"
     },
     "user_tz": -120
    },
    "id": "4pV2dF7MPjKA"
   },
   "outputs": [],
   "source": [
    "x = []\n",
    "with open(PIK2, \"rb\") as f:\n",
    "    for i in range(pickle.load(f)):\n",
    "        x.append(pickle.load(f))\n",
    "y = []\n",
    "with open(PIK3, \"rb\") as f:\n",
    "    for i in range(pickle.load(f)):\n",
    "        y.append(pickle.load(f))"
   ]
  },
  {
   "cell_type": "code",
   "execution_count": 15,
   "metadata": {
    "executionInfo": {
     "elapsed": 117632,
     "status": "ok",
     "timestamp": 1614017674283,
     "user": {
      "displayName": "Dimitar Indzhov",
      "photoUrl": "",
      "userId": "13032122627070087276"
     },
     "user_tz": -120
    },
    "id": "gFfWyeGqPyOK"
   },
   "outputs": [],
   "source": [
    "data_validation=np.array(x)"
   ]
  },
  {
   "cell_type": "code",
   "execution_count": 16,
   "metadata": {
    "executionInfo": {
     "elapsed": 117244,
     "status": "ok",
     "timestamp": 1614017674287,
     "user": {
      "displayName": "Dimitar Indzhov",
      "photoUrl": "",
      "userId": "13032122627070087276"
     },
     "user_tz": -120
    },
    "id": "qy9Haie2P1tk"
   },
   "outputs": [],
   "source": [
    "y = np.array(y)"
   ]
  },
  {
   "cell_type": "code",
   "execution_count": 17,
   "metadata": {
    "executionInfo": {
     "elapsed": 115486,
     "status": "ok",
     "timestamp": 1614017674290,
     "user": {
      "displayName": "Dimitar Indzhov",
      "photoUrl": "",
      "userId": "13032122627070087276"
     },
     "user_tz": -120
    },
    "id": "zYl8TeA9P4LR"
   },
   "outputs": [],
   "source": [
    "y[y=='Achaemenid architecture']=0\n",
    "y[y=='American Foursquare architecture']=1\n",
    "y[y=='American craftsman style']=2\n",
    "y[y=='Ancient Egyptian architecture']=3\n",
    "y[y=='Art Deco architecture']=4\n",
    "y[y=='Art Nouveau architecture']=5\n",
    "y[y=='Baroque architecture']=6\n",
    "y[y=='Bauhaus architecture']=7\n",
    "y[y=='Beaux-Arts architecture']=8\n",
    "y[y=='Byzantine architecture']=9\n",
    "y[y=='Chicago school architecture']=10\n",
    "y[y=='Colonial architecture']=11\n",
    "y[y=='Deconstructivism']=12\n",
    "y[y=='Edwardian architecture']=13\n",
    "y[y=='Georgian architecture']=14\n",
    "y[y=='Gothic architecture']=15\n",
    "y[y=='Greek Revival architecture']=16\n",
    "y[y=='International style']=17\n",
    "y[y=='Novelty architecture']=18\n",
    "y[y=='Palladian architecture']=19\n",
    "y[y=='Postmodern architecture']=20\n",
    "y[y=='Queen Anne architecture']=21\n",
    "y[y=='Romanesque architecture']=22\n",
    "y[y=='Russian Revival architecture']=23\n",
    "y[y=='Tudor Revival architecture']=24"
   ]
  },
  {
   "cell_type": "code",
   "execution_count": 18,
   "metadata": {
    "executionInfo": {
     "elapsed": 113513,
     "status": "ok",
     "timestamp": 1614017674293,
     "user": {
      "displayName": "Dimitar Indzhov",
      "photoUrl": "",
      "userId": "13032122627070087276"
     },
     "user_tz": -120
    },
    "id": "WB-8a5lyP7tZ"
   },
   "outputs": [],
   "source": [
    "labels_validation = y.astype(int)"
   ]
  },
  {
   "cell_type": "code",
   "execution_count": 19,
   "metadata": {
    "executionInfo": {
     "elapsed": 112930,
     "status": "ok",
     "timestamp": 1614017674295,
     "user": {
      "displayName": "Dimitar Indzhov",
      "photoUrl": "",
      "userId": "13032122627070087276"
     },
     "user_tz": -120
    },
    "id": "Hf2tsSdwQB1W"
   },
   "outputs": [],
   "source": [
    "labels_validation = to_categorical(labels_validation)"
   ]
  },
  {
   "cell_type": "code",
   "execution_count": 20,
   "metadata": {
    "colab": {
     "base_uri": "https://localhost:8080/"
    },
    "executionInfo": {
     "elapsed": 17945,
     "status": "ok",
     "timestamp": 1614017718194,
     "user": {
      "displayName": "Dimitar Indzhov",
      "photoUrl": "",
      "userId": "13032122627070087276"
     },
     "user_tz": -120
    },
    "id": "F_wQQ0rmppOE",
    "outputId": "42f0a1ed-b2af-469a-875f-4e28dbb3d128"
   },
   "outputs": [
    {
     "name": "stdout",
     "output_type": "stream",
     "text": [
      "Downloading data from https://storage.googleapis.com/tensorflow/keras-applications/inception_v3/inception_v3_weights_tf_dim_ordering_tf_kernels_notop.h5\n",
      "87916544/87910968 [==============================] - 1s 0us/step\n"
     ]
    }
   ],
   "source": [
    "# Loading the pre-trained model\n",
    "inception = InceptionV3(weights='imagenet', input_shape=(size,size,3), include_top=False)"
   ]
  },
  {
   "cell_type": "code",
   "execution_count": 21,
   "metadata": {
    "executionInfo": {
     "elapsed": 4292,
     "status": "ok",
     "timestamp": 1614017727594,
     "user": {
      "displayName": "Dimitar Indzhov",
      "photoUrl": "",
      "userId": "13032122627070087276"
     },
     "user_tz": -120
    },
    "id": "Mm9xX4khHEAf"
   },
   "outputs": [],
   "source": [
    "# Regulizing the model\n",
    "inception = add_regularization(inception)"
   ]
  },
  {
   "cell_type": "code",
   "execution_count": 22,
   "metadata": {
    "executionInfo": {
     "elapsed": 632,
     "status": "ok",
     "timestamp": 1614017729096,
     "user": {
      "displayName": "Dimitar Indzhov",
      "photoUrl": "",
      "userId": "13032122627070087276"
     },
     "user_tz": -120
    },
    "id": "V6Yd0whDR-rU"
   },
   "outputs": [],
   "source": [
    "# Freezing the layers : \n",
    "for layer in inception.layers:\n",
    "    layer.trainable = False"
   ]
  },
  {
   "cell_type": "code",
   "execution_count": 23,
   "metadata": {
    "executionInfo": {
     "elapsed": 833,
     "status": "ok",
     "timestamp": 1614017733572,
     "user": {
      "displayName": "Dimitar Indzhov",
      "photoUrl": "",
      "userId": "13032122627070087276"
     },
     "user_tz": -120
    },
    "id": "lr5LbBGkGc1X"
   },
   "outputs": [],
   "source": [
    "# add a global spatial average pooling layer\n",
    "x = inception.output\n",
    "x = GlobalAveragePooling2D()(x)\n",
    "x = Dense(1024, activation='relu')(x)\n",
    "# add dropout layer\n",
    "x = Dropout(0.5)(x)\n",
    "# add a fully-connected layer\n",
    "x = Dense(512, activation='relu')(x)\n",
    "# add dropout layer\n",
    "x = Dropout(0.5)(x)\n",
    "# add a fully-connected layer\n",
    "x = Dense(124, activation='relu')(x)\n",
    "# and a logistic layer\n",
    "predictions = Dense(n_classes, activation='softmax')(x)\n",
    "\n",
    "# this is the model we will train\n",
    "model = Model(inputs=inception.input, outputs=predictions)\n"
   ]
  },
  {
   "cell_type": "code",
   "execution_count": 24,
   "metadata": {
    "colab": {
     "base_uri": "https://localhost:8080/"
    },
    "executionInfo": {
     "elapsed": 854,
     "status": "ok",
     "timestamp": 1614017737054,
     "user": {
      "displayName": "Dimitar Indzhov",
      "photoUrl": "",
      "userId": "13032122627070087276"
     },
     "user_tz": -120
    },
    "id": "K9XMCICpqhJh",
    "outputId": "f65df250-7023-4fd6-962f-584afb8bf85e"
   },
   "outputs": [
    {
     "name": "stdout",
     "output_type": "stream",
     "text": [
      "Model: \"model\"\n",
      "__________________________________________________________________________________________________\n",
      "Layer (type)                    Output Shape         Param #     Connected to                     \n",
      "==================================================================================================\n",
      "input_1 (InputLayer)            [(None, 224, 224, 3) 0                                            \n",
      "__________________________________________________________________________________________________\n",
      "conv2d (Conv2D)                 (None, 111, 111, 32) 864         input_1[0][0]                    \n",
      "__________________________________________________________________________________________________\n",
      "batch_normalization (BatchNorma (None, 111, 111, 32) 96          conv2d[0][0]                     \n",
      "__________________________________________________________________________________________________\n",
      "activation (Activation)         (None, 111, 111, 32) 0           batch_normalization[0][0]        \n",
      "__________________________________________________________________________________________________\n",
      "conv2d_1 (Conv2D)               (None, 109, 109, 32) 9216        activation[0][0]                 \n",
      "__________________________________________________________________________________________________\n",
      "batch_normalization_1 (BatchNor (None, 109, 109, 32) 96          conv2d_1[0][0]                   \n",
      "__________________________________________________________________________________________________\n",
      "activation_1 (Activation)       (None, 109, 109, 32) 0           batch_normalization_1[0][0]      \n",
      "__________________________________________________________________________________________________\n",
      "conv2d_2 (Conv2D)               (None, 109, 109, 64) 18432       activation_1[0][0]               \n",
      "__________________________________________________________________________________________________\n",
      "batch_normalization_2 (BatchNor (None, 109, 109, 64) 192         conv2d_2[0][0]                   \n",
      "__________________________________________________________________________________________________\n",
      "activation_2 (Activation)       (None, 109, 109, 64) 0           batch_normalization_2[0][0]      \n",
      "__________________________________________________________________________________________________\n",
      "max_pooling2d (MaxPooling2D)    (None, 54, 54, 64)   0           activation_2[0][0]               \n",
      "__________________________________________________________________________________________________\n",
      "conv2d_3 (Conv2D)               (None, 54, 54, 80)   5120        max_pooling2d[0][0]              \n",
      "__________________________________________________________________________________________________\n",
      "batch_normalization_3 (BatchNor (None, 54, 54, 80)   240         conv2d_3[0][0]                   \n",
      "__________________________________________________________________________________________________\n",
      "activation_3 (Activation)       (None, 54, 54, 80)   0           batch_normalization_3[0][0]      \n",
      "__________________________________________________________________________________________________\n",
      "conv2d_4 (Conv2D)               (None, 52, 52, 192)  138240      activation_3[0][0]               \n",
      "__________________________________________________________________________________________________\n",
      "batch_normalization_4 (BatchNor (None, 52, 52, 192)  576         conv2d_4[0][0]                   \n",
      "__________________________________________________________________________________________________\n",
      "activation_4 (Activation)       (None, 52, 52, 192)  0           batch_normalization_4[0][0]      \n",
      "__________________________________________________________________________________________________\n",
      "max_pooling2d_1 (MaxPooling2D)  (None, 25, 25, 192)  0           activation_4[0][0]               \n",
      "__________________________________________________________________________________________________\n",
      "conv2d_8 (Conv2D)               (None, 25, 25, 64)   12288       max_pooling2d_1[0][0]            \n",
      "__________________________________________________________________________________________________\n",
      "batch_normalization_8 (BatchNor (None, 25, 25, 64)   192         conv2d_8[0][0]                   \n",
      "__________________________________________________________________________________________________\n",
      "activation_8 (Activation)       (None, 25, 25, 64)   0           batch_normalization_8[0][0]      \n",
      "__________________________________________________________________________________________________\n",
      "conv2d_6 (Conv2D)               (None, 25, 25, 48)   9216        max_pooling2d_1[0][0]            \n",
      "__________________________________________________________________________________________________\n",
      "conv2d_9 (Conv2D)               (None, 25, 25, 96)   55296       activation_8[0][0]               \n",
      "__________________________________________________________________________________________________\n",
      "batch_normalization_6 (BatchNor (None, 25, 25, 48)   144         conv2d_6[0][0]                   \n",
      "__________________________________________________________________________________________________\n",
      "batch_normalization_9 (BatchNor (None, 25, 25, 96)   288         conv2d_9[0][0]                   \n",
      "__________________________________________________________________________________________________\n",
      "activation_6 (Activation)       (None, 25, 25, 48)   0           batch_normalization_6[0][0]      \n",
      "__________________________________________________________________________________________________\n",
      "activation_9 (Activation)       (None, 25, 25, 96)   0           batch_normalization_9[0][0]      \n",
      "__________________________________________________________________________________________________\n",
      "average_pooling2d (AveragePooli (None, 25, 25, 192)  0           max_pooling2d_1[0][0]            \n",
      "__________________________________________________________________________________________________\n",
      "conv2d_5 (Conv2D)               (None, 25, 25, 64)   12288       max_pooling2d_1[0][0]            \n",
      "__________________________________________________________________________________________________\n",
      "conv2d_7 (Conv2D)               (None, 25, 25, 64)   76800       activation_6[0][0]               \n",
      "__________________________________________________________________________________________________\n",
      "conv2d_10 (Conv2D)              (None, 25, 25, 96)   82944       activation_9[0][0]               \n",
      "__________________________________________________________________________________________________\n",
      "conv2d_11 (Conv2D)              (None, 25, 25, 32)   6144        average_pooling2d[0][0]          \n",
      "__________________________________________________________________________________________________\n",
      "batch_normalization_5 (BatchNor (None, 25, 25, 64)   192         conv2d_5[0][0]                   \n",
      "__________________________________________________________________________________________________\n",
      "batch_normalization_7 (BatchNor (None, 25, 25, 64)   192         conv2d_7[0][0]                   \n",
      "__________________________________________________________________________________________________\n",
      "batch_normalization_10 (BatchNo (None, 25, 25, 96)   288         conv2d_10[0][0]                  \n",
      "__________________________________________________________________________________________________\n",
      "batch_normalization_11 (BatchNo (None, 25, 25, 32)   96          conv2d_11[0][0]                  \n",
      "__________________________________________________________________________________________________\n",
      "activation_5 (Activation)       (None, 25, 25, 64)   0           batch_normalization_5[0][0]      \n",
      "__________________________________________________________________________________________________\n",
      "activation_7 (Activation)       (None, 25, 25, 64)   0           batch_normalization_7[0][0]      \n",
      "__________________________________________________________________________________________________\n",
      "activation_10 (Activation)      (None, 25, 25, 96)   0           batch_normalization_10[0][0]     \n",
      "__________________________________________________________________________________________________\n",
      "activation_11 (Activation)      (None, 25, 25, 32)   0           batch_normalization_11[0][0]     \n",
      "__________________________________________________________________________________________________\n",
      "mixed0 (Concatenate)            (None, 25, 25, 256)  0           activation_5[0][0]               \n",
      "                                                                 activation_7[0][0]               \n",
      "                                                                 activation_10[0][0]              \n",
      "                                                                 activation_11[0][0]              \n",
      "__________________________________________________________________________________________________\n",
      "conv2d_15 (Conv2D)              (None, 25, 25, 64)   16384       mixed0[0][0]                     \n",
      "__________________________________________________________________________________________________\n",
      "batch_normalization_15 (BatchNo (None, 25, 25, 64)   192         conv2d_15[0][0]                  \n",
      "__________________________________________________________________________________________________\n",
      "activation_15 (Activation)      (None, 25, 25, 64)   0           batch_normalization_15[0][0]     \n",
      "__________________________________________________________________________________________________\n",
      "conv2d_13 (Conv2D)              (None, 25, 25, 48)   12288       mixed0[0][0]                     \n",
      "__________________________________________________________________________________________________\n",
      "conv2d_16 (Conv2D)              (None, 25, 25, 96)   55296       activation_15[0][0]              \n",
      "__________________________________________________________________________________________________\n",
      "batch_normalization_13 (BatchNo (None, 25, 25, 48)   144         conv2d_13[0][0]                  \n",
      "__________________________________________________________________________________________________\n",
      "batch_normalization_16 (BatchNo (None, 25, 25, 96)   288         conv2d_16[0][0]                  \n",
      "__________________________________________________________________________________________________\n",
      "activation_13 (Activation)      (None, 25, 25, 48)   0           batch_normalization_13[0][0]     \n",
      "__________________________________________________________________________________________________\n",
      "activation_16 (Activation)      (None, 25, 25, 96)   0           batch_normalization_16[0][0]     \n",
      "__________________________________________________________________________________________________\n",
      "average_pooling2d_1 (AveragePoo (None, 25, 25, 256)  0           mixed0[0][0]                     \n",
      "__________________________________________________________________________________________________\n",
      "conv2d_12 (Conv2D)              (None, 25, 25, 64)   16384       mixed0[0][0]                     \n",
      "__________________________________________________________________________________________________\n",
      "conv2d_14 (Conv2D)              (None, 25, 25, 64)   76800       activation_13[0][0]              \n",
      "__________________________________________________________________________________________________\n",
      "conv2d_17 (Conv2D)              (None, 25, 25, 96)   82944       activation_16[0][0]              \n",
      "__________________________________________________________________________________________________\n",
      "conv2d_18 (Conv2D)              (None, 25, 25, 64)   16384       average_pooling2d_1[0][0]        \n",
      "__________________________________________________________________________________________________\n",
      "batch_normalization_12 (BatchNo (None, 25, 25, 64)   192         conv2d_12[0][0]                  \n",
      "__________________________________________________________________________________________________\n",
      "batch_normalization_14 (BatchNo (None, 25, 25, 64)   192         conv2d_14[0][0]                  \n",
      "__________________________________________________________________________________________________\n",
      "batch_normalization_17 (BatchNo (None, 25, 25, 96)   288         conv2d_17[0][0]                  \n",
      "__________________________________________________________________________________________________\n",
      "batch_normalization_18 (BatchNo (None, 25, 25, 64)   192         conv2d_18[0][0]                  \n",
      "__________________________________________________________________________________________________\n",
      "activation_12 (Activation)      (None, 25, 25, 64)   0           batch_normalization_12[0][0]     \n",
      "__________________________________________________________________________________________________\n",
      "activation_14 (Activation)      (None, 25, 25, 64)   0           batch_normalization_14[0][0]     \n",
      "__________________________________________________________________________________________________\n",
      "activation_17 (Activation)      (None, 25, 25, 96)   0           batch_normalization_17[0][0]     \n",
      "__________________________________________________________________________________________________\n",
      "activation_18 (Activation)      (None, 25, 25, 64)   0           batch_normalization_18[0][0]     \n",
      "__________________________________________________________________________________________________\n",
      "mixed1 (Concatenate)            (None, 25, 25, 288)  0           activation_12[0][0]              \n",
      "                                                                 activation_14[0][0]              \n",
      "                                                                 activation_17[0][0]              \n",
      "                                                                 activation_18[0][0]              \n",
      "__________________________________________________________________________________________________\n",
      "conv2d_22 (Conv2D)              (None, 25, 25, 64)   18432       mixed1[0][0]                     \n",
      "__________________________________________________________________________________________________\n",
      "batch_normalization_22 (BatchNo (None, 25, 25, 64)   192         conv2d_22[0][0]                  \n",
      "__________________________________________________________________________________________________\n",
      "activation_22 (Activation)      (None, 25, 25, 64)   0           batch_normalization_22[0][0]     \n",
      "__________________________________________________________________________________________________\n",
      "conv2d_20 (Conv2D)              (None, 25, 25, 48)   13824       mixed1[0][0]                     \n",
      "__________________________________________________________________________________________________\n",
      "conv2d_23 (Conv2D)              (None, 25, 25, 96)   55296       activation_22[0][0]              \n",
      "__________________________________________________________________________________________________\n",
      "batch_normalization_20 (BatchNo (None, 25, 25, 48)   144         conv2d_20[0][0]                  \n",
      "__________________________________________________________________________________________________\n",
      "batch_normalization_23 (BatchNo (None, 25, 25, 96)   288         conv2d_23[0][0]                  \n",
      "__________________________________________________________________________________________________\n",
      "activation_20 (Activation)      (None, 25, 25, 48)   0           batch_normalization_20[0][0]     \n",
      "__________________________________________________________________________________________________\n",
      "activation_23 (Activation)      (None, 25, 25, 96)   0           batch_normalization_23[0][0]     \n",
      "__________________________________________________________________________________________________\n",
      "average_pooling2d_2 (AveragePoo (None, 25, 25, 288)  0           mixed1[0][0]                     \n",
      "__________________________________________________________________________________________________\n",
      "conv2d_19 (Conv2D)              (None, 25, 25, 64)   18432       mixed1[0][0]                     \n",
      "__________________________________________________________________________________________________\n",
      "conv2d_21 (Conv2D)              (None, 25, 25, 64)   76800       activation_20[0][0]              \n",
      "__________________________________________________________________________________________________\n",
      "conv2d_24 (Conv2D)              (None, 25, 25, 96)   82944       activation_23[0][0]              \n",
      "__________________________________________________________________________________________________\n",
      "conv2d_25 (Conv2D)              (None, 25, 25, 64)   18432       average_pooling2d_2[0][0]        \n",
      "__________________________________________________________________________________________________\n",
      "batch_normalization_19 (BatchNo (None, 25, 25, 64)   192         conv2d_19[0][0]                  \n",
      "__________________________________________________________________________________________________\n",
      "batch_normalization_21 (BatchNo (None, 25, 25, 64)   192         conv2d_21[0][0]                  \n",
      "__________________________________________________________________________________________________\n",
      "batch_normalization_24 (BatchNo (None, 25, 25, 96)   288         conv2d_24[0][0]                  \n",
      "__________________________________________________________________________________________________\n",
      "batch_normalization_25 (BatchNo (None, 25, 25, 64)   192         conv2d_25[0][0]                  \n",
      "__________________________________________________________________________________________________\n",
      "activation_19 (Activation)      (None, 25, 25, 64)   0           batch_normalization_19[0][0]     \n",
      "__________________________________________________________________________________________________\n",
      "activation_21 (Activation)      (None, 25, 25, 64)   0           batch_normalization_21[0][0]     \n",
      "__________________________________________________________________________________________________\n",
      "activation_24 (Activation)      (None, 25, 25, 96)   0           batch_normalization_24[0][0]     \n",
      "__________________________________________________________________________________________________\n",
      "activation_25 (Activation)      (None, 25, 25, 64)   0           batch_normalization_25[0][0]     \n",
      "__________________________________________________________________________________________________\n",
      "mixed2 (Concatenate)            (None, 25, 25, 288)  0           activation_19[0][0]              \n",
      "                                                                 activation_21[0][0]              \n",
      "                                                                 activation_24[0][0]              \n",
      "                                                                 activation_25[0][0]              \n",
      "__________________________________________________________________________________________________\n",
      "conv2d_27 (Conv2D)              (None, 25, 25, 64)   18432       mixed2[0][0]                     \n",
      "__________________________________________________________________________________________________\n",
      "batch_normalization_27 (BatchNo (None, 25, 25, 64)   192         conv2d_27[0][0]                  \n",
      "__________________________________________________________________________________________________\n",
      "activation_27 (Activation)      (None, 25, 25, 64)   0           batch_normalization_27[0][0]     \n",
      "__________________________________________________________________________________________________\n",
      "conv2d_28 (Conv2D)              (None, 25, 25, 96)   55296       activation_27[0][0]              \n",
      "__________________________________________________________________________________________________\n",
      "batch_normalization_28 (BatchNo (None, 25, 25, 96)   288         conv2d_28[0][0]                  \n",
      "__________________________________________________________________________________________________\n",
      "activation_28 (Activation)      (None, 25, 25, 96)   0           batch_normalization_28[0][0]     \n",
      "__________________________________________________________________________________________________\n",
      "conv2d_26 (Conv2D)              (None, 12, 12, 384)  995328      mixed2[0][0]                     \n",
      "__________________________________________________________________________________________________\n",
      "conv2d_29 (Conv2D)              (None, 12, 12, 96)   82944       activation_28[0][0]              \n",
      "__________________________________________________________________________________________________\n",
      "batch_normalization_26 (BatchNo (None, 12, 12, 384)  1152        conv2d_26[0][0]                  \n",
      "__________________________________________________________________________________________________\n",
      "batch_normalization_29 (BatchNo (None, 12, 12, 96)   288         conv2d_29[0][0]                  \n",
      "__________________________________________________________________________________________________\n",
      "activation_26 (Activation)      (None, 12, 12, 384)  0           batch_normalization_26[0][0]     \n",
      "__________________________________________________________________________________________________\n",
      "activation_29 (Activation)      (None, 12, 12, 96)   0           batch_normalization_29[0][0]     \n",
      "__________________________________________________________________________________________________\n",
      "max_pooling2d_2 (MaxPooling2D)  (None, 12, 12, 288)  0           mixed2[0][0]                     \n",
      "__________________________________________________________________________________________________\n",
      "mixed3 (Concatenate)            (None, 12, 12, 768)  0           activation_26[0][0]              \n",
      "                                                                 activation_29[0][0]              \n",
      "                                                                 max_pooling2d_2[0][0]            \n",
      "__________________________________________________________________________________________________\n",
      "conv2d_34 (Conv2D)              (None, 12, 12, 128)  98304       mixed3[0][0]                     \n",
      "__________________________________________________________________________________________________\n",
      "batch_normalization_34 (BatchNo (None, 12, 12, 128)  384         conv2d_34[0][0]                  \n",
      "__________________________________________________________________________________________________\n",
      "activation_34 (Activation)      (None, 12, 12, 128)  0           batch_normalization_34[0][0]     \n",
      "__________________________________________________________________________________________________\n",
      "conv2d_35 (Conv2D)              (None, 12, 12, 128)  114688      activation_34[0][0]              \n",
      "__________________________________________________________________________________________________\n",
      "batch_normalization_35 (BatchNo (None, 12, 12, 128)  384         conv2d_35[0][0]                  \n",
      "__________________________________________________________________________________________________\n",
      "activation_35 (Activation)      (None, 12, 12, 128)  0           batch_normalization_35[0][0]     \n",
      "__________________________________________________________________________________________________\n",
      "conv2d_31 (Conv2D)              (None, 12, 12, 128)  98304       mixed3[0][0]                     \n",
      "__________________________________________________________________________________________________\n",
      "conv2d_36 (Conv2D)              (None, 12, 12, 128)  114688      activation_35[0][0]              \n",
      "__________________________________________________________________________________________________\n",
      "batch_normalization_31 (BatchNo (None, 12, 12, 128)  384         conv2d_31[0][0]                  \n",
      "__________________________________________________________________________________________________\n",
      "batch_normalization_36 (BatchNo (None, 12, 12, 128)  384         conv2d_36[0][0]                  \n",
      "__________________________________________________________________________________________________\n",
      "activation_31 (Activation)      (None, 12, 12, 128)  0           batch_normalization_31[0][0]     \n",
      "__________________________________________________________________________________________________\n",
      "activation_36 (Activation)      (None, 12, 12, 128)  0           batch_normalization_36[0][0]     \n",
      "__________________________________________________________________________________________________\n",
      "conv2d_32 (Conv2D)              (None, 12, 12, 128)  114688      activation_31[0][0]              \n",
      "__________________________________________________________________________________________________\n",
      "conv2d_37 (Conv2D)              (None, 12, 12, 128)  114688      activation_36[0][0]              \n",
      "__________________________________________________________________________________________________\n",
      "batch_normalization_32 (BatchNo (None, 12, 12, 128)  384         conv2d_32[0][0]                  \n",
      "__________________________________________________________________________________________________\n",
      "batch_normalization_37 (BatchNo (None, 12, 12, 128)  384         conv2d_37[0][0]                  \n",
      "__________________________________________________________________________________________________\n",
      "activation_32 (Activation)      (None, 12, 12, 128)  0           batch_normalization_32[0][0]     \n",
      "__________________________________________________________________________________________________\n",
      "activation_37 (Activation)      (None, 12, 12, 128)  0           batch_normalization_37[0][0]     \n",
      "__________________________________________________________________________________________________\n",
      "average_pooling2d_3 (AveragePoo (None, 12, 12, 768)  0           mixed3[0][0]                     \n",
      "__________________________________________________________________________________________________\n",
      "conv2d_30 (Conv2D)              (None, 12, 12, 192)  147456      mixed3[0][0]                     \n",
      "__________________________________________________________________________________________________\n",
      "conv2d_33 (Conv2D)              (None, 12, 12, 192)  172032      activation_32[0][0]              \n",
      "__________________________________________________________________________________________________\n",
      "conv2d_38 (Conv2D)              (None, 12, 12, 192)  172032      activation_37[0][0]              \n",
      "__________________________________________________________________________________________________\n",
      "conv2d_39 (Conv2D)              (None, 12, 12, 192)  147456      average_pooling2d_3[0][0]        \n",
      "__________________________________________________________________________________________________\n",
      "batch_normalization_30 (BatchNo (None, 12, 12, 192)  576         conv2d_30[0][0]                  \n",
      "__________________________________________________________________________________________________\n",
      "batch_normalization_33 (BatchNo (None, 12, 12, 192)  576         conv2d_33[0][0]                  \n",
      "__________________________________________________________________________________________________\n",
      "batch_normalization_38 (BatchNo (None, 12, 12, 192)  576         conv2d_38[0][0]                  \n",
      "__________________________________________________________________________________________________\n",
      "batch_normalization_39 (BatchNo (None, 12, 12, 192)  576         conv2d_39[0][0]                  \n",
      "__________________________________________________________________________________________________\n",
      "activation_30 (Activation)      (None, 12, 12, 192)  0           batch_normalization_30[0][0]     \n",
      "__________________________________________________________________________________________________\n",
      "activation_33 (Activation)      (None, 12, 12, 192)  0           batch_normalization_33[0][0]     \n",
      "__________________________________________________________________________________________________\n",
      "activation_38 (Activation)      (None, 12, 12, 192)  0           batch_normalization_38[0][0]     \n",
      "__________________________________________________________________________________________________\n",
      "activation_39 (Activation)      (None, 12, 12, 192)  0           batch_normalization_39[0][0]     \n",
      "__________________________________________________________________________________________________\n",
      "mixed4 (Concatenate)            (None, 12, 12, 768)  0           activation_30[0][0]              \n",
      "                                                                 activation_33[0][0]              \n",
      "                                                                 activation_38[0][0]              \n",
      "                                                                 activation_39[0][0]              \n",
      "__________________________________________________________________________________________________\n",
      "conv2d_44 (Conv2D)              (None, 12, 12, 160)  122880      mixed4[0][0]                     \n",
      "__________________________________________________________________________________________________\n",
      "batch_normalization_44 (BatchNo (None, 12, 12, 160)  480         conv2d_44[0][0]                  \n",
      "__________________________________________________________________________________________________\n",
      "activation_44 (Activation)      (None, 12, 12, 160)  0           batch_normalization_44[0][0]     \n",
      "__________________________________________________________________________________________________\n",
      "conv2d_45 (Conv2D)              (None, 12, 12, 160)  179200      activation_44[0][0]              \n",
      "__________________________________________________________________________________________________\n",
      "batch_normalization_45 (BatchNo (None, 12, 12, 160)  480         conv2d_45[0][0]                  \n",
      "__________________________________________________________________________________________________\n",
      "activation_45 (Activation)      (None, 12, 12, 160)  0           batch_normalization_45[0][0]     \n",
      "__________________________________________________________________________________________________\n",
      "conv2d_41 (Conv2D)              (None, 12, 12, 160)  122880      mixed4[0][0]                     \n",
      "__________________________________________________________________________________________________\n",
      "conv2d_46 (Conv2D)              (None, 12, 12, 160)  179200      activation_45[0][0]              \n",
      "__________________________________________________________________________________________________\n",
      "batch_normalization_41 (BatchNo (None, 12, 12, 160)  480         conv2d_41[0][0]                  \n",
      "__________________________________________________________________________________________________\n",
      "batch_normalization_46 (BatchNo (None, 12, 12, 160)  480         conv2d_46[0][0]                  \n",
      "__________________________________________________________________________________________________\n",
      "activation_41 (Activation)      (None, 12, 12, 160)  0           batch_normalization_41[0][0]     \n",
      "__________________________________________________________________________________________________\n",
      "activation_46 (Activation)      (None, 12, 12, 160)  0           batch_normalization_46[0][0]     \n",
      "__________________________________________________________________________________________________\n",
      "conv2d_42 (Conv2D)              (None, 12, 12, 160)  179200      activation_41[0][0]              \n",
      "__________________________________________________________________________________________________\n",
      "conv2d_47 (Conv2D)              (None, 12, 12, 160)  179200      activation_46[0][0]              \n",
      "__________________________________________________________________________________________________\n",
      "batch_normalization_42 (BatchNo (None, 12, 12, 160)  480         conv2d_42[0][0]                  \n",
      "__________________________________________________________________________________________________\n",
      "batch_normalization_47 (BatchNo (None, 12, 12, 160)  480         conv2d_47[0][0]                  \n",
      "__________________________________________________________________________________________________\n",
      "activation_42 (Activation)      (None, 12, 12, 160)  0           batch_normalization_42[0][0]     \n",
      "__________________________________________________________________________________________________\n",
      "activation_47 (Activation)      (None, 12, 12, 160)  0           batch_normalization_47[0][0]     \n",
      "__________________________________________________________________________________________________\n",
      "average_pooling2d_4 (AveragePoo (None, 12, 12, 768)  0           mixed4[0][0]                     \n",
      "__________________________________________________________________________________________________\n",
      "conv2d_40 (Conv2D)              (None, 12, 12, 192)  147456      mixed4[0][0]                     \n",
      "__________________________________________________________________________________________________\n",
      "conv2d_43 (Conv2D)              (None, 12, 12, 192)  215040      activation_42[0][0]              \n",
      "__________________________________________________________________________________________________\n",
      "conv2d_48 (Conv2D)              (None, 12, 12, 192)  215040      activation_47[0][0]              \n",
      "__________________________________________________________________________________________________\n",
      "conv2d_49 (Conv2D)              (None, 12, 12, 192)  147456      average_pooling2d_4[0][0]        \n",
      "__________________________________________________________________________________________________\n",
      "batch_normalization_40 (BatchNo (None, 12, 12, 192)  576         conv2d_40[0][0]                  \n",
      "__________________________________________________________________________________________________\n",
      "batch_normalization_43 (BatchNo (None, 12, 12, 192)  576         conv2d_43[0][0]                  \n",
      "__________________________________________________________________________________________________\n",
      "batch_normalization_48 (BatchNo (None, 12, 12, 192)  576         conv2d_48[0][0]                  \n",
      "__________________________________________________________________________________________________\n",
      "batch_normalization_49 (BatchNo (None, 12, 12, 192)  576         conv2d_49[0][0]                  \n",
      "__________________________________________________________________________________________________\n",
      "activation_40 (Activation)      (None, 12, 12, 192)  0           batch_normalization_40[0][0]     \n",
      "__________________________________________________________________________________________________\n",
      "activation_43 (Activation)      (None, 12, 12, 192)  0           batch_normalization_43[0][0]     \n",
      "__________________________________________________________________________________________________\n",
      "activation_48 (Activation)      (None, 12, 12, 192)  0           batch_normalization_48[0][0]     \n",
      "__________________________________________________________________________________________________\n",
      "activation_49 (Activation)      (None, 12, 12, 192)  0           batch_normalization_49[0][0]     \n",
      "__________________________________________________________________________________________________\n",
      "mixed5 (Concatenate)            (None, 12, 12, 768)  0           activation_40[0][0]              \n",
      "                                                                 activation_43[0][0]              \n",
      "                                                                 activation_48[0][0]              \n",
      "                                                                 activation_49[0][0]              \n",
      "__________________________________________________________________________________________________\n",
      "conv2d_54 (Conv2D)              (None, 12, 12, 160)  122880      mixed5[0][0]                     \n",
      "__________________________________________________________________________________________________\n",
      "batch_normalization_54 (BatchNo (None, 12, 12, 160)  480         conv2d_54[0][0]                  \n",
      "__________________________________________________________________________________________________\n",
      "activation_54 (Activation)      (None, 12, 12, 160)  0           batch_normalization_54[0][0]     \n",
      "__________________________________________________________________________________________________\n",
      "conv2d_55 (Conv2D)              (None, 12, 12, 160)  179200      activation_54[0][0]              \n",
      "__________________________________________________________________________________________________\n",
      "batch_normalization_55 (BatchNo (None, 12, 12, 160)  480         conv2d_55[0][0]                  \n",
      "__________________________________________________________________________________________________\n",
      "activation_55 (Activation)      (None, 12, 12, 160)  0           batch_normalization_55[0][0]     \n",
      "__________________________________________________________________________________________________\n",
      "conv2d_51 (Conv2D)              (None, 12, 12, 160)  122880      mixed5[0][0]                     \n",
      "__________________________________________________________________________________________________\n",
      "conv2d_56 (Conv2D)              (None, 12, 12, 160)  179200      activation_55[0][0]              \n",
      "__________________________________________________________________________________________________\n",
      "batch_normalization_51 (BatchNo (None, 12, 12, 160)  480         conv2d_51[0][0]                  \n",
      "__________________________________________________________________________________________________\n",
      "batch_normalization_56 (BatchNo (None, 12, 12, 160)  480         conv2d_56[0][0]                  \n",
      "__________________________________________________________________________________________________\n",
      "activation_51 (Activation)      (None, 12, 12, 160)  0           batch_normalization_51[0][0]     \n",
      "__________________________________________________________________________________________________\n",
      "activation_56 (Activation)      (None, 12, 12, 160)  0           batch_normalization_56[0][0]     \n",
      "__________________________________________________________________________________________________\n",
      "conv2d_52 (Conv2D)              (None, 12, 12, 160)  179200      activation_51[0][0]              \n",
      "__________________________________________________________________________________________________\n",
      "conv2d_57 (Conv2D)              (None, 12, 12, 160)  179200      activation_56[0][0]              \n",
      "__________________________________________________________________________________________________\n",
      "batch_normalization_52 (BatchNo (None, 12, 12, 160)  480         conv2d_52[0][0]                  \n",
      "__________________________________________________________________________________________________\n",
      "batch_normalization_57 (BatchNo (None, 12, 12, 160)  480         conv2d_57[0][0]                  \n",
      "__________________________________________________________________________________________________\n",
      "activation_52 (Activation)      (None, 12, 12, 160)  0           batch_normalization_52[0][0]     \n",
      "__________________________________________________________________________________________________\n",
      "activation_57 (Activation)      (None, 12, 12, 160)  0           batch_normalization_57[0][0]     \n",
      "__________________________________________________________________________________________________\n",
      "average_pooling2d_5 (AveragePoo (None, 12, 12, 768)  0           mixed5[0][0]                     \n",
      "__________________________________________________________________________________________________\n",
      "conv2d_50 (Conv2D)              (None, 12, 12, 192)  147456      mixed5[0][0]                     \n",
      "__________________________________________________________________________________________________\n",
      "conv2d_53 (Conv2D)              (None, 12, 12, 192)  215040      activation_52[0][0]              \n",
      "__________________________________________________________________________________________________\n",
      "conv2d_58 (Conv2D)              (None, 12, 12, 192)  215040      activation_57[0][0]              \n",
      "__________________________________________________________________________________________________\n",
      "conv2d_59 (Conv2D)              (None, 12, 12, 192)  147456      average_pooling2d_5[0][0]        \n",
      "__________________________________________________________________________________________________\n",
      "batch_normalization_50 (BatchNo (None, 12, 12, 192)  576         conv2d_50[0][0]                  \n",
      "__________________________________________________________________________________________________\n",
      "batch_normalization_53 (BatchNo (None, 12, 12, 192)  576         conv2d_53[0][0]                  \n",
      "__________________________________________________________________________________________________\n",
      "batch_normalization_58 (BatchNo (None, 12, 12, 192)  576         conv2d_58[0][0]                  \n",
      "__________________________________________________________________________________________________\n",
      "batch_normalization_59 (BatchNo (None, 12, 12, 192)  576         conv2d_59[0][0]                  \n",
      "__________________________________________________________________________________________________\n",
      "activation_50 (Activation)      (None, 12, 12, 192)  0           batch_normalization_50[0][0]     \n",
      "__________________________________________________________________________________________________\n",
      "activation_53 (Activation)      (None, 12, 12, 192)  0           batch_normalization_53[0][0]     \n",
      "__________________________________________________________________________________________________\n",
      "activation_58 (Activation)      (None, 12, 12, 192)  0           batch_normalization_58[0][0]     \n",
      "__________________________________________________________________________________________________\n",
      "activation_59 (Activation)      (None, 12, 12, 192)  0           batch_normalization_59[0][0]     \n",
      "__________________________________________________________________________________________________\n",
      "mixed6 (Concatenate)            (None, 12, 12, 768)  0           activation_50[0][0]              \n",
      "                                                                 activation_53[0][0]              \n",
      "                                                                 activation_58[0][0]              \n",
      "                                                                 activation_59[0][0]              \n",
      "__________________________________________________________________________________________________\n",
      "conv2d_64 (Conv2D)              (None, 12, 12, 192)  147456      mixed6[0][0]                     \n",
      "__________________________________________________________________________________________________\n",
      "batch_normalization_64 (BatchNo (None, 12, 12, 192)  576         conv2d_64[0][0]                  \n",
      "__________________________________________________________________________________________________\n",
      "activation_64 (Activation)      (None, 12, 12, 192)  0           batch_normalization_64[0][0]     \n",
      "__________________________________________________________________________________________________\n",
      "conv2d_65 (Conv2D)              (None, 12, 12, 192)  258048      activation_64[0][0]              \n",
      "__________________________________________________________________________________________________\n",
      "batch_normalization_65 (BatchNo (None, 12, 12, 192)  576         conv2d_65[0][0]                  \n",
      "__________________________________________________________________________________________________\n",
      "activation_65 (Activation)      (None, 12, 12, 192)  0           batch_normalization_65[0][0]     \n",
      "__________________________________________________________________________________________________\n",
      "conv2d_61 (Conv2D)              (None, 12, 12, 192)  147456      mixed6[0][0]                     \n",
      "__________________________________________________________________________________________________\n",
      "conv2d_66 (Conv2D)              (None, 12, 12, 192)  258048      activation_65[0][0]              \n",
      "__________________________________________________________________________________________________\n",
      "batch_normalization_61 (BatchNo (None, 12, 12, 192)  576         conv2d_61[0][0]                  \n",
      "__________________________________________________________________________________________________\n",
      "batch_normalization_66 (BatchNo (None, 12, 12, 192)  576         conv2d_66[0][0]                  \n",
      "__________________________________________________________________________________________________\n",
      "activation_61 (Activation)      (None, 12, 12, 192)  0           batch_normalization_61[0][0]     \n",
      "__________________________________________________________________________________________________\n",
      "activation_66 (Activation)      (None, 12, 12, 192)  0           batch_normalization_66[0][0]     \n",
      "__________________________________________________________________________________________________\n",
      "conv2d_62 (Conv2D)              (None, 12, 12, 192)  258048      activation_61[0][0]              \n",
      "__________________________________________________________________________________________________\n",
      "conv2d_67 (Conv2D)              (None, 12, 12, 192)  258048      activation_66[0][0]              \n",
      "__________________________________________________________________________________________________\n",
      "batch_normalization_62 (BatchNo (None, 12, 12, 192)  576         conv2d_62[0][0]                  \n",
      "__________________________________________________________________________________________________\n",
      "batch_normalization_67 (BatchNo (None, 12, 12, 192)  576         conv2d_67[0][0]                  \n",
      "__________________________________________________________________________________________________\n",
      "activation_62 (Activation)      (None, 12, 12, 192)  0           batch_normalization_62[0][0]     \n",
      "__________________________________________________________________________________________________\n",
      "activation_67 (Activation)      (None, 12, 12, 192)  0           batch_normalization_67[0][0]     \n",
      "__________________________________________________________________________________________________\n",
      "average_pooling2d_6 (AveragePoo (None, 12, 12, 768)  0           mixed6[0][0]                     \n",
      "__________________________________________________________________________________________________\n",
      "conv2d_60 (Conv2D)              (None, 12, 12, 192)  147456      mixed6[0][0]                     \n",
      "__________________________________________________________________________________________________\n",
      "conv2d_63 (Conv2D)              (None, 12, 12, 192)  258048      activation_62[0][0]              \n",
      "__________________________________________________________________________________________________\n",
      "conv2d_68 (Conv2D)              (None, 12, 12, 192)  258048      activation_67[0][0]              \n",
      "__________________________________________________________________________________________________\n",
      "conv2d_69 (Conv2D)              (None, 12, 12, 192)  147456      average_pooling2d_6[0][0]        \n",
      "__________________________________________________________________________________________________\n",
      "batch_normalization_60 (BatchNo (None, 12, 12, 192)  576         conv2d_60[0][0]                  \n",
      "__________________________________________________________________________________________________\n",
      "batch_normalization_63 (BatchNo (None, 12, 12, 192)  576         conv2d_63[0][0]                  \n",
      "__________________________________________________________________________________________________\n",
      "batch_normalization_68 (BatchNo (None, 12, 12, 192)  576         conv2d_68[0][0]                  \n",
      "__________________________________________________________________________________________________\n",
      "batch_normalization_69 (BatchNo (None, 12, 12, 192)  576         conv2d_69[0][0]                  \n",
      "__________________________________________________________________________________________________\n",
      "activation_60 (Activation)      (None, 12, 12, 192)  0           batch_normalization_60[0][0]     \n",
      "__________________________________________________________________________________________________\n",
      "activation_63 (Activation)      (None, 12, 12, 192)  0           batch_normalization_63[0][0]     \n",
      "__________________________________________________________________________________________________\n",
      "activation_68 (Activation)      (None, 12, 12, 192)  0           batch_normalization_68[0][0]     \n",
      "__________________________________________________________________________________________________\n",
      "activation_69 (Activation)      (None, 12, 12, 192)  0           batch_normalization_69[0][0]     \n",
      "__________________________________________________________________________________________________\n",
      "mixed7 (Concatenate)            (None, 12, 12, 768)  0           activation_60[0][0]              \n",
      "                                                                 activation_63[0][0]              \n",
      "                                                                 activation_68[0][0]              \n",
      "                                                                 activation_69[0][0]              \n",
      "__________________________________________________________________________________________________\n",
      "conv2d_72 (Conv2D)              (None, 12, 12, 192)  147456      mixed7[0][0]                     \n",
      "__________________________________________________________________________________________________\n",
      "batch_normalization_72 (BatchNo (None, 12, 12, 192)  576         conv2d_72[0][0]                  \n",
      "__________________________________________________________________________________________________\n",
      "activation_72 (Activation)      (None, 12, 12, 192)  0           batch_normalization_72[0][0]     \n",
      "__________________________________________________________________________________________________\n",
      "conv2d_73 (Conv2D)              (None, 12, 12, 192)  258048      activation_72[0][0]              \n",
      "__________________________________________________________________________________________________\n",
      "batch_normalization_73 (BatchNo (None, 12, 12, 192)  576         conv2d_73[0][0]                  \n",
      "__________________________________________________________________________________________________\n",
      "activation_73 (Activation)      (None, 12, 12, 192)  0           batch_normalization_73[0][0]     \n",
      "__________________________________________________________________________________________________\n",
      "conv2d_70 (Conv2D)              (None, 12, 12, 192)  147456      mixed7[0][0]                     \n",
      "__________________________________________________________________________________________________\n",
      "conv2d_74 (Conv2D)              (None, 12, 12, 192)  258048      activation_73[0][0]              \n",
      "__________________________________________________________________________________________________\n",
      "batch_normalization_70 (BatchNo (None, 12, 12, 192)  576         conv2d_70[0][0]                  \n",
      "__________________________________________________________________________________________________\n",
      "batch_normalization_74 (BatchNo (None, 12, 12, 192)  576         conv2d_74[0][0]                  \n",
      "__________________________________________________________________________________________________\n",
      "activation_70 (Activation)      (None, 12, 12, 192)  0           batch_normalization_70[0][0]     \n",
      "__________________________________________________________________________________________________\n",
      "activation_74 (Activation)      (None, 12, 12, 192)  0           batch_normalization_74[0][0]     \n",
      "__________________________________________________________________________________________________\n",
      "conv2d_71 (Conv2D)              (None, 5, 5, 320)    552960      activation_70[0][0]              \n",
      "__________________________________________________________________________________________________\n",
      "conv2d_75 (Conv2D)              (None, 5, 5, 192)    331776      activation_74[0][0]              \n",
      "__________________________________________________________________________________________________\n",
      "batch_normalization_71 (BatchNo (None, 5, 5, 320)    960         conv2d_71[0][0]                  \n",
      "__________________________________________________________________________________________________\n",
      "batch_normalization_75 (BatchNo (None, 5, 5, 192)    576         conv2d_75[0][0]                  \n",
      "__________________________________________________________________________________________________\n",
      "activation_71 (Activation)      (None, 5, 5, 320)    0           batch_normalization_71[0][0]     \n",
      "__________________________________________________________________________________________________\n",
      "activation_75 (Activation)      (None, 5, 5, 192)    0           batch_normalization_75[0][0]     \n",
      "__________________________________________________________________________________________________\n",
      "max_pooling2d_3 (MaxPooling2D)  (None, 5, 5, 768)    0           mixed7[0][0]                     \n",
      "__________________________________________________________________________________________________\n",
      "mixed8 (Concatenate)            (None, 5, 5, 1280)   0           activation_71[0][0]              \n",
      "                                                                 activation_75[0][0]              \n",
      "                                                                 max_pooling2d_3[0][0]            \n",
      "__________________________________________________________________________________________________\n",
      "conv2d_80 (Conv2D)              (None, 5, 5, 448)    573440      mixed8[0][0]                     \n",
      "__________________________________________________________________________________________________\n",
      "batch_normalization_80 (BatchNo (None, 5, 5, 448)    1344        conv2d_80[0][0]                  \n",
      "__________________________________________________________________________________________________\n",
      "activation_80 (Activation)      (None, 5, 5, 448)    0           batch_normalization_80[0][0]     \n",
      "__________________________________________________________________________________________________\n",
      "conv2d_77 (Conv2D)              (None, 5, 5, 384)    491520      mixed8[0][0]                     \n",
      "__________________________________________________________________________________________________\n",
      "conv2d_81 (Conv2D)              (None, 5, 5, 384)    1548288     activation_80[0][0]              \n",
      "__________________________________________________________________________________________________\n",
      "batch_normalization_77 (BatchNo (None, 5, 5, 384)    1152        conv2d_77[0][0]                  \n",
      "__________________________________________________________________________________________________\n",
      "batch_normalization_81 (BatchNo (None, 5, 5, 384)    1152        conv2d_81[0][0]                  \n",
      "__________________________________________________________________________________________________\n",
      "activation_77 (Activation)      (None, 5, 5, 384)    0           batch_normalization_77[0][0]     \n",
      "__________________________________________________________________________________________________\n",
      "activation_81 (Activation)      (None, 5, 5, 384)    0           batch_normalization_81[0][0]     \n",
      "__________________________________________________________________________________________________\n",
      "conv2d_78 (Conv2D)              (None, 5, 5, 384)    442368      activation_77[0][0]              \n",
      "__________________________________________________________________________________________________\n",
      "conv2d_79 (Conv2D)              (None, 5, 5, 384)    442368      activation_77[0][0]              \n",
      "__________________________________________________________________________________________________\n",
      "conv2d_82 (Conv2D)              (None, 5, 5, 384)    442368      activation_81[0][0]              \n",
      "__________________________________________________________________________________________________\n",
      "conv2d_83 (Conv2D)              (None, 5, 5, 384)    442368      activation_81[0][0]              \n",
      "__________________________________________________________________________________________________\n",
      "average_pooling2d_7 (AveragePoo (None, 5, 5, 1280)   0           mixed8[0][0]                     \n",
      "__________________________________________________________________________________________________\n",
      "conv2d_76 (Conv2D)              (None, 5, 5, 320)    409600      mixed8[0][0]                     \n",
      "__________________________________________________________________________________________________\n",
      "batch_normalization_78 (BatchNo (None, 5, 5, 384)    1152        conv2d_78[0][0]                  \n",
      "__________________________________________________________________________________________________\n",
      "batch_normalization_79 (BatchNo (None, 5, 5, 384)    1152        conv2d_79[0][0]                  \n",
      "__________________________________________________________________________________________________\n",
      "batch_normalization_82 (BatchNo (None, 5, 5, 384)    1152        conv2d_82[0][0]                  \n",
      "__________________________________________________________________________________________________\n",
      "batch_normalization_83 (BatchNo (None, 5, 5, 384)    1152        conv2d_83[0][0]                  \n",
      "__________________________________________________________________________________________________\n",
      "conv2d_84 (Conv2D)              (None, 5, 5, 192)    245760      average_pooling2d_7[0][0]        \n",
      "__________________________________________________________________________________________________\n",
      "batch_normalization_76 (BatchNo (None, 5, 5, 320)    960         conv2d_76[0][0]                  \n",
      "__________________________________________________________________________________________________\n",
      "activation_78 (Activation)      (None, 5, 5, 384)    0           batch_normalization_78[0][0]     \n",
      "__________________________________________________________________________________________________\n",
      "activation_79 (Activation)      (None, 5, 5, 384)    0           batch_normalization_79[0][0]     \n",
      "__________________________________________________________________________________________________\n",
      "activation_82 (Activation)      (None, 5, 5, 384)    0           batch_normalization_82[0][0]     \n",
      "__________________________________________________________________________________________________\n",
      "activation_83 (Activation)      (None, 5, 5, 384)    0           batch_normalization_83[0][0]     \n",
      "__________________________________________________________________________________________________\n",
      "batch_normalization_84 (BatchNo (None, 5, 5, 192)    576         conv2d_84[0][0]                  \n",
      "__________________________________________________________________________________________________\n",
      "activation_76 (Activation)      (None, 5, 5, 320)    0           batch_normalization_76[0][0]     \n",
      "__________________________________________________________________________________________________\n",
      "mixed9_0 (Concatenate)          (None, 5, 5, 768)    0           activation_78[0][0]              \n",
      "                                                                 activation_79[0][0]              \n",
      "__________________________________________________________________________________________________\n",
      "concatenate (Concatenate)       (None, 5, 5, 768)    0           activation_82[0][0]              \n",
      "                                                                 activation_83[0][0]              \n",
      "__________________________________________________________________________________________________\n",
      "activation_84 (Activation)      (None, 5, 5, 192)    0           batch_normalization_84[0][0]     \n",
      "__________________________________________________________________________________________________\n",
      "mixed9 (Concatenate)            (None, 5, 5, 2048)   0           activation_76[0][0]              \n",
      "                                                                 mixed9_0[0][0]                   \n",
      "                                                                 concatenate[0][0]                \n",
      "                                                                 activation_84[0][0]              \n",
      "__________________________________________________________________________________________________\n",
      "conv2d_89 (Conv2D)              (None, 5, 5, 448)    917504      mixed9[0][0]                     \n",
      "__________________________________________________________________________________________________\n",
      "batch_normalization_89 (BatchNo (None, 5, 5, 448)    1344        conv2d_89[0][0]                  \n",
      "__________________________________________________________________________________________________\n",
      "activation_89 (Activation)      (None, 5, 5, 448)    0           batch_normalization_89[0][0]     \n",
      "__________________________________________________________________________________________________\n",
      "conv2d_86 (Conv2D)              (None, 5, 5, 384)    786432      mixed9[0][0]                     \n",
      "__________________________________________________________________________________________________\n",
      "conv2d_90 (Conv2D)              (None, 5, 5, 384)    1548288     activation_89[0][0]              \n",
      "__________________________________________________________________________________________________\n",
      "batch_normalization_86 (BatchNo (None, 5, 5, 384)    1152        conv2d_86[0][0]                  \n",
      "__________________________________________________________________________________________________\n",
      "batch_normalization_90 (BatchNo (None, 5, 5, 384)    1152        conv2d_90[0][0]                  \n",
      "__________________________________________________________________________________________________\n",
      "activation_86 (Activation)      (None, 5, 5, 384)    0           batch_normalization_86[0][0]     \n",
      "__________________________________________________________________________________________________\n",
      "activation_90 (Activation)      (None, 5, 5, 384)    0           batch_normalization_90[0][0]     \n",
      "__________________________________________________________________________________________________\n",
      "conv2d_87 (Conv2D)              (None, 5, 5, 384)    442368      activation_86[0][0]              \n",
      "__________________________________________________________________________________________________\n",
      "conv2d_88 (Conv2D)              (None, 5, 5, 384)    442368      activation_86[0][0]              \n",
      "__________________________________________________________________________________________________\n",
      "conv2d_91 (Conv2D)              (None, 5, 5, 384)    442368      activation_90[0][0]              \n",
      "__________________________________________________________________________________________________\n",
      "conv2d_92 (Conv2D)              (None, 5, 5, 384)    442368      activation_90[0][0]              \n",
      "__________________________________________________________________________________________________\n",
      "average_pooling2d_8 (AveragePoo (None, 5, 5, 2048)   0           mixed9[0][0]                     \n",
      "__________________________________________________________________________________________________\n",
      "conv2d_85 (Conv2D)              (None, 5, 5, 320)    655360      mixed9[0][0]                     \n",
      "__________________________________________________________________________________________________\n",
      "batch_normalization_87 (BatchNo (None, 5, 5, 384)    1152        conv2d_87[0][0]                  \n",
      "__________________________________________________________________________________________________\n",
      "batch_normalization_88 (BatchNo (None, 5, 5, 384)    1152        conv2d_88[0][0]                  \n",
      "__________________________________________________________________________________________________\n",
      "batch_normalization_91 (BatchNo (None, 5, 5, 384)    1152        conv2d_91[0][0]                  \n",
      "__________________________________________________________________________________________________\n",
      "batch_normalization_92 (BatchNo (None, 5, 5, 384)    1152        conv2d_92[0][0]                  \n",
      "__________________________________________________________________________________________________\n",
      "conv2d_93 (Conv2D)              (None, 5, 5, 192)    393216      average_pooling2d_8[0][0]        \n",
      "__________________________________________________________________________________________________\n",
      "batch_normalization_85 (BatchNo (None, 5, 5, 320)    960         conv2d_85[0][0]                  \n",
      "__________________________________________________________________________________________________\n",
      "activation_87 (Activation)      (None, 5, 5, 384)    0           batch_normalization_87[0][0]     \n",
      "__________________________________________________________________________________________________\n",
      "activation_88 (Activation)      (None, 5, 5, 384)    0           batch_normalization_88[0][0]     \n",
      "__________________________________________________________________________________________________\n",
      "activation_91 (Activation)      (None, 5, 5, 384)    0           batch_normalization_91[0][0]     \n",
      "__________________________________________________________________________________________________\n",
      "activation_92 (Activation)      (None, 5, 5, 384)    0           batch_normalization_92[0][0]     \n",
      "__________________________________________________________________________________________________\n",
      "batch_normalization_93 (BatchNo (None, 5, 5, 192)    576         conv2d_93[0][0]                  \n",
      "__________________________________________________________________________________________________\n",
      "activation_85 (Activation)      (None, 5, 5, 320)    0           batch_normalization_85[0][0]     \n",
      "__________________________________________________________________________________________________\n",
      "mixed9_1 (Concatenate)          (None, 5, 5, 768)    0           activation_87[0][0]              \n",
      "                                                                 activation_88[0][0]              \n",
      "__________________________________________________________________________________________________\n",
      "concatenate_1 (Concatenate)     (None, 5, 5, 768)    0           activation_91[0][0]              \n",
      "                                                                 activation_92[0][0]              \n",
      "__________________________________________________________________________________________________\n",
      "activation_93 (Activation)      (None, 5, 5, 192)    0           batch_normalization_93[0][0]     \n",
      "__________________________________________________________________________________________________\n",
      "mixed10 (Concatenate)           (None, 5, 5, 2048)   0           activation_85[0][0]              \n",
      "                                                                 mixed9_1[0][0]                   \n",
      "                                                                 concatenate_1[0][0]              \n",
      "                                                                 activation_93[0][0]              \n",
      "__________________________________________________________________________________________________\n",
      "global_average_pooling2d (Globa (None, 2048)         0           mixed10[0][0]                    \n",
      "__________________________________________________________________________________________________\n",
      "dense (Dense)                   (None, 1024)         2098176     global_average_pooling2d[0][0]   \n",
      "__________________________________________________________________________________________________\n",
      "dropout (Dropout)               (None, 1024)         0           dense[0][0]                      \n",
      "__________________________________________________________________________________________________\n",
      "dense_1 (Dense)                 (None, 512)          524800      dropout[0][0]                    \n",
      "__________________________________________________________________________________________________\n",
      "dropout_1 (Dropout)             (None, 512)          0           dense_1[0][0]                    \n",
      "__________________________________________________________________________________________________\n",
      "dense_2 (Dense)                 (None, 124)          63612       dropout_1[0][0]                  \n",
      "__________________________________________________________________________________________________\n",
      "dense_3 (Dense)                 (None, 25)           3125        dense_2[0][0]                    \n",
      "==================================================================================================\n",
      "Total params: 24,492,497\n",
      "Trainable params: 2,689,713\n",
      "Non-trainable params: 21,802,784\n",
      "__________________________________________________________________________________________________\n"
     ]
    }
   ],
   "source": [
    "model.summary()"
   ]
  },
  {
   "cell_type": "code",
   "execution_count": 25,
   "metadata": {
    "executionInfo": {
     "elapsed": 602,
     "status": "ok",
     "timestamp": 1614017741975,
     "user": {
      "displayName": "Dimitar Indzhov",
      "photoUrl": "",
      "userId": "13032122627070087276"
     },
     "user_tz": -120
    },
    "id": "dnaREA6GqiHy"
   },
   "outputs": [],
   "source": [
    "model.compile(\n",
    "  loss='categorical_crossentropy',\n",
    "  optimizer = \"adam\",\n",
    "  metrics=['accuracy']\n",
    ")"
   ]
  },
  {
   "cell_type": "code",
   "execution_count": 26,
   "metadata": {
    "executionInfo": {
     "elapsed": 581,
     "status": "ok",
     "timestamp": 1614017755386,
     "user": {
      "displayName": "Dimitar Indzhov",
      "photoUrl": "",
      "userId": "13032122627070087276"
     },
     "user_tz": -120
    },
    "id": "7lQ3Fw1KcguG"
   },
   "outputs": [],
   "source": [
    "tf.config.run_functions_eagerly(True)"
   ]
  },
  {
   "cell_type": "code",
   "execution_count": 27,
   "metadata": {
    "colab": {
     "base_uri": "https://localhost:8080/"
    },
    "executionInfo": {
     "elapsed": 2707139,
     "status": "ok",
     "timestamp": 1614020463145,
     "user": {
      "displayName": "Dimitar Indzhov",
      "photoUrl": "",
      "userId": "13032122627070087276"
     },
     "user_tz": -120
    },
    "id": "5nrQnN-do19v",
    "outputId": "c6c0bd2b-d24c-4186-e56d-b39f53faac8f"
   },
   "outputs": [
    {
     "name": "stderr",
     "output_type": "stream",
     "text": [
      "/usr/local/lib/python3.6/dist-packages/tensorflow/python/data/ops/dataset_ops.py:3504: UserWarning: Even though the tf.config.experimental_run_functions_eagerly option is set, this option does not apply to tf.data functions. tf.data functions are still traced and executed as graphs.\n",
      "  \"Even though the tf.config.experimental_run_functions_eagerly \"\n"
     ]
    },
    {
     "name": "stdout",
     "output_type": "stream",
     "text": [
      "Epoch 1/30\n",
      "252/252 [==============================] - 108s 376ms/step - loss: 4.2528 - accuracy: 0.1315 - val_loss: 3.1716 - val_accuracy: 0.3562\n",
      "Epoch 2/30\n",
      "252/252 [==============================] - 85s 337ms/step - loss: 3.2767 - accuracy: 0.3375 - val_loss: 2.8907 - val_accuracy: 0.4425\n",
      "Epoch 3/30\n",
      "252/252 [==============================] - 94s 373ms/step - loss: 3.0572 - accuracy: 0.3914 - val_loss: 2.7624 - val_accuracy: 0.5030\n",
      "Epoch 4/30\n",
      "252/252 [==============================] - 89s 355ms/step - loss: 2.9479 - accuracy: 0.4390 - val_loss: 2.7345 - val_accuracy: 0.5248\n",
      "Epoch 5/30\n",
      "252/252 [==============================] - 86s 343ms/step - loss: 2.8394 - accuracy: 0.4676 - val_loss: 2.6510 - val_accuracy: 0.5427\n",
      "Epoch 6/30\n",
      "252/252 [==============================] - 97s 386ms/step - loss: 2.7652 - accuracy: 0.4871 - val_loss: 2.6279 - val_accuracy: 0.5605\n",
      "Epoch 7/30\n",
      "252/252 [==============================] - 85s 339ms/step - loss: 2.7206 - accuracy: 0.5010 - val_loss: 2.6167 - val_accuracy: 0.5536\n",
      "Epoch 8/30\n",
      "252/252 [==============================] - 91s 361ms/step - loss: 2.6459 - accuracy: 0.5160 - val_loss: 2.6139 - val_accuracy: 0.5397\n",
      "Epoch 9/30\n",
      "252/252 [==============================] - 93s 367ms/step - loss: 2.6217 - accuracy: 0.5401 - val_loss: 2.5753 - val_accuracy: 0.5665\n",
      "Epoch 10/30\n",
      "252/252 [==============================] - 85s 336ms/step - loss: 2.5873 - accuracy: 0.5444 - val_loss: 2.5788 - val_accuracy: 0.5665\n",
      "Epoch 11/30\n",
      "252/252 [==============================] - 95s 378ms/step - loss: 2.5178 - accuracy: 0.5582 - val_loss: 2.5840 - val_accuracy: 0.5724\n",
      "Epoch 12/30\n",
      "252/252 [==============================] - 88s 350ms/step - loss: 2.5207 - accuracy: 0.5591 - val_loss: 2.5242 - val_accuracy: 0.5804\n",
      "Epoch 13/30\n",
      "252/252 [==============================] - 86s 340ms/step - loss: 2.4550 - accuracy: 0.5827 - val_loss: 2.5293 - val_accuracy: 0.5754\n",
      "Epoch 14/30\n",
      "252/252 [==============================] - 96s 382ms/step - loss: 2.4463 - accuracy: 0.5843 - val_loss: 2.5346 - val_accuracy: 0.5774\n",
      "Epoch 15/30\n",
      "252/252 [==============================] - 85s 339ms/step - loss: 2.4324 - accuracy: 0.5894 - val_loss: 2.5398 - val_accuracy: 0.5734\n",
      "Epoch 16/30\n",
      "252/252 [==============================] - 86s 340ms/step - loss: 2.4058 - accuracy: 0.5930 - val_loss: 2.5229 - val_accuracy: 0.5774\n",
      "Epoch 17/30\n",
      "252/252 [==============================] - 96s 380ms/step - loss: 2.3333 - accuracy: 0.6155 - val_loss: 2.5252 - val_accuracy: 0.5913\n",
      "Epoch 18/30\n",
      "252/252 [==============================] - 86s 341ms/step - loss: 2.4065 - accuracy: 0.6004 - val_loss: 2.5013 - val_accuracy: 0.5804\n",
      "Epoch 19/30\n",
      "252/252 [==============================] - 86s 343ms/step - loss: 2.2932 - accuracy: 0.6267 - val_loss: 2.5010 - val_accuracy: 0.5754\n",
      "Epoch 20/30\n",
      "252/252 [==============================] - 96s 382ms/step - loss: 2.2985 - accuracy: 0.6319 - val_loss: 2.4804 - val_accuracy: 0.5843\n",
      "Epoch 21/30\n",
      "252/252 [==============================] - 84s 335ms/step - loss: 2.2650 - accuracy: 0.6357 - val_loss: 2.4843 - val_accuracy: 0.6111\n",
      "Epoch 22/30\n",
      "252/252 [==============================] - 87s 345ms/step - loss: 2.2896 - accuracy: 0.6319 - val_loss: 2.4937 - val_accuracy: 0.5923\n",
      "Epoch 23/30\n",
      "252/252 [==============================] - 97s 384ms/step - loss: 2.2249 - accuracy: 0.6522 - val_loss: 2.4854 - val_accuracy: 0.5903\n",
      "Epoch 24/30\n",
      "252/252 [==============================] - 85s 337ms/step - loss: 2.2337 - accuracy: 0.6361 - val_loss: 2.5197 - val_accuracy: 0.5843\n",
      "Epoch 25/30\n",
      "252/252 [==============================] - 88s 350ms/step - loss: 2.2186 - accuracy: 0.6550 - val_loss: 2.5146 - val_accuracy: 0.5804\n",
      "Epoch 26/30\n",
      "252/252 [==============================] - 95s 376ms/step - loss: 2.2337 - accuracy: 0.6467 - val_loss: 2.4890 - val_accuracy: 0.5873\n",
      "Epoch 27/30\n",
      "252/252 [==============================] - 84s 334ms/step - loss: 2.1677 - accuracy: 0.6644 - val_loss: 2.4816 - val_accuracy: 0.5952\n",
      "Epoch 28/30\n",
      "252/252 [==============================] - 91s 360ms/step - loss: 2.1522 - accuracy: 0.6683 - val_loss: 2.4720 - val_accuracy: 0.5992\n",
      "Epoch 29/30\n",
      "252/252 [==============================] - 93s 368ms/step - loss: 2.1596 - accuracy: 0.6625 - val_loss: 2.4937 - val_accuracy: 0.5873\n",
      "Epoch 30/30\n",
      "252/252 [==============================] - 85s 336ms/step - loss: 2.1771 - accuracy: 0.6628 - val_loss: 2.4783 - val_accuracy: 0.5873\n"
     ]
    }
   ],
   "source": [
    "r = model.fit(data_train, labels_train,  epochs=30, validation_data=(data_validation, labels_validation),  callbacks = [TensorBoard(log_dir=\"./logs\")])"
   ]
  },
  {
   "cell_type": "markdown",
   "metadata": {},
   "source": [
    "### Thiss time our model performs worse than ResNet. "
   ]
  },
  {
   "cell_type": "code",
   "execution_count": null,
   "metadata": {
    "colab": {
     "base_uri": "https://localhost:8080/",
     "height": 382
    },
    "id": "OkQQDqEJtz1O",
    "outputId": "89d531f6-84f8-401b-b9ee-04d93277cfb5"
   },
   "outputs": [],
   "source": [
    "%load_ext tensorboard\n",
    "%tensorboard --logdir logs/"
   ]
  },
  {
   "cell_type": "code",
   "execution_count": 28,
   "metadata": {
    "executionInfo": {
     "elapsed": 599,
     "status": "ok",
     "timestamp": 1614020759214,
     "user": {
      "displayName": "Dimitar Indzhov",
      "photoUrl": "",
      "userId": "13032122627070087276"
     },
     "user_tz": -120
    },
    "id": "k4ZhPZEn_NfB"
   },
   "outputs": [],
   "source": [
    "loss = r.history['loss']\n",
    "val_loss = r.history['val_loss']"
   ]
  },
  {
   "cell_type": "code",
   "execution_count": 29,
   "metadata": {
    "executionInfo": {
     "elapsed": 764,
     "status": "ok",
     "timestamp": 1614020760217,
     "user": {
      "displayName": "Dimitar Indzhov",
      "photoUrl": "",
      "userId": "13032122627070087276"
     },
     "user_tz": -120
    },
    "id": "TtAhWViPzWnB"
   },
   "outputs": [],
   "source": [
    "acc = r.history['accuracy']\n",
    "val_acc = r.history['val_accuracy']"
   ]
  },
  {
   "cell_type": "code",
   "execution_count": 30,
   "metadata": {
    "colab": {
     "base_uri": "https://localhost:8080/",
     "height": 295
    },
    "executionInfo": {
     "elapsed": 1040,
     "status": "ok",
     "timestamp": 1614020769144,
     "user": {
      "displayName": "Dimitar Indzhov",
      "photoUrl": "",
      "userId": "13032122627070087276"
     },
     "user_tz": -120
    },
    "id": "9QnaO26Ly2wc",
    "outputId": "21485212-55cd-4c6f-c8c6-b9833febe46a"
   },
   "outputs": [
    {
     "data": {
      "image/png": "[encoded data removed]",
      "text/plain": [
       "<Figure size 432x288 with 1 Axes>"
      ]
     },
     "metadata": {
      "needs_background": "light",
      "tags": []
     },
     "output_type": "display_data"
    }
   ],
   "source": [
    "plt.plot(loss, label='loss')\n",
    "plt.plot(val_loss, label='val_loss')\n",
    "plt.title('History of the loss')\n",
    "plt.ylabel('value')\n",
    "plt.xlabel('No. epoch')\n",
    "plt.legend(loc=\"upper left\")\n",
    "plt.savefig('/content/drive/MyDrive/DL/Project/inception_loss.png')\n",
    "plt.show()"
   ]
  },
  {
   "cell_type": "code",
   "execution_count": 31,
   "metadata": {
    "colab": {
     "base_uri": "https://localhost:8080/",
     "height": 295
    },
    "executionInfo": {
     "elapsed": 872,
     "status": "ok",
     "timestamp": 1614020783751,
     "user": {
      "displayName": "Dimitar Indzhov",
      "photoUrl": "",
      "userId": "13032122627070087276"
     },
     "user_tz": -120
    },
    "id": "vMpIiydNzdwq",
    "outputId": "265fb941-c528-480a-f2c2-857854bbf3d9"
   },
   "outputs": [
    {
     "data": {
      "image/png": "[encoded data removed]",
      "text/plain": [
       "<Figure size 432x288 with 1 Axes>"
      ]
     },
     "metadata": {
      "needs_background": "light",
      "tags": []
     },
     "output_type": "display_data"
    }
   ],
   "source": [
    "plt.plot(acc, label='accuracy')\n",
    "plt.plot(val_acc, label='val_accuracy')\n",
    "plt.title('History of the accuracy')\n",
    "plt.ylabel('value')\n",
    "plt.xlabel('No. epoch')\n",
    "plt.legend(loc=\"upper left\")\n",
    "plt.savefig('/content/drive/MyDrive/DL/Project/inception_acc.png')\n",
    "plt.show()"
   ]
  },
  {
   "cell_type": "markdown",
   "metadata": {},
   "source": [
    "### On first sight the graphs looks even better, especially the generalization of the model. However, it is important to pay attention to their values, which clearly show us that Inception is worse. "
   ]
  },
  {
   "cell_type": "markdown",
   "metadata": {},
   "source": [
    "However, we are going to save it and see the cases which are predicted appropriately."
   ]
  },
  {
   "cell_type": "code",
   "execution_count": 32,
   "metadata": {
    "executionInfo": {
     "elapsed": 9246,
     "status": "ok",
     "timestamp": 1614020806504,
     "user": {
      "displayName": "Dimitar Indzhov",
      "photoUrl": "",
      "userId": "13032122627070087276"
     },
     "user_tz": -120
    },
    "id": "VAv8-3NOHt2n"
   },
   "outputs": [],
   "source": [
    "model.save('/content/drive/MyDrive/DL/Project/inception.hdf5')"
   ]
  },
  {
   "cell_type": "code",
   "execution_count": 44,
   "metadata": {
    "executionInfo": {
     "elapsed": 3819,
     "status": "ok",
     "timestamp": 1614021013014,
     "user": {
      "displayName": "Dimitar Indzhov",
      "photoUrl": "",
      "userId": "13032122627070087276"
     },
     "user_tz": -120
    },
    "id": "d3UjxUmeQHKy"
   },
   "outputs": [],
   "source": [
    "model = load_model('/content/drive/MyDrive/DL/Project/inception.hdf5')"
   ]
  },
  {
   "cell_type": "code",
   "execution_count": 34,
   "metadata": {
    "executionInfo": {
     "elapsed": 27428,
     "status": "ok",
     "timestamp": 1614020862011,
     "user": {
      "displayName": "Dimitar Indzhov",
      "photoUrl": "",
      "userId": "13032122627070087276"
     },
     "user_tz": -120
    },
    "id": "wKzax4HUz0e8"
   },
   "outputs": [],
   "source": [
    "x = []\n",
    "with open(PIK4, \"rb\") as f:\n",
    "    for i in range(pickle.load(f)):\n",
    "        x.append(pickle.load(f))\n",
    "y = []\n",
    "with open(PIK5, \"rb\") as f:\n",
    "    for i in range(pickle.load(f)):\n",
    "        y.append(pickle.load(f))"
   ]
  },
  {
   "cell_type": "code",
   "execution_count": 35,
   "metadata": {
    "executionInfo": {
     "elapsed": 2010,
     "status": "ok",
     "timestamp": 1614020903307,
     "user": {
      "displayName": "Dimitar Indzhov",
      "photoUrl": "",
      "userId": "13032122627070087276"
     },
     "user_tz": -120
    },
    "id": "xe5Ulj3G0Bmj"
   },
   "outputs": [],
   "source": [
    "data_test=np.array(x)"
   ]
  },
  {
   "cell_type": "code",
   "execution_count": 36,
   "metadata": {
    "executionInfo": {
     "elapsed": 1265,
     "status": "ok",
     "timestamp": 1614020903322,
     "user": {
      "displayName": "Dimitar Indzhov",
      "photoUrl": "",
      "userId": "13032122627070087276"
     },
     "user_tz": -120
    },
    "id": "-59b8DPS7LMD"
   },
   "outputs": [],
   "source": [
    "y = np.array(y)"
   ]
  },
  {
   "cell_type": "code",
   "execution_count": 37,
   "metadata": {
    "executionInfo": {
     "elapsed": 688,
     "status": "ok",
     "timestamp": 1614020907234,
     "user": {
      "displayName": "Dimitar Indzhov",
      "photoUrl": "",
      "userId": "13032122627070087276"
     },
     "user_tz": -120
    },
    "id": "amm1O4XA7RKK"
   },
   "outputs": [],
   "source": [
    "y[y=='Achaemenid architecture']=0\n",
    "y[y=='American Foursquare architecture']=1\n",
    "y[y=='American craftsman style']=2\n",
    "y[y=='Ancient Egyptian architecture']=3\n",
    "y[y=='Art Deco architecture']=4\n",
    "y[y=='Art Nouveau architecture']=5\n",
    "y[y=='Baroque architecture']=6\n",
    "y[y=='Bauhaus architecture']=7\n",
    "y[y=='Beaux-Arts architecture']=8\n",
    "y[y=='Byzantine architecture']=9\n",
    "y[y=='Chicago school architecture']=10\n",
    "y[y=='Colonial architecture']=11\n",
    "y[y=='Deconstructivism']=12\n",
    "y[y=='Edwardian architecture']=13\n",
    "y[y=='Georgian architecture']=14\n",
    "y[y=='Gothic architecture']=15\n",
    "y[y=='Greek Revival architecture']=16\n",
    "y[y=='International style']=17\n",
    "y[y=='Novelty architecture']=18\n",
    "y[y=='Palladian architecture']=19\n",
    "y[y=='Postmodern architecture']=20\n",
    "y[y=='Queen Anne architecture']=21\n",
    "y[y=='Romanesque architecture']=22\n",
    "y[y=='Russian Revival architecture']=23\n",
    "y[y=='Tudor Revival architecture']=24"
   ]
  },
  {
   "cell_type": "code",
   "execution_count": 38,
   "metadata": {
    "executionInfo": {
     "elapsed": 790,
     "status": "ok",
     "timestamp": 1614020910234,
     "user": {
      "displayName": "Dimitar Indzhov",
      "photoUrl": "",
      "userId": "13032122627070087276"
     },
     "user_tz": -120
    },
    "id": "SVxDEL7M6pWe"
   },
   "outputs": [],
   "source": [
    "labels_test = y.astype(int)"
   ]
  },
  {
   "cell_type": "code",
   "execution_count": 39,
   "metadata": {
    "executionInfo": {
     "elapsed": 603,
     "status": "ok",
     "timestamp": 1614020910669,
     "user": {
      "displayName": "Dimitar Indzhov",
      "photoUrl": "",
      "userId": "13032122627070087276"
     },
     "user_tz": -120
    },
    "id": "bIqDFtqp3T3H"
   },
   "outputs": [],
   "source": [
    "labels_test = to_categorical(labels_test)"
   ]
  },
  {
   "cell_type": "code",
   "execution_count": 45,
   "metadata": {
    "colab": {
     "base_uri": "https://localhost:8080/"
    },
    "executionInfo": {
     "elapsed": 3157,
     "status": "ok",
     "timestamp": 1614021018528,
     "user": {
      "displayName": "Dimitar Indzhov",
      "photoUrl": "",
      "userId": "13032122627070087276"
     },
     "user_tz": -120
    },
    "id": "nh0DsmHy2Zr7",
    "outputId": "449d5189-b969-4a54-a363-ead9963a8f4e"
   },
   "outputs": [
    {
     "name": "stderr",
     "output_type": "stream",
     "text": [
      "/usr/local/lib/python3.6/dist-packages/tensorflow/python/data/ops/dataset_ops.py:3504: UserWarning: Even though the tf.config.experimental_run_functions_eagerly option is set, this option does not apply to tf.data functions. tf.data functions are still traced and executed as graphs.\n",
      "  \"Even though the tf.config.experimental_run_functions_eagerly \"\n"
     ]
    }
   ],
   "source": [
    "Y_pred = model.predict(data_test)\n",
    "y_pred = np.argmax(Y_pred, axis=1)"
   ]
  },
  {
   "cell_type": "code",
   "execution_count": 46,
   "metadata": {
    "executionInfo": {
     "elapsed": 617,
     "status": "ok",
     "timestamp": 1614021027942,
     "user": {
      "displayName": "Dimitar Indzhov",
      "photoUrl": "",
      "userId": "13032122627070087276"
     },
     "user_tz": -120
    },
    "id": "cXECMpJc3lun"
   },
   "outputs": [],
   "source": [
    "y_test = np.argmax(labels_test, axis=1)"
   ]
  },
  {
   "cell_type": "code",
   "execution_count": 47,
   "metadata": {
    "colab": {
     "base_uri": "https://localhost:8080/"
    },
    "executionInfo": {
     "elapsed": 622,
     "status": "ok",
     "timestamp": 1614021030320,
     "user": {
      "displayName": "Dimitar Indzhov",
      "photoUrl": "",
      "userId": "13032122627070087276"
     },
     "user_tz": -120
    },
    "id": "cqzGczM1JZxu",
    "outputId": "d6a10f9e-ea27-413f-ed2b-0e510ecb9e6e"
   },
   "outputs": [
    {
     "data": {
      "text/plain": [
       "array([22, 13,  1, ...,  1, 15, 12])"
      ]
     },
     "execution_count": 47,
     "metadata": {
      "tags": []
     },
     "output_type": "execute_result"
    }
   ],
   "source": [
    "y_pred"
   ]
  },
  {
   "cell_type": "code",
   "execution_count": 48,
   "metadata": {
    "colab": {
     "base_uri": "https://localhost:8080/"
    },
    "executionInfo": {
     "elapsed": 704,
     "status": "ok",
     "timestamp": 1614021033255,
     "user": {
      "displayName": "Dimitar Indzhov",
      "photoUrl": "",
      "userId": "13032122627070087276"
     },
     "user_tz": -120
    },
    "id": "fSHEFQTsC91A",
    "outputId": "74c1eaef-5cbb-4cf4-e06b-bd42f8243c62"
   },
   "outputs": [
    {
     "name": "stdout",
     "output_type": "stream",
     "text": [
      "Classification Report\n",
      "                                  precision    recall  f1-score   support\n",
      "\n",
      "         Achaemenid architecture       0.75      0.65      0.70        46\n",
      "American Foursquare architecture       0.51      0.71      0.59        45\n",
      "        American craftsman style       0.45      0.31      0.37        32\n",
      "   Ancient Egyptian architecture       0.68      0.74      0.71        54\n",
      "           Art Deco architecture       0.50      0.15      0.23        20\n",
      "        Art Nouveau architecture       0.42      0.42      0.42        12\n",
      "            Baroque architecture       0.48      0.68      0.56        50\n",
      "            Bauhaus architecture       0.62      0.72      0.67        32\n",
      "         Beaux-Arts architecture       0.25      0.24      0.24        42\n",
      "          Byzantine architecture       0.73      0.41      0.52        27\n",
      "     Chicago school architecture       0.69      0.41      0.51        27\n",
      "           Colonial architecture       0.38      0.27      0.32        66\n",
      "                Deconstructivism       0.65      0.85      0.73        71\n",
      "          Edwardian architecture       0.24      0.13      0.17        38\n",
      "           Georgian architecture       0.48      0.38      0.43        34\n",
      "             Gothic architecture       0.68      0.75      0.71        51\n",
      "      Greek Revival architecture       0.54      0.75      0.62        59\n",
      "             International style       0.53      0.78      0.63        23\n",
      "            Novelty architecture       0.77      0.70      0.73        33\n",
      "          Palladian architecture       0.00      0.00      0.00        22\n",
      "         Postmodern architecture       0.50      0.17      0.25        12\n",
      "         Queen Anne architecture       0.70      0.59      0.64        39\n",
      "         Romanesque architecture       0.59      0.69      0.64        62\n",
      "    Russian Revival architecture       0.58      0.69      0.63        36\n",
      "      Tudor Revival architecture       0.59      0.63      0.61        75\n",
      "\n",
      "                        accuracy                           0.56      1008\n",
      "                       macro avg       0.53      0.51      0.51      1008\n",
      "                    weighted avg       0.55      0.56      0.54      1008\n",
      "\n"
     ]
    }
   ],
   "source": [
    "print('Classification Report')\n",
    "target_names = styles\n",
    "print(classification_report(y_test, y_pred, target_names=target_names))"
   ]
  },
  {
   "cell_type": "markdown",
   "metadata": {},
   "source": [
    "The scores are varying again. "
   ]
  },
  {
   "cell_type": "code",
   "execution_count": 49,
   "metadata": {
    "colab": {
     "base_uri": "https://localhost:8080/",
     "height": 1000
    },
    "executionInfo": {
     "elapsed": 3041,
     "status": "ok",
     "timestamp": 1614021045369,
     "user": {
      "displayName": "Dimitar Indzhov",
      "photoUrl": "",
      "userId": "13032122627070087276"
     },
     "user_tz": -120
    },
    "id": "7B8mJp35_9jI",
    "outputId": "131b3695-a36d-49b3-a2ab-c14a39c07daf"
   },
   "outputs": [
    {
     "name": "stdout",
     "output_type": "stream",
     "text": [
      "Confusion matrix, without normalization\n"
     ]
    },
    {
     "data": {
      "image/png": "[encoded data removed]",
      "text/plain": [
       "<Figure size 1440x1080 with 2 Axes>"
      ]
     },
     "metadata": {
      "needs_background": "light",
      "tags": []
     },
     "output_type": "display_data"
    }
   ],
   "source": [
    "cm = confusion_matrix(y_test, y_pred)\n",
    "np.set_printoptions(precision=2)\n",
    "plt.figure(figsize=(20, 15))\n",
    "plot_confusion_matrix(cm, classes=styles)\n",
    "plt.show()"
   ]
  },
  {
   "cell_type": "markdown",
   "metadata": {
    "id": "_Xq4LOAzJp-b"
   },
   "source": [
    "### The confusion matrix is worse than the one by ResNet. There are place where the diagonal trend is even interupted. For that reason, we are going to proceed with ResNet model for the building of the app. The files for the app could be found in the directory of the project. Now I will attach my self-assesment. "
   ]
  },
  {
   "cell_type": "markdown",
   "metadata": {},
   "source": [
    "# Deep Learning\n",
    "## Final Exam Assessment Guidelines\n",
    "\n",
    "## Project name: Architectural Style Classifier \n",
    "## Project author: Dimitar Indzhov\n",
    "\n",
    "### Terms and conditions:\n",
    "* Use Jupyter notebook for text and maths. You can use any programming language you would like.\n",
    "* Write your research and code in English. Bulgarian is also acceptable but try to use English.\n",
    "* If you have sensitive, copyrighted, or copy-protected assets, including but not limited to, images, multimedia, code, documents, and datasets,\n",
    "  you can sign an NDA (non-disclosure agreement) with the SoftUni team. Contact the lecturer if you need assistance with the process.\n",
    "* Any code which does not comply with the Bulgarian law (as of the exam date), will be given zero points.\n",
    "* Any malicious code, or code intended to do harm to the user's computer, information, or privacy, will be given zero points.\n",
    "\n",
    "By submitting your project for the exam, you agree with these terms and conditions."
   ]
  },
  {
   "cell_type": "markdown",
   "metadata": {},
   "source": [
    "### Self-assessment:\n",
    "The numbers in brackets define possible points for the corresponding item.\n",
    "Replace the numbers in brackets with your own estimation.\n",
    "** Example: **\n",
    "1. Problem statement: 7\n",
    "2. Problem description: 3\n",
    "(end of example)"
   ]
  },
  {
   "cell_type": "markdown",
   "metadata": {},
   "source": [
    "1. Problem statement (10)\n",
    "\t* How well is the problem defined?\n",
    "    The problem is well defined with a research in the particular field - Architecture. \n",
    "\t* Does the research address a real-life problem?\n",
    "    The ability to define the architectural styles of a building could take you years of academic education. The inability of the machines doing it for our self is evident in the algorithms of Google and Bing. Those search engines were used in a big part of this project, as well. However, the gathered data had to be cleaned manually with background knowledge, which show us the problem is present, and the algorithms used now have to be improved. \n",
    "\t* Does the research solve the correct problem?\n",
    "    Yes. The problem is specific to the styles of he buildings, not the buildings, as a whole. The paper and blogs used in the research are again dedicated to this specific problem. \n",
    "2. Layout (18)\n",
    "\t* Are the document sections structured properly?\n",
    "    Yes. However, the limit of Google Colab did not allow me to run the whole project on one single notebook. Even when the project was separated some of the sections had to be stoped on the middle, whiere the notebook was restarted and then started from that point. This was the only possible way for building this project. However, everything is documented. \n",
    "\t* Is the article well-formatted (in terms of readability)?\n",
    "    Yes, in the first notebooks there is a lot of information, apart from it the project have official page where everything is explained even more clearly. (all resources and links could be found in the first notebook and on the page.)\n",
    "3. Code quality (18)\n",
    "\t* Is the code well-written? Is the code self-documenting?\n",
    "    Yes, it is documented even the exact parts where some of the notebooks were restarted. \n",
    "\t* Is the code organized into functions?\n",
    "    Yes, in the begining of almost any notebook there are functions with constants. \n",
    "\t* Is the code generally well-structured?\n",
    "    Yes, it is logically structured, and with more powerful machine everything could be run in a single notebook. \n",
    "4. Previous research (10)\n",
    "\t* Have you cited at least two other sources?\n",
    "    Yes, they are even three. \n",
    "\t* Does the project contain comparisons between the current and the previous results?\n",
    "    Yes, it is pointed twice that this project sums the data from two previous sources, as well as third one (which is mine personal). Also, it is again noted that the previous project were trained on wrong data, which was recognized and cleaned from me manualy with background knowledge. Thus, as I stated in the official page : I am confident to claim that there is no better data set for such task on the network right now. \n",
    "5. Gathering / generating, cleaning, and formatting data (10)\n",
    "\t* Every problem deals with \"real-world\" data in some way. Even if you don't use datasets, you'll likely generate some data.\n",
    "    I downloaded 2/3 of my data, gathered 1/3 on my own. Finally, cleaned the culumative data. All of it is formed from real life photos. \n",
    "\t* How is the data gathered?\n",
    "    From bing search .\n",
    "\t* Is the process statistically valid?\n",
    "    Yes, it not only show results in the visualizing, but in the training with the different models. Which shows that the data for the different models was proceeded with their own \"preprocess_input\" functions. \n",
    "\t* Is the process of data acquisition, data cleaning, and data manipulation well documented?\n",
    "    Yes, however, the \"real\" cleaning is not precisely documented, as I have to do it manualy. The time for the project was not enough to write the name of every single image and my arguments for deleting it.\n",
    "6. Testing (8)\n",
    "\t* This can have various meanings: unit testing, hypothesis testing, train/test data set, etc.\n",
    "    Yes, I rised a hypothesis from the first notebook. However, it was not possible to be documented with evidence, for that reason I give my self lower points .\n",
    "\t* Is the code thoroughly tested?\n",
    "    Yes, there are places where I checked the number of the splits, the time of execution, the variance ration, or the readibility of the images in the processing. \n",
    "\t* Are there any comparisons to other implementations / other articles / previous research?\n",
    "    Yes, there is even a footnotes of codes which I used. \n",
    "7. Visualization (8)\n",
    "\t* All kinds of projects employ some visualization: graphical plots, tables, etc.\n",
    "\t* Are all visualizations correct (i.e. convey the intended meaning without misleading the intended audience)?\n",
    "    Yes, they show that the data is corectly procceded or the real life problem of not having equal examples for each architecture, which is easily understood.  \n",
    "\t* Are all visualizations clear, and easy to understand?\n",
    "    Yes, however, some of the tSNE visualizations are not quite clear. The reason is the varity of the data. \n",
    "8. Communication (10)\n",
    "\t* Does the project tell the story correctly?\n",
    "    Yes \n",
    "\t* Does the project serve the audience it was intended for?\n",
    "    Yes, as the main idea of the project is to give the lay and not very educated traveler to be engaged with the cultural information around him/her while visiting new city. For that reason, was created the app - easily usage, without going so deep in the whole project. "
   ]
  },
  {
   "cell_type": "code",
   "execution_count": null,
   "metadata": {},
   "outputs": [],
   "source": []
  }
 ],
 "metadata": {
  "accelerator": "GPU",
  "colab": {
   "collapsed_sections": [],
   "name": "5_Training_Inception.ipynb",
   "provenance": []
  },
  "kernelspec": {
   "display_name": "Python 3",
   "language": "python",
   "name": "python3"
  },
  "language_info": {
   "codemirror_mode": {
    "name": "ipython",
    "version": 3
   },
   "file_extension": ".py",
   "mimetype": "text/x-python",
   "name": "python",
   "nbconvert_exporter": "python",
   "pygments_lexer": "ipython3",
   "version": "3.7.7"
  }
 },
 "nbformat": 4,
 "nbformat_minor": 1
}
